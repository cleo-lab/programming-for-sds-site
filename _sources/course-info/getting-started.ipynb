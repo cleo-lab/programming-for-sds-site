{
 "cells": [
  {
   "cell_type": "markdown",
   "id": "c866fee3",
   "metadata": {},
   "source": [
    "# Completing assignments"
   ]
  },
  {
   "cell_type": "markdown",
   "id": "3bbf4a6b",
   "metadata": {},
   "source": [
    "In this course we will use [**JupyterLab**](https://jupyterlab.readthedocs.io/en/stable/getting_started/overview.html) to complete assignments. JupyterLab is a **free**, web-based interactive development environment (IDE) for code development."
   ]
  },
  {
   "cell_type": "markdown",
   "id": "bb13d776",
   "metadata": {},
   "source": [
    "```{admonition} Launch JupyterLab\n",
    "We can launch JupyterLab by clicking this button: [![Binder](https://mybinder.org/badge_logo.svg)](https://mybinder.org/v2/gh/owel-lab/programming-for-sds-site/HEAD)\n",
    "```"
   ]
  },
  {
   "cell_type": "markdown",
   "id": "f21da566",
   "metadata": {},
   "source": [
    "It takes a minute to spin-up but eventually we will see a new JupyterLab environment.\n",
    "\n",
    "The JupyterLab interface consists of different components such as a file browser, terminal, console, text editor, etc. The main JupyterLab component we will use during this course is **Jupyter Notebook** (with `.ipynb` extension) which can contain computer code and rich text elements (headings, lists, figures, links, etc.). Jupyter Notebooks are great for sharing code between instructor and students, executing code, and completing assignments."
   ]
  },
  {
   "cell_type": "markdown",
   "id": "1ac870d8",
   "metadata": {},
   "source": [
    "## Start assignment\n",
    "\n",
    "```{admonition} Open a new notebook\n",
    "By clicking the **Python 3 (ipykernel)** panel under **notebook**.\n",
    "```\n",
    "\n",
    "```{image} images/jupyterlab.png\n",
    ":alt: jupyterlab\n",
    ":class: bg-primary mb-1\n",
    ":width: 1000px\n",
    ":align: center\n",
    "```"
   ]
  },
  {
   "cell_type": "markdown",
   "id": "125a0587",
   "metadata": {},
   "source": [
    "## Check everything is working\n",
    "\n",
    "Copy and paste the code below into the first cell of your Jupyter Notebook."
   ]
  },
  {
   "cell_type": "code",
   "execution_count": 2,
   "id": "e67abb24",
   "metadata": {},
   "outputs": [
    {
     "data": {
      "text/plain": [
       "5"
      ]
     },
     "execution_count": 2,
     "metadata": {},
     "output_type": "execute_result"
    }
   ],
   "source": [
    "import numpy as np\n",
    "c = np.add(2,3)\n",
    "c"
   ]
  },
  {
   "cell_type": "markdown",
   "id": "2818fef4",
   "metadata": {},
   "source": [
    "Run the cells by pressing <kbd>Shift</kbd> + <kbd>Enter</kbd>. If everything is working correctly, this code block should return the number `5`."
   ]
  },
  {
   "cell_type": "markdown",
   "id": "3071255e",
   "metadata": {},
   "source": [
    "```{note}\n",
    "If you are using cloud-based computing environments (i.e. Binder) to complete weekly assignments, they can be accessed from anywhere with any computer as long as you have a good internet connection. \n",
    "```"
   ]
  },
  {
   "cell_type": "markdown",
   "id": "63754f24",
   "metadata": {},
   "source": [
    "## Save assignment\n",
    "\n",
    "Save the notebook by clicking **File** --> **Save Notebook As...** and naming the file something like `assignment-x.ipynb`, where `x` stands for the assignment number."
   ]
  },
  {
   "cell_type": "markdown",
   "id": "e0a9a74d",
   "metadata": {},
   "source": [
    "```{warning}\n",
    "Regularly download a copy of your work! The cloud computing environments are temporary and Python3 kernel will automatically shut down after 10 minutes of inactivity (if you leave a jupyterlab window open in the foreground, this will generally be counted as \"activity\").\n",
    "```\n",
    "\n",
    "```{admonition} Tip\n",
    "If you have a short period of inactivity, the kernel can be restarted by clicking **No Kernel** in the top right and selecting **Python 3 (ipykernel)**.\n",
    "```\n"
   ]
  },
  {
   "cell_type": "markdown",
   "id": "12f26f15",
   "metadata": {},
   "source": [
    "## Submit assignment\n",
    "\n",
    "When you are finished with the assignment, you can download the notebook by clicking **File** --> **Download**. This `.ipynb` file should be moved to your local course folder and submitted via Canvas."
   ]
  }
 ],
 "metadata": {
  "kernelspec": {
   "display_name": "Python 3 (ipykernel)",
   "language": "python",
   "name": "python3"
  },
  "language_info": {
   "codemirror_mode": {
    "name": "ipython",
    "version": 3
   },
   "file_extension": ".py",
   "mimetype": "text/x-python",
   "name": "python",
   "nbconvert_exporter": "python",
   "pygments_lexer": "ipython3",
   "version": "3.8.12"
  }
 },
 "nbformat": 4,
 "nbformat_minor": 5
}
