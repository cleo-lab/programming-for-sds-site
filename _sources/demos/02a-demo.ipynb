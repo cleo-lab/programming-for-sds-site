{
 "cells": [
  {
   "cell_type": "markdown",
   "id": "6b2f8da8",
   "metadata": {},
   "source": [
    "# NumPy arrays\n",
    "\n",
    "While Python contains a few, general built-in tools, specialized tools are provided by libraries that have to be imported.\n",
    "\n",
    "One of the most commonly used libraries is called `NumPy`, which stands for **Numerical Python**. In general, we should be using this library when we are working with numbers. \n",
    "\n",
    "We can access the functions provided by `NumPy` using the import statement and module name (e.g. `import numpy`). However, it is standard procedure to shorten the imported name to `np` for better code readability. This is a widely adopted convention that we should follow so that anyone working with our code can easily understand it."
   ]
  },
  {
   "cell_type": "code",
   "execution_count": 1,
   "id": "14950ec0",
   "metadata": {},
   "outputs": [],
   "source": [
    "import numpy as np"
   ]
  },
  {
   "cell_type": "markdown",
   "id": "758c9c60",
   "metadata": {},
   "source": [
    "Special types of lists called `ndarrays`. We can define an array using the function `np.array` with some parentheses and square brackets. "
   ]
  },
  {
   "cell_type": "code",
   "execution_count": 18,
   "id": "ccf1f1a5",
   "metadata": {},
   "outputs": [],
   "source": [
    "# Define an array with containing populations of 22 largest countries\n",
    "population = np.array([69799978,   67391582,  212559409,   89561404,  273523621,\n",
    "                       102334403,  220892331, 1380004385,   83992953,  329484123,\n",
    "                       84339067,  109581085,  206139587,  164689383,  144104080,\n",
    "                       97338583,   67215293,  125836021,  114963583,   83240525,\n",
    "                       1410929362,  128932753])"
   ]
  },
  {
   "cell_type": "markdown",
   "id": "60be2a53",
   "metadata": {},
   "source": [
    "## Shape and size\n",
    "\n",
    "Once our data is in `ndarray` format, we can use `NumPy` functions to investigate our data.  We can find the total number of elements in the array by running:"
   ]
  },
  {
   "cell_type": "code",
   "execution_count": 34,
   "id": "ff410755",
   "metadata": {},
   "outputs": [
    {
     "data": {
      "text/plain": [
       "22"
      ]
     },
     "execution_count": 34,
     "metadata": {},
     "output_type": "execute_result"
    }
   ],
   "source": [
    "np.size(population)"
   ]
  },
  {
   "cell_type": "markdown",
   "id": "570b53f5",
   "metadata": {},
   "source": [
    "And we can find the shape (number of rows, columns) of the array by running:"
   ]
  },
  {
   "cell_type": "code",
   "execution_count": 35,
   "id": "38f05caf",
   "metadata": {},
   "outputs": [
    {
     "data": {
      "text/plain": [
       "(22,)"
      ]
     },
     "execution_count": 35,
     "metadata": {},
     "output_type": "execute_result"
    }
   ],
   "source": [
    "np.shape(population)"
   ]
  },
  {
   "cell_type": "markdown",
   "id": "5fb7f770",
   "metadata": {},
   "source": [
    "## Statistics\n",
    "\n",
    "We can also use `NumPy` functions to find statistics of our data. For example:"
   ]
  },
  {
   "cell_type": "code",
   "execution_count": 37,
   "id": "eeaa5055",
   "metadata": {},
   "outputs": [
    {
     "data": {
      "text/plain": [
       "253038795.95454547"
      ]
     },
     "execution_count": 37,
     "metadata": {},
     "output_type": "execute_result"
    }
   ],
   "source": [
    "# Mean\n",
    "np.mean(population)"
   ]
  },
  {
   "cell_type": "code",
   "execution_count": 39,
   "id": "c530af23",
   "metadata": {},
   "outputs": [
    {
     "data": {
      "text/plain": [
       "120399802.0"
      ]
     },
     "execution_count": 39,
     "metadata": {},
     "output_type": "execute_result"
    }
   ],
   "source": [
    "# Median\n",
    "np.median(population)"
   ]
  },
  {
   "cell_type": "code",
   "execution_count": 38,
   "id": "2f6dbc81",
   "metadata": {},
   "outputs": [
    {
     "data": {
      "text/plain": [
       "1410929362"
      ]
     },
     "execution_count": 38,
     "metadata": {},
     "output_type": "execute_result"
    }
   ],
   "source": [
    "# Max\n",
    "np.max(population)"
   ]
  },
  {
   "cell_type": "code",
   "execution_count": 42,
   "id": "ba652b8f",
   "metadata": {},
   "outputs": [
    {
     "data": {
      "text/plain": [
       "67215293"
      ]
     },
     "execution_count": 42,
     "metadata": {},
     "output_type": "execute_result"
    }
   ],
   "source": [
    "# Min\n",
    "np.min(population)"
   ]
  },
  {
   "cell_type": "code",
   "execution_count": 43,
   "id": "4a8fb7db",
   "metadata": {},
   "outputs": [
    {
     "data": {
      "text/plain": [
       "367727397.7396083"
      ]
     },
     "execution_count": 43,
     "metadata": {},
     "output_type": "execute_result"
    }
   ],
   "source": [
    "# Standard deviation\n",
    "np.std(population)"
   ]
  },
  {
   "cell_type": "code",
   "execution_count": 46,
   "id": "1b4567b5",
   "metadata": {},
   "outputs": [
    {
     "data": {
      "text/plain": [
       "5566853511"
      ]
     },
     "execution_count": 46,
     "metadata": {},
     "output_type": "execute_result"
    }
   ],
   "source": [
    "# Sum\n",
    "np.sum(population)"
   ]
  },
  {
   "cell_type": "markdown",
   "id": "5cdb3bac",
   "metadata": {},
   "source": [
    "## Mathematical operations\n",
    "\n",
    "`NumPy` has functions for performing mathematical operations. First let's define some arrays."
   ]
  },
  {
   "cell_type": "code",
   "execution_count": 48,
   "id": "53eb0cb0",
   "metadata": {},
   "outputs": [],
   "source": [
    "# Populations of 22 largest countries in 1960\n",
    "pop_1960 = np.array([667070000, 450547675, 180671000, 87751066, 44988690, 72179235, 45138460,\n",
    "                     48013505, 119897000, 37771861, 93216000, 22151284, 26269741, 26632891,\n",
    "                     32670048, 15248256, 27472339, 21906909, 72814900, 27397208, 46621688, \n",
    "                     52400000])\n",
    "\n",
    "# Populations of 22 largest countries in 2020\n",
    "pop_2020 = np.array([1410929362, 1380004385, 329484123, 273523621, 220892331, 212559409,\n",
    "                     206139587, 164689383, 144104080, 128932753, 125836021, 114963583,\n",
    "                     109581085, 102334403, 97338583, 89561404, 84339067, 83992953, \n",
    "                     83240525, 69799978, 67391582, 67215293])\n",
    "\n",
    "# Population of world in 1960\n",
    "world_1960 = 3032156070\n",
    "\n",
    "# Population of world in 2020\n",
    "world_2020 = 7761620146"
   ]
  },
  {
   "cell_type": "markdown",
   "id": "66d7a818",
   "metadata": {},
   "source": [
    "Let's say we wanted to find the population of each country as a percentage of the total population in 1960. "
   ]
  },
  {
   "cell_type": "code",
   "execution_count": 56,
   "id": "b780f285",
   "metadata": {},
   "outputs": [
    {
     "data": {
      "text/plain": [
       "array([21.99985702, 14.85898696,  5.95849936,  2.89401548,  1.48371947,\n",
       "        2.3804591 ,  1.48865886,  1.58347736,  3.954183  ,  1.24570966,\n",
       "        3.07424809,  0.73054564,  0.86637166,  0.87834829,  1.07745272,\n",
       "        0.50288493,  0.90603314,  0.72248619,  2.40142322,  0.90355534,\n",
       "        1.53757547,  1.72814324])"
      ]
     },
     "execution_count": 56,
     "metadata": {},
     "output_type": "execute_result"
    }
   ],
   "source": [
    "np.divide(pop_1960, world_1960) * 100"
   ]
  },
  {
   "cell_type": "markdown",
   "id": "402d73b7",
   "metadata": {},
   "source": [
    "```{note}\n",
    "An operation between an array and a single number **or** between arrays of two different sizes is termed [**broadcasting**](https://numpy.org/doc/stable/user/basics.broadcasting.html).\n",
    "```"
   ]
  },
  {
   "cell_type": "markdown",
   "id": "600d73c8",
   "metadata": {},
   "source": [
    "Now let's calculate the population change between 1960 and 2020."
   ]
  },
  {
   "cell_type": "code",
   "execution_count": 51,
   "id": "44bae99b",
   "metadata": {},
   "outputs": [
    {
     "data": {
      "text/plain": [
       "array([743859362, 929456710, 148813123, 185772555, 175903641, 140380174,\n",
       "       161001127, 116675878,  24207080,  91160892,  32620021,  92812299,\n",
       "        83311344,  75701512,  64668535,  74313148,  56866728,  62086044,\n",
       "        10425625,  42402770,  20769894,  14815293])"
      ]
     },
     "execution_count": 51,
     "metadata": {},
     "output_type": "execute_result"
    }
   ],
   "source": [
    "np.subtract(pop_2020, pop_1960)"
   ]
  },
  {
   "cell_type": "markdown",
   "id": "1574d34d",
   "metadata": {},
   "source": [
    "```{note}\n",
    "Since the arrays are the **same size**, NumPy performs an **element-by-element** operation (i.e. the first number of array1 is subtracted from the first number of array1, the second number of array1 is subtracted from the second number of array2... etc.).\n",
    "```"
   ]
  },
  {
   "cell_type": "markdown",
   "id": "53d0fe82",
   "metadata": {},
   "source": [
    "What about the percentage change in population for each country?"
   ]
  },
  {
   "cell_type": "code",
   "execution_count": 57,
   "id": "d1a3f78a",
   "metadata": {},
   "outputs": [
    {
     "data": {
      "text/plain": [
       "array([111.51143988, 206.29486325,  82.36691168, 211.70404357,\n",
       "       390.99525014, 194.48830955, 356.68280885, 243.00637498,\n",
       "        20.18989633, 241.34604329,  34.99401498, 418.9928629 ,\n",
       "       317.13804868, 284.2406857 , 197.94441379, 487.35506539,\n",
       "       206.99631   , 283.40850825,  14.317983  , 154.7704058 ,\n",
       "        44.54985414,  28.27345992])"
      ]
     },
     "execution_count": 57,
     "metadata": {},
     "output_type": "execute_result"
    }
   ],
   "source": [
    "np.divide(np.subtract(pop_2020, pop_1960), pop_1960) * 100"
   ]
  },
  {
   "cell_type": "markdown",
   "id": "e1315249",
   "metadata": {},
   "source": [
    "`NumPy` has many other matematical operations. See [here](https://numpy.org/doc/stable/reference/routines.math.html) for a full list."
   ]
  },
  {
   "cell_type": "markdown",
   "id": "39cbd947",
   "metadata": {},
   "source": [
    "## Searching\n",
    "\n",
    "We can use `NumPy` to find specific elements of our array. We can find the index of the smallest value in our array using the `np.argmin` function."
   ]
  },
  {
   "cell_type": "code",
   "execution_count": 59,
   "id": "63767ce7",
   "metadata": {},
   "outputs": [
    {
     "data": {
      "text/plain": [
       "18"
      ]
     },
     "execution_count": 59,
     "metadata": {},
     "output_type": "execute_result"
    }
   ],
   "source": [
    "# Define a new variable that contains population growth as a percentage of population\n",
    "pop_growth = np.divide(np.subtract(pop_2020, pop_1960), pop_1960) * 100\n",
    "\n",
    "# Find index for smallest growth\n",
    "np.argmin(pop_growth)"
   ]
  },
  {
   "cell_type": "code",
   "execution_count": 64,
   "id": "4b6e4afd",
   "metadata": {},
   "outputs": [
    {
     "data": {
      "text/plain": [
       "15"
      ]
     },
     "execution_count": 64,
     "metadata": {},
     "output_type": "execute_result"
    }
   ],
   "source": [
    "# Find index for largest growth\n",
    "np.argmax(pop_growth)"
   ]
  },
  {
   "cell_type": "markdown",
   "id": "8effb0fd",
   "metadata": {},
   "source": [
    "This is useful since the populations in our array correspond to countries in the list below:"
   ]
  },
  {
   "cell_type": "code",
   "execution_count": 62,
   "id": "aaf9c06d",
   "metadata": {},
   "outputs": [],
   "source": [
    "country = ['China', 'India', 'United States', 'Indonesia', 'Pakistan', 'Brazil', 'Nigeria', 'Bangladesh',\n",
    "          'Russian Federation', 'Mexico', 'Japan', 'Ethopia', 'Philippines', 'Egypt', 'Vietnam', 'DR Congo', \n",
    "           'Turkey', 'Iran','Germany', 'Thailand', 'France', 'United Kingdom']"
   ]
  },
  {
   "cell_type": "markdown",
   "id": "177b8eae",
   "metadata": {},
   "source": [
    "So we can use list indexing to find the country with the lowest growth rate between 1960 and 2020:"
   ]
  },
  {
   "cell_type": "code",
   "execution_count": 67,
   "id": "889740f4",
   "metadata": {},
   "outputs": [
    {
     "data": {
      "text/plain": [
       "'Germany'"
      ]
     },
     "execution_count": 67,
     "metadata": {},
     "output_type": "execute_result"
    }
   ],
   "source": [
    "country[np.argmin(pop_growth)]"
   ]
  },
  {
   "cell_type": "markdown",
   "id": "48eea2de",
   "metadata": {},
   "source": [
    "Or highest growth rate:"
   ]
  },
  {
   "cell_type": "code",
   "execution_count": 68,
   "id": "f8ae49b4",
   "metadata": {},
   "outputs": [
    {
     "data": {
      "text/plain": [
       "'DR Congo'"
      ]
     },
     "execution_count": 68,
     "metadata": {},
     "output_type": "execute_result"
    }
   ],
   "source": [
    "country[np.argmax(pop_growth)]"
   ]
  },
  {
   "cell_type": "markdown",
   "id": "2c1c31c0",
   "metadata": {},
   "source": [
    "## Multi-dimensional arrays\n",
    "\n",
    "We will often use `NumPy` in Spatial Data Science to perform operations on multi-dimensional arrays  or matrices (i.e. arrays with 2, 3 or more dimensions). Let's say we have a small grid of points that represent elevation values (i.e. a digital elevation model). We could represent it as a 2D `ndarray` like so:"
   ]
  },
  {
   "cell_type": "code",
   "execution_count": 82,
   "id": "94add73b",
   "metadata": {},
   "outputs": [
    {
     "name": "stdout",
     "output_type": "stream",
     "text": [
      "[[10  9  4]\n",
      " [11  8  5]\n",
      " [12  7  6]]\n"
     ]
    }
   ],
   "source": [
    "dem = np.array([[10, 9, 4], [11, 8, 5], [12, 7, 6]])\n",
    "print(dem)"
   ]
  },
  {
   "cell_type": "markdown",
   "id": "540af70f",
   "metadata": {},
   "source": [
    "This time our array has three rows and three columns (i.e. 3 x 3) and 9 elements."
   ]
  },
  {
   "cell_type": "code",
   "execution_count": 83,
   "id": "7c834db2",
   "metadata": {},
   "outputs": [
    {
     "data": {
      "text/plain": [
       "(3, 3)"
      ]
     },
     "execution_count": 83,
     "metadata": {},
     "output_type": "execute_result"
    }
   ],
   "source": [
    "np.shape(dem)"
   ]
  },
  {
   "cell_type": "code",
   "execution_count": 124,
   "id": "1a5d1ae7",
   "metadata": {},
   "outputs": [
    {
     "data": {
      "text/plain": [
       "9"
      ]
     },
     "execution_count": 124,
     "metadata": {},
     "output_type": "execute_result"
    }
   ],
   "source": [
    "np.size(dem)"
   ]
  },
  {
   "cell_type": "markdown",
   "id": "cf29d779",
   "metadata": {},
   "source": [
    "## Matrix operations\n",
    "\n",
    "We can perform element-by-element operations or broadcasting on the array."
   ]
  },
  {
   "cell_type": "code",
   "execution_count": 84,
   "id": "c12465bb",
   "metadata": {},
   "outputs": [
    {
     "data": {
      "text/plain": [
       "array([[20, 18,  8],\n",
       "       [22, 16, 10],\n",
       "       [24, 14, 12]])"
      ]
     },
     "execution_count": 84,
     "metadata": {},
     "output_type": "execute_result"
    }
   ],
   "source": [
    "np.add(dem, dem)"
   ]
  },
  {
   "cell_type": "code",
   "execution_count": 85,
   "id": "8c5b234b",
   "metadata": {},
   "outputs": [
    {
     "data": {
      "text/plain": [
       "array([[20, 18,  8],\n",
       "       [22, 16, 10],\n",
       "       [24, 14, 12]])"
      ]
     },
     "execution_count": 85,
     "metadata": {},
     "output_type": "execute_result"
    }
   ],
   "source": [
    "np.multiply(dem, 2)"
   ]
  },
  {
   "cell_type": "markdown",
   "id": "970dba34",
   "metadata": {},
   "source": [
    "## Matrix indexing and slicing\n",
    "\n",
    "We can index and slice NumPy arrays in the same way we slice Python lists - using square brackets. Remember that indexing in Python starts at **0**. \n",
    "\n",
    "Since the array is **2D**, we need to use two numbers to access elements in the array. The order is `array[row, col]` So if we wanted the value in the second row and first column we would type:"
   ]
  },
  {
   "cell_type": "code",
   "execution_count": 93,
   "id": "e368d3da",
   "metadata": {},
   "outputs": [
    {
     "data": {
      "text/plain": [
       "11"
      ]
     },
     "execution_count": 93,
     "metadata": {},
     "output_type": "execute_result"
    }
   ],
   "source": [
    "dem[1,0]"
   ]
  },
  {
   "cell_type": "markdown",
   "id": "35830de1",
   "metadata": {},
   "source": [
    "We may also want to access the entire row or column. We can do this by using a colon sign which means \"all\". To return the second column, we would type:"
   ]
  },
  {
   "cell_type": "code",
   "execution_count": 94,
   "id": "fceba936",
   "metadata": {},
   "outputs": [
    {
     "data": {
      "text/plain": [
       "array([9, 8, 7])"
      ]
     },
     "execution_count": 94,
     "metadata": {},
     "output_type": "execute_result"
    }
   ],
   "source": [
    "dem[:,1]"
   ]
  },
  {
   "cell_type": "markdown",
   "id": "5bddc758",
   "metadata": {},
   "source": [
    "Or the third row:"
   ]
  },
  {
   "cell_type": "code",
   "execution_count": 95,
   "id": "cf5381f7",
   "metadata": {},
   "outputs": [
    {
     "data": {
      "text/plain": [
       "array([12,  7,  6])"
      ]
     },
     "execution_count": 95,
     "metadata": {},
     "output_type": "execute_result"
    }
   ],
   "source": [
    "dem[2,:]"
   ]
  },
  {
   "cell_type": "markdown",
   "id": "6a95c6e1",
   "metadata": {},
   "source": [
    "Recall that leaving either side of the colon blank means start from (or go to) the end of the list. So if we wanted the values in the third row, but only in the second and third columns we could type: "
   ]
  },
  {
   "cell_type": "code",
   "execution_count": 96,
   "id": "ec01981d",
   "metadata": {},
   "outputs": [
    {
     "data": {
      "text/plain": [
       "array([7, 6])"
      ]
     },
     "execution_count": 96,
     "metadata": {},
     "output_type": "execute_result"
    }
   ],
   "source": [
    "dem[2,1:]"
   ]
  },
  {
   "cell_type": "markdown",
   "id": "c4b5a04a",
   "metadata": {},
   "source": [
    "## Comparison operators\n",
    "\n",
    "If we wanted to return specific values, we can use comparison operators (i.e. `==`, `>`, `<`). "
   ]
  },
  {
   "cell_type": "code",
   "execution_count": 111,
   "id": "39b0fe38",
   "metadata": {},
   "outputs": [
    {
     "data": {
      "text/plain": [
       "array([10,  9, 11, 12])"
      ]
     },
     "execution_count": 111,
     "metadata": {},
     "output_type": "execute_result"
    }
   ],
   "source": [
    "mask = (dem > 8)\n",
    "dem[mask]"
   ]
  },
  {
   "cell_type": "markdown",
   "id": "abcc4b7b",
   "metadata": {},
   "source": [
    "```{note}\n",
    "Here we produced **boolean mask** which has the same shape as the original array but each value is either `True` or `False` (depending on whether the value was greater or less than 8). We then returned values of the original array where the mask was `True`.\n",
    "```"
   ]
  },
  {
   "cell_type": "markdown",
   "id": "13f5d2d6",
   "metadata": {},
   "source": [
    "Likewise, we can also just get values equal to 10:"
   ]
  },
  {
   "cell_type": "code",
   "execution_count": 112,
   "id": "8bbb4d4c",
   "metadata": {},
   "outputs": [
    {
     "data": {
      "text/plain": [
       "array([10])"
      ]
     },
     "execution_count": 112,
     "metadata": {},
     "output_type": "execute_result"
    }
   ],
   "source": [
    "mask = (dem == 10)\n",
    "dem[mask]"
   ]
  },
  {
   "cell_type": "markdown",
   "id": "d678da19",
   "metadata": {},
   "source": [
    "Or **not** 10:"
   ]
  },
  {
   "cell_type": "code",
   "execution_count": 113,
   "id": "0ac61ad9",
   "metadata": {},
   "outputs": [
    {
     "data": {
      "text/plain": [
       "array([ 9,  4, 11,  8,  5, 12,  7,  6])"
      ]
     },
     "execution_count": 113,
     "metadata": {},
     "output_type": "execute_result"
    }
   ],
   "source": [
    "mask = (dem != 10)\n",
    "dem[mask]"
   ]
  },
  {
   "cell_type": "markdown",
   "id": "e6c7a1ab",
   "metadata": {},
   "source": [
    "## Matrix searching \n",
    "\n",
    "Sometimes we want to find the location (or index) of specific values. To do this, we can combine our comparison operators with a useful function called `np.where`. "
   ]
  },
  {
   "cell_type": "code",
   "execution_count": 114,
   "id": "f11c092b",
   "metadata": {},
   "outputs": [
    {
     "data": {
      "text/plain": [
       "(array([0, 1, 2]), array([0, 0, 0]))"
      ]
     },
     "execution_count": 114,
     "metadata": {},
     "output_type": "execute_result"
    }
   ],
   "source": [
    "# Find indices of values greater than 9\n",
    "np.where(dem > 9)"
   ]
  },
  {
   "cell_type": "markdown",
   "id": "7b107301",
   "metadata": {},
   "source": [
    "This could be used find all values greater than 9 (similar to what we did with **masks** before)."
   ]
  },
  {
   "cell_type": "code",
   "execution_count": 115,
   "id": "8cb1cac7",
   "metadata": {},
   "outputs": [
    {
     "data": {
      "text/plain": [
       "array([10, 11, 12])"
      ]
     },
     "execution_count": 115,
     "metadata": {},
     "output_type": "execute_result"
    }
   ],
   "source": [
    "dem[np.where(dem > 9)]"
   ]
  },
  {
   "cell_type": "markdown",
   "id": "15ef9cc1",
   "metadata": {},
   "source": [
    "We could also use this approach to derive values from other arrays so long as they have the same shape."
   ]
  },
  {
   "cell_type": "markdown",
   "id": "8f67ce80",
   "metadata": {},
   "source": [
    "## Acknowledgments\n",
    "\n",
    "This demo was inspired by [NumPy docs](https://numpy.org/doc/stable/user/absolute_beginners.html)."
   ]
  }
 ],
 "metadata": {
  "kernelspec": {
   "display_name": "Python 3 (ipykernel)",
   "language": "python",
   "name": "python3"
  },
  "language_info": {
   "codemirror_mode": {
    "name": "ipython",
    "version": 3
   },
   "file_extension": ".py",
   "mimetype": "text/x-python",
   "name": "python",
   "nbconvert_exporter": "python",
   "pygments_lexer": "ipython3",
   "version": "3.8.12"
  }
 },
 "nbformat": 4,
 "nbformat_minor": 5
}
