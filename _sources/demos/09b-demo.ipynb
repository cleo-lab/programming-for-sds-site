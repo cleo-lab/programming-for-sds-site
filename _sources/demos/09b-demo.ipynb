{
 "cells": [
  {
   "cell_type": "markdown",
   "id": "d61e5536",
   "metadata": {},
   "source": [
    "# Remote sensing in Python\n",
    "\n",
    "In the second part of this week, we work with some remote sensing imagery. The data we will be using is a **Landsat 8** image over Florence, OR acquire in July 2021. "
   ]
  },
  {
   "cell_type": "code",
   "execution_count": 2,
   "id": "c6a015e4",
   "metadata": {},
   "outputs": [],
   "source": [
    "import matplotlib.pyplot as plt\n",
    "from mpl_toolkits.axes_grid1 import make_axes_locatable\n",
    "\n",
    "import numpy as np\n",
    "import rasterio\n",
    "import glob"
   ]
  },
  {
   "cell_type": "code",
   "execution_count": 4,
   "id": "1ec45ae6",
   "metadata": {},
   "outputs": [
    {
     "data": {
      "text/plain": [
       "8"
      ]
     },
     "execution_count": 4,
     "metadata": {},
     "output_type": "execute_result"
    }
   ],
   "source": [
    "# Define list of Landsat bands\n",
    "files = sorted(glob.glob('data/landsat/*.tif'))\n",
    "len(files)"
   ]
  },
  {
   "cell_type": "markdown",
   "id": "e026a038",
   "metadata": {},
   "source": [
    "## Band math"
   ]
  },
  {
   "cell_type": "code",
   "execution_count": null,
   "id": "a706632d",
   "metadata": {},
   "outputs": [],
   "source": []
  },
  {
   "cell_type": "markdown",
   "id": "093787ce",
   "metadata": {},
   "source": [
    "## Indices"
   ]
  },
  {
   "cell_type": "code",
   "execution_count": null,
   "id": "d44decfd",
   "metadata": {},
   "outputs": [],
   "source": []
  },
  {
   "cell_type": "markdown",
   "id": "0f54b6f1",
   "metadata": {},
   "source": [
    "## Plotting"
   ]
  }
 ],
 "metadata": {
  "kernelspec": {
   "display_name": "Python 3 (ipykernel)",
   "language": "python",
   "name": "python3"
  },
  "language_info": {
   "codemirror_mode": {
    "name": "ipython",
    "version": 3
   },
   "file_extension": ".py",
   "mimetype": "text/x-python",
   "name": "python",
   "nbconvert_exporter": "python",
   "pygments_lexer": "ipython3",
   "version": "3.8.12"
  }
 },
 "nbformat": 4,
 "nbformat_minor": 5
}
