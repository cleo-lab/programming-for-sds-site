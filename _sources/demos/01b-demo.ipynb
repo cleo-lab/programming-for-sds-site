{
 "cells": [
  {
   "cell_type": "markdown",
   "id": "82f31e7a",
   "metadata": {},
   "source": [
    "# Formatting notebooks\n",
    "\n",
    "The second demo of this week provides an introduction to formatting assignment submissions. Jupyter Notebooks are powerful because we can add documentation in **Markdown**, a lightweight markup language for creating formatted text using a plain-text editor."
   ]
  },
  {
   "cell_type": "markdown",
   "id": "98d33c71",
   "metadata": {},
   "source": [
    "## Cells\n",
    "\n",
    "There are two main types of cell in Jupyter Notebooks: Code and Markdown.\n",
    "\n",
    "In **code** cells, the text is treated as statements in a programming language of current kernel (Python in our case).  When such cell is run, the result is displayed in an output cell. \n",
    "\n",
    "In **Markdown** cells, the text is formatted using markdown language. All kinds of formatting features are available like making text **bold** and *italic*, displaying ordered or unordered list, rendering tabular contents etc. Markdown cells are especially useful for providing documentation to a notebook.\n",
    "\n",
    "We can choose the cell type by clicking on the drop-down list at the the top of the page."
   ]
  },
  {
   "cell_type": "markdown",
   "id": "93e5af17",
   "metadata": {},
   "source": [
    "```{image} images/cells.png\n",
    ":alt: cells\n",
    ":class: bg-primary mb-1\n",
    ":width: 1000px\n",
    ":align: center\n",
    "```"
   ]
  },
  {
   "cell_type": "markdown",
   "id": "bb0c2426",
   "metadata": {},
   "source": [
    "## Markdown\n",
    "\n",
    "### Headings\n",
    "\n",
    "We can add headings to our notebooks using the number sign (`#`) followed by a blank space:"
   ]
  },
  {
   "cell_type": "markdown",
   "id": "99f64821",
   "metadata": {},
   "source": [
    "````\n",
    "# for titles\n",
    "\n",
    "## for major headings\n",
    "\n",
    "### for subheadings\n",
    "\n",
    "#### for 4th level subheadings\n",
    "````"
   ]
  },
  {
   "cell_type": "markdown",
   "id": "cfeaaa7d",
   "metadata": {},
   "source": [
    "### Emphasis\n",
    "\n",
    "We can format text as bold, italic, or monospace font using underscores, asterisks, and grave accents:"
   ]
  },
  {
   "cell_type": "markdown",
   "id": "4ea7d9f9",
   "metadata": {},
   "source": [
    "````\n",
    "Bold text: __string__ or **string**\n",
    "\n",
    "Italic text: _string_ or *string*\n",
    "\n",
    "Monospace text: `string`\n",
    "````"
   ]
  },
  {
   "cell_type": "markdown",
   "id": "a7e112d3",
   "metadata": {},
   "source": [
    "### Lists\n",
    "\n",
    "We can make bullet point lists using hyphens or asterisks followeed by a space. Each bullet point must be on its own line."
   ]
  },
  {
   "cell_type": "markdown",
   "id": "755168e7",
   "metadata": {},
   "source": [
    "````\n",
    "- A hyphen (-)\n",
    "* An asterisk (*)\n",
    "````"
   ]
  },
  {
   "cell_type": "markdown",
   "id": "8292a478",
   "metadata": {},
   "source": [
    "### Graphics\n",
    "\n",
    "We can add graphics, figures, and images to our notebook using the following syntax: "
   ]
  },
  {
   "cell_type": "markdown",
   "id": "bf80135c",
   "metadata": {},
   "source": [
    "````\n",
    "![Image title](filename.png)\n",
    "````"
   ]
  },
  {
   "cell_type": "markdown",
   "id": "8b041bd4",
   "metadata": {},
   "source": [
    "````{margin}\n",
    "```{note}\n",
    "Only works when `filename.png` is located in the **same folder** as your Jupyter Notebook.\n",
    "```\n",
    "````"
   ]
  },
  {
   "cell_type": "markdown",
   "id": "0e8f4503",
   "metadata": {},
   "source": [
    "### Tables\n",
    "\n",
    "We can even make tables:"
   ]
  },
  {
   "cell_type": "markdown",
   "id": "6b595e3e",
   "metadata": {},
   "source": [
    "````\n",
    "| This | is    |\n",
    "|------|-------|\n",
    "| a    | table |\n",
    "````"
   ]
  },
  {
   "cell_type": "markdown",
   "id": "69741c2c",
   "metadata": {},
   "source": [
    "## References\n",
    "\n",
    "A useful review of Markdown syntax can be found [here](https://www.markdownguide.org/basic-syntax)."
   ]
  },
  {
   "cell_type": "code",
   "execution_count": null,
   "id": "a55ffddd",
   "metadata": {},
   "outputs": [],
   "source": []
  }
 ],
 "metadata": {
  "kernelspec": {
   "display_name": "Python 3 (ipykernel)",
   "language": "python",
   "name": "python3"
  },
  "language_info": {
   "codemirror_mode": {
    "name": "ipython",
    "version": 3
   },
   "file_extension": ".py",
   "mimetype": "text/x-python",
   "name": "python",
   "nbconvert_exporter": "python",
   "pygments_lexer": "ipython3",
   "version": "3.8.12"
  }
 },
 "nbformat": 4,
 "nbformat_minor": 5
}
