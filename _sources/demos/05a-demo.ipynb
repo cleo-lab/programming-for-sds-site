{
 "cells": [
  {
   "cell_type": "markdown",
   "id": "6879dc83",
   "metadata": {},
   "source": [
    "# Functions\n",
    "\n",
    "When we write code, we want it to be as concise as possible while retaining readability. Sometimes we find ourselves writing out the same block over and over again. If we are doing this, it may be time to define a **function**, a self-contained program that can perform a specific task repeatedly. "
   ]
  },
  {
   "cell_type": "markdown",
   "id": "d2e80584",
   "metadata": {},
   "source": [
    "## Anatomy of a function\n",
    "\n",
    "Examples can be very useful for communicating new concepts so let's get straight to it and define our first function:"
   ]
  },
  {
   "cell_type": "code",
   "execution_count": 7,
   "id": "1e89bedd",
   "metadata": {},
   "outputs": [],
   "source": [
    "def fahr_to_celsius(temp_fahrenheit):\n",
    "    \n",
    "    temp_celsius = (temp_fahrenheit - 32) * (5/9)\n",
    "    \n",
    "    return temp_celsius"
   ]
  },
  {
   "cell_type": "markdown",
   "id": "bb97333f",
   "metadata": {},
   "source": [
    "So what is going on here?\n",
    "\n",
    "* The function definition opens with the keyword `def` followed by the **name** of the function and a list of **parameters** in parentheses. \n",
    "\n",
    "\n",
    "* The **body** of the function — the code that is executed when it runs — is **indented** below the definition line.\n",
    "\n",
    "\n",
    "* At the end of the function, we use a `return` statement to define the value that should be output when the function is called.\n",
    "\n",
    "\n",
    "* Defining a function does nothing other than make it available for use in our notebooks. \n",
    "\n",
    "\n",
    "* In order to use the function we need to call it using the **name** of the function with the provided value(s) inside **parentheses**. "
   ]
  },
  {
   "cell_type": "markdown",
   "id": "adaf37e8",
   "metadata": {},
   "source": [
    "As you can probaly tell, this function converts temperatures from Fahrenheit to Celsius."
   ]
  },
  {
   "cell_type": "code",
   "execution_count": 8,
   "id": "825c5626",
   "metadata": {},
   "outputs": [
    {
     "data": {
      "text/plain": [
       "32.22222222222222"
      ]
     },
     "execution_count": 8,
     "metadata": {},
     "output_type": "execute_result"
    }
   ],
   "source": [
    "fahr_to_celsius(90)"
   ]
  },
  {
   "cell_type": "markdown",
   "id": "91735b3a",
   "metadata": {},
   "source": [
    "We can also write a function to convert from Celsius to Kelvin:"
   ]
  },
  {
   "cell_type": "code",
   "execution_count": 5,
   "id": "0fa5f4b3",
   "metadata": {},
   "outputs": [
    {
     "name": "stdout",
     "output_type": "stream",
     "text": [
      "The freezing point of water is 273.15 K\n"
     ]
    }
   ],
   "source": [
    "def celsius_to_kelvin(temp_celsius):\n",
    "    return temp_celsius + 273.15\n",
    "\n",
    "print(\"The freezing point of water is {} K\".format(celsius_to_kelvin(0)))"
   ]
  },
  {
   "cell_type": "markdown",
   "id": "85a2c8e7",
   "metadata": {},
   "source": [
    "## Functions within a function\n",
    "\n",
    "Now say we wanted to convert from Fahrenheit to Kelvin, we could just include a function within a function."
   ]
  },
  {
   "cell_type": "code",
   "execution_count": 11,
   "id": "f191a700",
   "metadata": {},
   "outputs": [
    {
     "name": "stdout",
     "output_type": "stream",
     "text": [
      "The boiling point of water is 373.15 K\n"
     ]
    }
   ],
   "source": [
    "def fahr_to_kelvin(temp_fahr):\n",
    "    temp_celsius = fahr_to_celsius(temp_fahr)\n",
    "    temp_kelvin = celsius_to_kelvin(temp_celsius)\n",
    "    return temp_kelvin\n",
    "\n",
    "print(\"The boiling point of water is {} K\".format(fahr_to_kelvin(212)))"
   ]
  },
  {
   "cell_type": "markdown",
   "id": "b5243c4c",
   "metadata": {},
   "source": [
    "## Variable scope\n",
    "\n",
    "When we composed our temperature conversion functions, we created variables inside of those functions called `temp_celsius` and `temp_kelvin`. We refer to these variables as **local variables** because they no longer exist once the function has executed. If we try to access their values outside of the function, we will encounter an error:"
   ]
  },
  {
   "cell_type": "code",
   "execution_count": 12,
   "id": "9b7c8827",
   "metadata": {},
   "outputs": [
    {
     "ename": "NameError",
     "evalue": "name 'temp_celsius' is not defined",
     "output_type": "error",
     "traceback": [
      "\u001b[0;31m---------------------------------------------------------------------------\u001b[0m",
      "\u001b[0;31mNameError\u001b[0m                                 Traceback (most recent call last)",
      "Input \u001b[0;32mIn [12]\u001b[0m, in \u001b[0;36m<module>\u001b[0;34m\u001b[0m\n\u001b[0;32m----> 1\u001b[0m \u001b[43mtemp_celsius\u001b[49m\n",
      "\u001b[0;31mNameError\u001b[0m: name 'temp_celsius' is not defined"
     ]
    }
   ],
   "source": [
    "temp_celsius"
   ]
  },
  {
   "cell_type": "markdown",
   "id": "c733a6ad",
   "metadata": {},
   "source": [
    "If we wanted to reuse the temperature in Kelvin after we converted it using `fahr_to_kelvin`, we can store the result of the function as a variable. "
   ]
  },
  {
   "cell_type": "code",
   "execution_count": 21,
   "id": "745106c1",
   "metadata": {},
   "outputs": [
    {
     "data": {
      "text/plain": [
       "288.7055555555555"
      ]
     },
     "execution_count": 21,
     "metadata": {},
     "output_type": "execute_result"
    }
   ],
   "source": [
    "celsius = fahr_to_kelvin(60)\n",
    "celsius"
   ]
  },
  {
   "cell_type": "markdown",
   "id": "fa503e04",
   "metadata": {},
   "source": [
    "Since the variable is defined outside the function, it is called a **global variable**."
   ]
  },
  {
   "cell_type": "markdown",
   "id": "7e408723",
   "metadata": {},
   "source": [
    "## Functions with multiple parameters\n",
    "\n",
    "It is also possible to define a function with multiple parameters. Here we will define a simple temperature calculator function that accepts temperatures in Fahrenheit and returns the temperature in either Celsius or Kelvin. The function will have two input parameters:\n",
    "\n",
    "* `temp_fahr` = the temperature in Fahrenheit\n",
    "\n",
    "* `convert_to` = the output units in Celsius or Kelvin (using the string `C` or `K` accordingly)"
   ]
  },
  {
   "cell_type": "code",
   "execution_count": 25,
   "id": "2d4199fb",
   "metadata": {},
   "outputs": [],
   "source": [
    "def temp_calculator(temp_fahr, convert_to):\n",
    "    \n",
    "    if convert_to == \"C\":\n",
    "        \n",
    "        converted_temp = fahr_to_celsius(temp_fahr)\n",
    "        \n",
    "    elif convert_to == \"K\":\n",
    "        \n",
    "        converted_temp = fahr_to_kelvin(temp_fahr)\n",
    "        \n",
    "    return converted_temp"
   ]
  },
  {
   "cell_type": "markdown",
   "id": "543177ff",
   "metadata": {},
   "source": [
    "````{margin}\n",
    "```{note}\n",
    "Note the conditional statements that check whether the desired output temperature should be in Celsius or Kelvin.\n",
    "```\n",
    "````"
   ]
  },
  {
   "cell_type": "code",
   "execution_count": 26,
   "id": "2aad2d58",
   "metadata": {},
   "outputs": [
    {
     "data": {
      "text/plain": [
       "23.88888888888889"
      ]
     },
     "execution_count": 26,
     "metadata": {},
     "output_type": "execute_result"
    }
   ],
   "source": [
    "temp_calculator(75, 'C')"
   ]
  },
  {
   "cell_type": "code",
   "execution_count": 27,
   "id": "6c9d2bac",
   "metadata": {},
   "outputs": [
    {
     "data": {
      "text/plain": [
       "297.0388888888889"
      ]
     },
     "execution_count": 27,
     "metadata": {},
     "output_type": "execute_result"
    }
   ],
   "source": [
    "temp_calculator(75, 'K')"
   ]
  },
  {
   "cell_type": "markdown",
   "id": "1c8b62b9",
   "metadata": {},
   "source": [
    "## Documenting code\n",
    "\n",
    "It is important to document code, either for our future selves or for collaborators who might want to use and adapt our code. We can do that using **block comments** that start with a single hash sign (`#`) followed by a single space and a text string. The Python interpreter will ignore these lines and display them as a different color."
   ]
  },
  {
   "cell_type": "code",
   "execution_count": null,
   "id": "ecc7d7f1",
   "metadata": {},
   "outputs": [],
   "source": [
    "def temp_calculator(temp_fahr, convert_to):\n",
    "    \n",
    "    # Check if user wants the temperature in Celsius\n",
    "    if convert_to == \"C\":\n",
    "        \n",
    "        # Convert the value to Celsius\n",
    "        converted_temp = fahr_to_celsius(temp_fahr)\n",
    "    \n",
    "    # Check if user wants the temperature in Kelvin\n",
    "    elif convert_to == \"K\":\n",
    "        \n",
    "        # Convert the value to Kelvin\n",
    "        converted_temp = fahr_to_kelvin(temp_fahr)\n",
    "    \n",
    "    # Return converted temperature\n",
    "    return converted_temp"
   ]
  },
  {
   "cell_type": "markdown",
   "id": "1c56d492",
   "metadata": {},
   "source": [
    "When writing functions, it is good practice to include even more documentation such as the data type of the expected input/output and example usage. For example, it is not clear whether `convert_to` is expecting the letter `C` or the word `Celsius`. We can do that using a **docstring** which is a multi-line comment that starts and ends with triple quotes (`\"\"\"`)."
   ]
  },
  {
   "cell_type": "code",
   "execution_count": 37,
   "id": "ee6a2823",
   "metadata": {},
   "outputs": [],
   "source": [
    "def temp_calculator(temp_fahr, convert_to):\n",
    "    \n",
    "    \"\"\"\n",
    "    Function for converting temperature in Fahrenheit to Celsius or Kelvin.\n",
    "\n",
    "    Parameters\n",
    "    ----------\n",
    "    temp_fahr: <numerical>\n",
    "        Temperature value in Fahrenheit\n",
    "    convert_to: <str>\n",
    "        Temperature unit in either Celsius ('C') or Fahrenheit ('F').\n",
    "\n",
    "    Returns\n",
    "    -------\n",
    "    converted_temp: <float>\n",
    "        Converted temperature.\n",
    "        \n",
    "    Example\n",
    "    --------\n",
    "    >>> temp_calculator(75, 'K')\n",
    "    297.0388888888889    \n",
    "    \n",
    "    \"\"\"\n",
    "    # Check if user wants the temperature in Celsius\n",
    "    if convert_to == \"C\":\n",
    "        \n",
    "        # Convert the value to Celsius\n",
    "        converted_temp = fahr_to_celsius(temp_fahr)\n",
    "    \n",
    "    # Check if user wants the temperature in Kelvin\n",
    "    elif convert_to == \"K\":\n",
    "        \n",
    "        # Convert the value to Kelvin\n",
    "        converted_temp = fahr_to_kelvin(temp_fahr)\n",
    "    \n",
    "    # Return converted temperature\n",
    "    return converted_temp"
   ]
  },
  {
   "cell_type": "markdown",
   "id": "4203b5a2",
   "metadata": {},
   "source": [
    "Now it would be much easier for another person to use our function. In fact, we can use the `help()` function in Python to find out how our function should be used."
   ]
  },
  {
   "cell_type": "code",
   "execution_count": 38,
   "id": "bd7508ae",
   "metadata": {},
   "outputs": [
    {
     "name": "stdout",
     "output_type": "stream",
     "text": [
      "Help on function temp_calculator in module __main__:\n",
      "\n",
      "temp_calculator(temp_fahr, convert_to)\n",
      "    Function for converting temperature in Fahrenheit to Celsius or Kelvin.\n",
      "    \n",
      "    Parameters\n",
      "    ----------\n",
      "    temp_fahr: <numerical>\n",
      "        Temperature value in Fahrenheit\n",
      "    convert_to: <str>\n",
      "        Temperature unit in either Celsius ('C') or Fahrenheit ('F').\n",
      "    \n",
      "    Returns\n",
      "    -------\n",
      "    converted_temp: <float>\n",
      "        Converted temperature.\n",
      "        \n",
      "    Examples\n",
      "    --------\n",
      "    >>> temp_calculator(75, 'K')\n",
      "    297.0388888888889\n",
      "\n"
     ]
    }
   ],
   "source": [
    "help(temp_calculator)"
   ]
  },
  {
   "cell_type": "markdown",
   "id": "ef2a7a29",
   "metadata": {},
   "source": [
    "Producing our own functions with docstrings provides an insight into how larger software is developed in Python. We first define some basic operations, then we combine them into bigger chunks to compute what we want. In Week 2, we used several functions available in the `NumPy` library. If we call `help` on one of these functions, we will see that it contains docstrings just like the one we just wrote."
   ]
  },
  {
   "cell_type": "code",
   "execution_count": 44,
   "id": "f4cdd8a7",
   "metadata": {},
   "outputs": [
    {
     "name": "stdout",
     "output_type": "stream",
     "text": [
      "Help on function mean in module numpy:\n",
      "\n",
      "mean(a, axis=None, dtype=None, out=None, keepdims=<no value>, *, where=<no value>)\n",
      "    Compute the arithmetic mean along the specified axis.\n",
      "    \n",
      "    Returns the average of the array elements.  The average is taken over\n",
      "    the flattened array by default, otherwise over the specified axis.\n",
      "    `float64` intermediate and return values are used for integer inputs.\n",
      "    \n",
      "    Parameters\n",
      "    ----------\n",
      "    a : array_like\n",
      "        Array containing numbers whose mean is desired. If `a` is not an\n",
      "        array, a conversion is attempted.\n",
      "    axis : None or int or tuple of ints, optional\n",
      "        Axis or axes along which the means are computed. The default is to\n",
      "        compute the mean of the flattened array.\n",
      "    \n",
      "        .. versionadded:: 1.7.0\n",
      "    \n",
      "        If this is a tuple of ints, a mean is performed over multiple axes,\n",
      "        instead of a single axis or all the axes as before.\n",
      "    dtype : data-type, optional\n",
      "        Type to use in computing the mean.  For integer inputs, the default\n",
      "        is `float64`; for floating point inputs, it is the same as the\n",
      "        input dtype.\n",
      "    out : ndarray, optional\n",
      "        Alternate output array in which to place the result.  The default\n",
      "        is ``None``; if provided, it must have the same shape as the\n",
      "        expected output, but the type will be cast if necessary.\n",
      "        See :ref:`ufuncs-output-type` for more details.\n",
      "    \n",
      "    keepdims : bool, optional\n",
      "        If this is set to True, the axes which are reduced are left\n",
      "        in the result as dimensions with size one. With this option,\n",
      "        the result will broadcast correctly against the input array.\n",
      "    \n",
      "        If the default value is passed, then `keepdims` will not be\n",
      "        passed through to the `mean` method of sub-classes of\n",
      "        `ndarray`, however any non-default value will be.  If the\n",
      "        sub-class' method does not implement `keepdims` any\n",
      "        exceptions will be raised.\n",
      "    \n",
      "    where : array_like of bool, optional\n",
      "        Elements to include in the mean. See `~numpy.ufunc.reduce` for details.\n",
      "    \n",
      "        .. versionadded:: 1.20.0\n",
      "    \n",
      "    Returns\n",
      "    -------\n",
      "    m : ndarray, see dtype parameter above\n",
      "        If `out=None`, returns a new array containing the mean values,\n",
      "        otherwise a reference to the output array is returned.\n",
      "    \n",
      "    See Also\n",
      "    --------\n",
      "    average : Weighted average\n",
      "    std, var, nanmean, nanstd, nanvar\n",
      "    \n",
      "    Notes\n",
      "    -----\n",
      "    The arithmetic mean is the sum of the elements along the axis divided\n",
      "    by the number of elements.\n",
      "    \n",
      "    Note that for floating-point input, the mean is computed using the\n",
      "    same precision the input has.  Depending on the input data, this can\n",
      "    cause the results to be inaccurate, especially for `float32` (see\n",
      "    example below).  Specifying a higher-precision accumulator using the\n",
      "    `dtype` keyword can alleviate this issue.\n",
      "    \n",
      "    By default, `float16` results are computed using `float32` intermediates\n",
      "    for extra precision.\n",
      "    \n",
      "    Examples\n",
      "    --------\n",
      "    >>> a = np.array([[1, 2], [3, 4]])\n",
      "    >>> np.mean(a)\n",
      "    2.5\n",
      "    >>> np.mean(a, axis=0)\n",
      "    array([2., 3.])\n",
      "    >>> np.mean(a, axis=1)\n",
      "    array([1.5, 3.5])\n",
      "    \n",
      "    In single precision, `mean` can be inaccurate:\n",
      "    \n",
      "    >>> a = np.zeros((2, 512*512), dtype=np.float32)\n",
      "    >>> a[0, :] = 1.0\n",
      "    >>> a[1, :] = 0.1\n",
      "    >>> np.mean(a)\n",
      "    0.54999924\n",
      "    \n",
      "    Computing the mean in float64 is more accurate:\n",
      "    \n",
      "    >>> np.mean(a, dtype=np.float64)\n",
      "    0.55000000074505806 # may vary\n",
      "    \n",
      "    Specifying a where argument:\n",
      "    >>> a = np.array([[5, 9, 13], [14, 10, 12], [11, 15, 19]])\n",
      "    >>> np.mean(a)\n",
      "    12.0\n",
      "    >>> np.mean(a, where=[[True], [False], [False]])\n",
      "    9.0\n",
      "\n"
     ]
    }
   ],
   "source": [
    "import numpy as np\n",
    "help(np.mean)"
   ]
  },
  {
   "cell_type": "markdown",
   "id": "2ba2fe0d",
   "metadata": {},
   "source": [
    "## Acknowledgments\n",
    "\n",
    "https://swcarpentry.github.io/python-novice-inflammation/08-func/index.html\n",
    "\n",
    "https://geo-python-site.readthedocs.io/en/latest/notebooks/L4/functions.html"
   ]
  },
  {
   "cell_type": "code",
   "execution_count": null,
   "id": "0fa034f2",
   "metadata": {},
   "outputs": [],
   "source": []
  }
 ],
 "metadata": {
  "kernelspec": {
   "display_name": "Python 3 (ipykernel)",
   "language": "python",
   "name": "python3"
  },
  "language_info": {
   "codemirror_mode": {
    "name": "ipython",
    "version": 3
   },
   "file_extension": ".py",
   "mimetype": "text/x-python",
   "name": "python",
   "nbconvert_exporter": "python",
   "pygments_lexer": "ipython3",
   "version": "3.10.0"
  }
 },
 "nbformat": 4,
 "nbformat_minor": 5
}
