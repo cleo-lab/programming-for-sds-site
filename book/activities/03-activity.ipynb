{
 "cells": [
  {
   "cell_type": "markdown",
   "id": "daff49d9-25e7-4d84-a768-86041f213554",
   "metadata": {},
   "source": [
    "# Practice activity\n",
    "\n",
    "If you have installed Python locally, launch JupyterLab by running:\n",
    "\n",
    "```\n",
    "conda activate sds\n",
    "```\n",
    "and\n",
    "\n",
    "```\n",
    "jupyter lab\n",
    "```\n",
    "\n",
    "## Glacier melt modeling\n",
    "\n",
    "```{image} images/aws.png\n",
    ":alt: aws\n",
    ":width: 600px\n",
    ":align: center\n",
    "```\n",
    "\n",
    "In this activity, we will use `for` loops and conditional statements to model glacier melt. We will use a simple (but common) approach called the **positive degree day method** which assumes that the amount of melt is proportional to the number of positive degree days. \n",
    "\n",
    "To explain this method, we will take one step at a time... first, import the data below into your notebook.\n",
    "\n",
    "```\n",
    "data = np.array([11.2,11.4,9.8,12.1,11.6,11.6,12.5,12.0,8.2,9.1,8.5,9.6,12.8,15.4,13.5,8.9,12.5,14.1,14.0,14.4,13.9,14.2,\n",
    "          7.8,7.2,10.0,8.7,10.4,10.2,10.0,11.0,12.4,12.3,12.1,8.3,6.8,5.8,8.0,11.2,8.8,10.2,12.2,13.4,13.0,17.9,18.0,\n",
    "          18.5,14.5,11.9,13.0,12.8,9.9,4.0,6.6,10.5,10.3,11.6,13.7,14.7,5.1,5.8,6.1,3.4,5.0,3.4,4.5,8.2,6.3,6.0,7.6,\n",
    "          9.4,9.7,8.8,7.7,9.4,11.9,13.5,12.6,9.8,7.7,5.2,-2.0,-2.6,1.2,1.3,0.4,1.1,-1.4,-2.5,-0.7,0.7,-1.4])\n",
    "```\n"
   ]
  },
  {
   "cell_type": "markdown",
   "id": "c1e85c36-2e94-4b29-9d94-7b4e581d9efa",
   "metadata": {},
   "source": [
    "*****************************\n",
    "\n",
    "## Task 1 (5 points)\n",
    "\n",
    "This dataset contains mean air temperature from a weather station that was installed on Hayden Glacier in the Oregon Cascades between Jul 2 and Sep 30 (91 days). Let's first get some intuition about our dataset. \n",
    "\n",
    "* a) What was the mean air temperature?\n",
    "\n",
    "* b) What was the lowest/highest air temperaterature recorded?\n",
    "\n",
    "* c) How many days was the air temperature above 0°C?\n",
    "\n",
    "* d) How many days was the air temperature below 0°C?"
   ]
  },
  {
   "cell_type": "markdown",
   "id": "85f34abd-86ea-4589-b8bf-5dbae37359ef",
   "metadata": {
    "tags": []
   },
   "source": [
    "*****************************\n",
    "\n",
    "## Task 2 (5 points)\n",
    "\n",
    "### Degree day factor\n",
    "\n",
    "A degree day factor (also known as the melt factor) is the amount of melt that occurs **per positive degree day**. Degree day factors are expressed as meters of water-equivalent per degree per day (m w.e. °C$^{-1}$ day$^{-1}$). So if the degree day factor was 0.003 m w.e. °C$^{-1}$ day$^{-1}$ and the average daily temperature is +1°C, then the daily melt will be 0.003 m w.e. If the average temperature is +2°C, then there will be 0.006 m w.e. of melt on that day. However, if the average temperature is -1°C, then there will not be any melt on that day.\n",
    "\n",
    "So when mean daily air temperature > 0°C:\n",
    "\n",
    "$$\n",
    "  melt = melt factor * temperature\n",
    "$$\n",
    "\n",
    "When mean daily air temperature < 0°C:\n",
    "\n",
    "$$\n",
    "  melt = 0\n",
    "$$\n",
    "\n",
    "Let's assume that the melt factor is equal to `0.003`.\n",
    "\n",
    "* a) Write a for loop that keeps track of **melt** over our study period. \n",
    "\n",
    "```{admonition} Click to reveal hint\n",
    ":class: tip, dropdown\n",
    "The boolean conditional statements (i.e. `if` and `else`) will be useful here, as well as the `+=` operator.\n",
    "```\n",
    "\n",
    "* b) What is the total melt that occurs during our study period?\n"
   ]
  },
  {
   "cell_type": "markdown",
   "id": "f99186be-aa5e-42a2-b8e9-49e57555352f",
   "metadata": {},
   "source": [
    "*****************************\n",
    "\n",
    "## Task 3 (5 points)\n",
    "\n",
    "Glaciers consist mainly of ice but, during the winter, they are covered in a layer of snow. We can use our melt model to keep track of the snow depth (as well as melt). \n",
    "\n",
    "Let's assume our snow depth at the start of our study period is equal to `1 m`.\n",
    "\n",
    "* a) Modify your for loop so that it keeps track of the **snow depth** during our study period.\n",
    "\n",
    "* b) By the end of the season, what is the snow depth?\n",
    "\n",
    "```{admonition} Click to reveal hint\n",
    ":class: tip, dropdown\n",
    "Don't worry if it's negative number.\n",
    "```"
   ]
  },
  {
   "cell_type": "markdown",
   "id": "8fc69822-d2d1-4619-95ec-4165d76c1e16",
   "metadata": {},
   "source": [
    "*****************************\n",
    "\n",
    "## Task 4 (5 points)\n",
    "\n",
    "Glacier ice is much darker than snow so it absorbs less solar radiation. Glacier ice therefore melts at a faster rate than snow. To account for this, positive degree day models usually include two different melt factors (one for ice and one for snow).\n",
    "\n",
    "Let's assume that our melt factor for ice is `0.008` and the melt factor for snow is `0.003`.\n",
    "\n",
    "* a) Modify your for loop so that it accounts for the different melt rates of snow and ice. \n",
    "\n",
    "* b) What is the total melt that occurs during our study period? How much larger is it than the previous model that assumed a constant melt factor of `0.003`?\n"
   ]
  },
  {
   "cell_type": "markdown",
   "id": "222dd1c7-76f0-48bf-b9df-fd92e1135473",
   "metadata": {},
   "source": [
    "*****************************\n",
    "\n",
    "## Task 5 (0 points)\n",
    "\n",
    "* Add a title, your name, and date of this submission to your Jupyter Notebook using **Markdown text**.\n",
    "\n",
    "* Add some more **Markdown text** to separate each task of this assignment and use **f-strings** to make yours answers clear.\n",
    "\n",
    "```{important} \n",
    "Save your notebook to your local course folder and submit assignment (in **.pdf** format) to Canvas by the deadline.\n",
    "```"
   ]
  }
 ],
 "metadata": {
  "kernelspec": {
   "display_name": "Python 3 (ipykernel)",
   "language": "python",
   "name": "python3"
  },
  "language_info": {
   "codemirror_mode": {
    "name": "ipython",
    "version": 3
   },
   "file_extension": ".py",
   "mimetype": "text/x-python",
   "name": "python",
   "nbconvert_exporter": "python",
   "pygments_lexer": "ipython3",
   "version": "3.8.12"
  }
 },
 "nbformat": 4,
 "nbformat_minor": 5
}
