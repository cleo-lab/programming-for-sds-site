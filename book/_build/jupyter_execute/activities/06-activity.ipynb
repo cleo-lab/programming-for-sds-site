{
 "cells": [
  {
   "cell_type": "markdown",
   "id": "331a1381",
   "metadata": {},
   "source": [
    "# Practice activity\n",
    "\n",
    "If you have installed Python locally, launch JupyterLab by running:\n",
    "\n",
    "```\n",
    "conda activate sds\n",
    "```\n",
    "and\n",
    "\n",
    "```\n",
    "jupyter lab\n",
    "```\n",
    "\n",
    "*****************************\n",
    "\n",
    "## Plotting tabular data\n",
    "\n",
    "In this activity, we will use `Pandas` and `Matplotlib` to practice our plotting skills. The data can be downloaded [here](https://www.dropbox.com/scl/fi/4m16i3lkbvi9tyo3kpyxe/avg-precip-months-seasons.csv?rlkey=09r6ki4nr5vkrvc4yyzhadyk6&st=y4jg83yq&dl=0) and [here](https://www.dropbox.com/scl/fi/8n2k7ux98a5uofi29n046/glaciers.csv?rlkey=f2eeam6rckhs96ni6s19tz9zb&st=phtclcvn&dl=0). The first dataset contains average monthly rainfall in inches. The second dataset contains the average loss of global glaciers from 1945 to the present from NOAA data."
   ]
  },
  {
   "cell_type": "markdown",
   "id": "6193a0a5",
   "metadata": {},
   "source": [
    "*****************************\n",
    "\n",
    "## Task 1 (5 points)\n",
    "\n",
    "* a) Read in `avg-precip-months-seasons.csv`\n",
    "\n",
    "* b) Produce a basic plot using `plot()`\n",
    "\n",
    "* c) Set an appropriate **xlabel**, **ylabel**, and **title**.\n",
    "\n",
    "* d) Use the `linestyle` parameter to modify the line style to something other than solid.\n",
    "\n",
    "* e) Change the color to something other than the default blue."
   ]
  },
  {
   "cell_type": "markdown",
   "id": "cd1f2b42",
   "metadata": {},
   "source": [
    "*****************************\n",
    "\n",
    "## Task 2 (5 points)\n",
    "\n",
    "* a) Produce a **bar** plot using `ax.bar()`\n",
    "\n",
    "* b) Set an appropriate **xlabel**, **ylabel**, and **title**.\n",
    "\n",
    "* c) Use the `edgecolor` and `color` parameters to modify the colors of your plot to something other than blue."
   ]
  },
  {
   "cell_type": "markdown",
   "id": "990f59ee",
   "metadata": {},
   "source": [
    "*****************************\n",
    "\n",
    "## Task 3 (5 points)\n",
    "\n",
    "* a) Above we produced two separate plots. Now make a single figure that contains two subplots stacked on top of each other. The first should be the line plot, the second should be the bar chart.\n",
    "For the figure do the following:\n",
    "\n",
    "* b) Add an overal title to your figure using `plt.suptitle()`\n",
    "\n",
    "* c) Reduce whitespace using `layout='constrained'`"
   ]
  },
  {
   "cell_type": "markdown",
   "id": "b60d177c",
   "metadata": {},
   "source": [
    "*****************************\n",
    "\n",
    "## Task 4 (5 points)\n",
    "\n",
    "* a) Read in `glaciers.csv` \n",
    "\n",
    "* b) Parse the dates from the .csv file and assign the `date` column as the **index**.\n",
    "\n",
    "* c) Plot your data making sure `date` is on the x-axis and `Cumulative mass balance` is on the y-axis.\n",
    "\n",
    "* d) Set an appropriate **xlabel**, **ylabel**, and **title**.\n",
    "\n",
    "* e) Change the x limits to range from **1940** to **2020** using the `ax.set_xlim()` argument."
   ]
  },
  {
   "cell_type": "markdown",
   "id": "7b9abb9d",
   "metadata": {},
   "source": [
    "*****************************\n",
    "\n",
    "## Task 5 (0 points)\n",
    "\n",
    "* Add a title, your name, and date of this submission to your Jupyter Notebook using **Markdown text**.\n",
    "\n",
    "* Add some more **Markdown text** to separate each task of this assignment.\n",
    "\n",
    "\n",
    "```{important} \n",
    "Save your notebook to your local course folder and submit assignment (in **.pdf** format) to Canvas by the deadline.\n",
    "```\n",
    "\n",
    "## Acknowledgments\n",
    "\n",
    "This activity is based on the [Earth Data Analytics Online Certificate](https://www.earthdatascience.org/courses/scientists-guide-to-plotting-data-in-python/plot-activities/plot-time-series-data-python/) plotting chapter. \n"
   ]
  },
  {
   "cell_type": "code",
   "execution_count": null,
   "id": "c1c1e582",
   "metadata": {},
   "outputs": [],
   "source": []
  }
 ],
 "metadata": {
  "kernelspec": {
   "display_name": "Python 3 (ipykernel)",
   "language": "python",
   "name": "python3"
  },
  "language_info": {
   "codemirror_mode": {
    "name": "ipython",
    "version": 3
   },
   "file_extension": ".py",
   "mimetype": "text/x-python",
   "name": "python",
   "nbconvert_exporter": "python",
   "pygments_lexer": "ipython3",
   "version": "3.10.9"
  }
 },
 "nbformat": 4,
 "nbformat_minor": 5
}