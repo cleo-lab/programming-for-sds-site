{
 "cells": [
  {
   "cell_type": "markdown",
   "id": "de7df02d-7951-444d-9bdd-5799eeae4e8e",
   "metadata": {},
   "source": [
    "# Practice activity\n",
    "\n",
    "## Golf courses in Oregon\n",
    "\n",
    "In this activity, we will use `Pandas` to conduct some data analysis on golf courses in Oregon. The data can be downloaded [here](https://www.dropbox.com/scl/fi/7reqx12fh954vi2tjb5p7/golf-oregon.csv?rlkey=musbdorxqutxe2e4ck2aihko3&dl=0) and [here](https://www.dropbox.com/scl/fi/x93b8cr6qmedvturck00u/or-zip-codes-data.csv?rlkey=7ffg3jma51rmnc1614vc3eacg&dl=0). The first dataset is a table of golf courses in Oregon. The second dataset is provides population data for each zip code in Oregon.  \n",
    "\n",
    "```{image} images/golf-course.jpeg\n",
    ":alt: golf\n",
    ":width: 600px\n",
    ":align: center\n",
    "```"
   ]
  },
  {
   "cell_type": "markdown",
   "id": "02cc103f-48ef-4a70-b206-cff251995587",
   "metadata": {},
   "source": [
    "*****************************\n",
    "\n",
    "## Task 1 (5 points)\n",
    "\n",
    "Read the the golf course dataset and answer the following questions:\n",
    "\n",
    "* How many rows and columns are in this dataset?\n",
    "\n",
    "* What are the names of the columns?\n",
    "\n",
    "* When was the first golf course built in Oregon?\n",
    "\n",
    "* What is the name and the town of the oldest course?\n",
    "\n",
    "* What is the name (and cost) of the course with the highest green fees?"
   ]
  },
  {
   "cell_type": "markdown",
   "id": "c62ff78a-905f-4dea-aadf-2ca2b6a6ce2d",
   "metadata": {},
   "source": [
    "*****************************\n",
    "\n",
    "## Task 2 (5 points)\n",
    "\n",
    "Read the the zip code population dataset and answer the following questions:\n",
    "\n",
    "* How many rows and columns are in this dataset?\n",
    "\n",
    "* What is the mean population?\n",
    "\n",
    "* How many zip codes have more than 40,000 people?\n",
    "\n",
    "* Which county has the most cities?\n",
    "\n",
    "* Which city has the most zip codes?"
   ]
  },
  {
   "cell_type": "markdown",
   "id": "afbc3f17-db1e-4d76-bc12-808e03b760af",
   "metadata": {},
   "source": [
    "*****************************\n",
    "\n",
    "## Task 3 (5 points)\n",
    "\n",
    "* Merge the two Dataframes\n",
    "\n",
    "* How many zip codes do not have a single golf course?\n",
    "\n",
    "* Which zip code has the most golf courses?\n",
    "\n",
    "* Which city has the most golf courses per capita (i.e. per person)?\n",
    "\n",
    "* Which county has the most golf courses per capita?"
   ]
  },
  {
   "cell_type": "markdown",
   "id": "5d83f037-9b63-4997-bd42-7e88a98d6fe9",
   "metadata": {},
   "source": [
    "*****************************\n",
    "\n",
    "## Task 4 (0 points)\n",
    "\n",
    "* Add a title, your name, and date of this submission to your Jupyter Notebook using **Markdown text**.\n",
    "\n",
    "* Add some more **Markdown text** to separate each task of this assignment and use **f-strings** to make yours answers clear.\n",
    "\n",
    "```{important} \n",
    "Save your notebook to your local course folder and submit assignment (in **.pdf** format) to Canvas by the deadline.\n",
    "```"
   ]
  }
 ],
 "metadata": {
  "kernelspec": {
   "display_name": "Python 3 (ipykernel)",
   "language": "python",
   "name": "python3"
  },
  "language_info": {
   "codemirror_mode": {
    "name": "ipython",
    "version": 3
   },
   "file_extension": ".py",
   "mimetype": "text/x-python",
   "name": "python",
   "nbconvert_exporter": "python",
   "pygments_lexer": "ipython3",
   "version": "3.8.12"
  }
 },
 "nbformat": 4,
 "nbformat_minor": 5
}