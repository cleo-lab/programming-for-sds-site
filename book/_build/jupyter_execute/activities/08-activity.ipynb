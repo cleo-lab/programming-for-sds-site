{
 "cells": [
  {
   "cell_type": "markdown",
   "id": "2294d83b-f952-4d3f-9c4d-76bfdafdaff5",
   "metadata": {},
   "source": [
    "# Practice activity\n",
    "\n",
    "If you have installed Python locally, launch JupyterLab by running:\n",
    "\n",
    "```\n",
    "conda activate sds\n",
    "```\n",
    "and\n",
    "\n",
    "```\n",
    "jupyter lab\n",
    "```\n",
    "\n",
    "*****************************\n",
    "\n",
    "## Where are buildings in Eastern Oregon?\n",
    "\n",
    "```{image} images/harney.jpeg\n",
    ":alt: checkerboard\n",
    ":class: bg-primary mb-1\n",
    ":width: 600px\n",
    ":align: center\n",
    "```\n",
    "\n",
    "In this activity, we will combine several vector datasets to investigate the spatial distribution of buildings in Eastern Oregon. The building footprints can be downloaded from [here](https://www.dropbox.com/scl/fi/e5fhrozgfv2bsj224w87r/eastern-oregon-buildings.geojson?rlkey=ci2ycqrm5y1ouhky578ye9h4m&st=9xy0bsho&dl=0). This a subset of buildings from the dataset produced by Microsoft using AI. See the [GitHub page](https://github.com/Microsoft/USBuildingFootprints) for more information about the data. The other datasets we will need is the highways dataset which can be downloaded from [here](https://www.dropbox.com/scl/fi/k7le95ttz1ekgq83muxej/highways.zip?rlkey=wu09bsduthq1mr323fauodg2r&st=kkorc7b2&dl=0) and the Census tracts dataset which can be downloaded from [here](https://www.dropbox.com/scl/fi/mi4nh71pqaqtfv34nsg0t/tracts.zip?rlkey=q90fkkoekrto3o2wa1g1enbet&st=qgxjo890&dl=0). A \"tract\" is a subdivision used by the Census Bureau that is smaller than a county and usually contains between 1,200 and 8,000 people.\n",
    "\n",
    "## Task 1 (10 points)\n",
    "\n",
    "Load the building dataset.\n",
    "\n",
    "* a) How many rows and columns does this file have?\n",
    "\n",
    "* b) What is the coordinate reference system of this file?\n",
    "\n",
    "* c) What type of geometries does this file contain? (i.e. points, lines, or polygons?)\n",
    "\n",
    "Load the Census tracts dataset\n",
    "\n",
    "* e) How many rows and columns does this file have?\n",
    "\n",
    "* f) What is the coordinate reference system of this file?\n",
    "\n",
    "* g) What type of geometries does this file contain?\n",
    "\n",
    "Load the highways dataset.\n",
    "\n",
    "* h) How many rows and columns does this file have?\n",
    "\n",
    "* i) What is the coordinate reference system of this file?\n",
    "\n",
    "* j) What type of geometries does this file contain?"
   ]
  },
  {
   "cell_type": "markdown",
   "id": "9943de87-6c30-418b-8d06-d504e3170f33",
   "metadata": {},
   "source": [
    "## Task 2 (5 points)\n",
    "\n",
    "* Reproject all three files to UTM Zone 11N (EPSG:32611)"
   ]
  },
  {
   "cell_type": "markdown",
   "id": "ceb70a6d-15c2-43c5-828e-e0276dbe5cd2",
   "metadata": {},
   "source": [
    "## Task 3 (5 points)\n",
    "\n",
    "* Perform a **spatial join** (i.e. `sjoin`) between the building footprints and the tracts GeoDataFrames so that each building has the attributes of the tracts GeoDataFrame.\n",
    "\n",
    "* Which **county** (`COUNTYFP`) in Eastern Oregon contains the **most** buildings? Looking for a name here (not a number).\n",
    "\n",
    "```{note}\n",
    "We can find the name of the county that corresponds to the `COUNTYFP` code [here](https://unicede.air-worldwide.com/unicede/unicede_oregon_fips.html)\n",
    "```\n",
    "\n",
    "* Which **county** (`COUNTYFP`) in Eastern Oregon contains the **least** buildings?"
   ]
  },
  {
   "cell_type": "markdown",
   "id": "ebcfea46-f5dd-4a50-aa66-432eb9eb955b",
   "metadata": {},
   "source": [
    "## Task 4 (5 points)\n",
    "\n",
    "* a) Produce an interactive plot (i.e. using `explore()`) showing buildings in Wheeler County"
   ]
  },
  {
   "cell_type": "markdown",
   "id": "af3392c3-c2ea-4faf-9e81-f1af7a02deca",
   "metadata": {},
   "source": [
    "## Task 5 (10 points)\n",
    "\n",
    "* a) Produce a new GeoDataFrame that only contains highways within Harney County (i.e. using `sjoin()`).\n",
    "\n",
    "* b) Produce another new GeoDataFrame containing only the buildings within Harney County.\n",
    "\n",
    "* c) Buffer the Harney Highwway GeoDataFrame by 1/2 mile.\n",
    "\n",
    "```{note}\n",
    "The [`buffer()`](https://geopandas.org/en/stable/docs/reference/api/geopandas.GeoSeries.buffer.html) function is useful for this.\n",
    "```\n",
    "\n",
    "* d) Set the active geometry of the Harney Highways GeoDataFrame as the new buffer column.\n",
    "\n",
    "```{note}\n",
    "We can use [`set_geometry()`](https://geopandas.org/en/stable/docs/reference/api/geopandas.GeoDataFrame.set_geometry.html) to do this.\n",
    "```\n",
    "\n",
    "* e) Group the buffered polygons into a single `MultiPolygon` using the [`dissolve()`](https://geopandas.org/en/stable/docs/reference/api/geopandas.GeoDataFrame.dissolve.html) function. There should only be one row after performing this step. \n",
    "\n",
    "\n",
    "* f) What percentage of buildings in Harney County are within 1/2 of the highway? \n",
    "\n",
    "```{note}\n",
    "May have to drop the `index_right` columns before running this function.\n",
    "```\n",
    "\n",
    "* g) Make a plot of buildings in Harney County that are within 1/2 mile of the highway using `explore()`."
   ]
  },
  {
   "cell_type": "code",
   "execution_count": null,
   "id": "7bcf7aee-8838-4176-9013-beb604df19c4",
   "metadata": {},
   "outputs": [],
   "source": []
  }
 ],
 "metadata": {
  "kernelspec": {
   "display_name": "Python 3 (ipykernel)",
   "language": "python",
   "name": "python3"
  },
  "language_info": {
   "codemirror_mode": {
    "name": "ipython",
    "version": 3
   },
   "file_extension": ".py",
   "mimetype": "text/x-python",
   "name": "python",
   "nbconvert_exporter": "python",
   "pygments_lexer": "ipython3",
   "version": "3.8.12"
  }
 },
 "nbformat": 4,
 "nbformat_minor": 5
}