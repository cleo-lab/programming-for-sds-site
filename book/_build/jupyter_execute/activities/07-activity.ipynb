{
 "cells": [
  {
   "cell_type": "markdown",
   "id": "74dcc583-7b17-4f62-9c16-477886b5d2dc",
   "metadata": {},
   "source": [
    "# Practice activity\n",
    "\n",
    "If you have installed Python locally, launch JupyterLab by running:\n",
    "\n",
    "```\n",
    "conda activate sds\n",
    "```\n",
    "and\n",
    "\n",
    "```\n",
    "jupyter lab\n",
    "```\n",
    "\n",
    "*****************************\n",
    "\n",
    "## Analyzing table data\n",
    "\n",
    "In this activity, we will use `Pandas` and `Matplotlib` to do some more advanced data analysis.. The data can be downloaded [here](https://www.dropbox.com/scl/fi/tesoyfuc1do9oagvpl2h5/hayden-glacier-aws-data.csv?rlkey=zbjlb5zre4u9g9t7ccrlcygzy&st=1o7e0cdb&dl=0). We have seen this dataset before! It's weather station data from Hayden Glacier but this time it is provided at 15-minute interval. "
   ]
  },
  {
   "cell_type": "markdown",
   "id": "dae4bafe-92c5-480e-98af-f0a187fb7f91",
   "metadata": {},
   "source": [
    "*****************************\n",
    "\n",
    "## Task 1 (10 points)\n",
    " \n",
    " * a) Read the weather station data, parse the `Datetime` column, and set the index column to `Datetime`\n",
    "\n",
    " * b) What time was solar radiation highest on July 3?\n",
    "\n",
    " * c) Make a plot showing solar radiation and annotate it to show the value of highest solar radiation\n",
    "\n",
    " * d) Resample the data to **mean daily** values\n",
    "\n",
    " * e) On what date was solar radiation (mean daily) highest?\n",
    "\n",
    " * f) Make a plot showing mean daily solar radiation\n",
    "\n",
    " * g) Perform a 30-day median filter using a rolling window\n",
    "\n",
    " * h) Make a figure showing both the daily solar radiation and median filtered solar radiation on the same plot\n",
    "\n",
    " * i) By how much does mean daily solar radiation change during the study period (July 07 to Sep 16)? Looking for a value in W m^-2^ d^-1^.\n",
    "\n",
    " * j) Based on this rate, what will be the mean solar radiation on Oct 30, 2023?"
   ]
  },
  {
   "cell_type": "markdown",
   "id": "67048766-94ba-41fd-a996-660593367988",
   "metadata": {},
   "source": [
    "*****************************\n",
    "\n",
    "## Task 2 (0 points)\n",
    "\n",
    "* Add a title, your name, and date of this submission to your Jupyter Notebook using **Markdown text**.\n",
    "\n",
    "* Add some more **Markdown text** to separate each task of this assignment.\n",
    "\n",
    "\n",
    "```{important} \n",
    "Save your notebook to your local course folder and submit assignment (in **.pdf** format) to Canvas by the deadline.\n",
    "```"
   ]
  }
 ],
 "metadata": {
  "kernelspec": {
   "display_name": "Python 3 (ipykernel)",
   "language": "python",
   "name": "python3"
  },
  "language_info": {
   "codemirror_mode": {
    "name": "ipython",
    "version": 3
   },
   "file_extension": ".py",
   "mimetype": "text/x-python",
   "name": "python",
   "nbconvert_exporter": "python",
   "pygments_lexer": "ipython3",
   "version": "3.10.9"
  }
 },
 "nbformat": 4,
 "nbformat_minor": 5
}