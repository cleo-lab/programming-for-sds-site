{
 "cells": [
  {
   "cell_type": "markdown",
   "id": "c866fee3",
   "metadata": {},
   "source": [
    "# Getting started"
   ]
  },
  {
   "cell_type": "markdown",
   "id": "f23920f8",
   "metadata": {},
   "source": [
    "We will use several applications for programming and communications during this course. The main application we will use is [`JupyterLab`](https://jupyterlab.readthedocs.io/en/stable/getting_started/overview.html) which is a **free**, web-based interactive development environment (IDE) for code development."
   ]
  },
  {
   "cell_type": "markdown",
   "id": "bb13d776",
   "metadata": {},
   "source": [
    "```{admonition} Task\n",
    "Launch JupyterLab by clicking this button: [![Binder](https://mybinder.org/badge_logo.svg)](https://mybinder.org/v2/gh/owel-lab/gds-applications-site/HEAD)\n",
    "```"
   ]
  },
  {
   "cell_type": "markdown",
   "id": "3b083631",
   "metadata": {},
   "source": [
    "It takes a minute to spin-up but eventually we will see a custom JupyterLab environment in which we can execute code and complete assignments.\n",
    "\n",
    "\n",
    "The JupyterLab interface consists of different components such as a file browser, terminal, console, text editor, etc. But the main component we will use during this course are **Jupyter Notebooks** (with `.ipynb` extension) which can contain computer code and rich text elements (headings, lists, figures, links, etc.). Jupyter Notebooks are great for sharing code between instructor and students. \n",
    "\n",
    "```{admonition} Open a new notebook\n",
    "We can open a new notebook by clicking the **Python 3 (ipykernel)** panel under **notebook**.\n",
    "```\n",
    "\n",
    "```{image} images/jupyterlab.png\n",
    ":alt: jupyterlab\n",
    ":class: bg-primary mb-1\n",
    ":width: 600px\n",
    ":align: center\n",
    "```"
   ]
  },
  {
   "cell_type": "code",
   "execution_count": null,
   "id": "a857a89b",
   "metadata": {},
   "outputs": [],
   "source": []
  }
 ],
 "metadata": {
  "kernelspec": {
   "display_name": "Python 3 (ipykernel)",
   "language": "python",
   "name": "python3"
  },
  "language_info": {
   "codemirror_mode": {
    "name": "ipython",
    "version": 3
   },
   "file_extension": ".py",
   "mimetype": "text/x-python",
   "name": "python",
   "nbconvert_exporter": "python",
   "pygments_lexer": "ipython3",
   "version": "3.8.12"
  }
 },
 "nbformat": 4,
 "nbformat_minor": 5
}