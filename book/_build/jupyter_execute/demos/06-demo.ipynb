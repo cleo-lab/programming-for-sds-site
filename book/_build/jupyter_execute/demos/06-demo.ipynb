{
 "cells": [
  {
   "cell_type": "markdown",
   "id": "18b31aa3",
   "metadata": {},
   "source": [
    "# Making plots\n",
    "\n",
    "The most widely used Python library for making figures (or plots) is called `Matplotlib`. "
   ]
  },
  {
   "attachments": {},
   "cell_type": "markdown",
   "id": "5349c78c",
   "metadata": {},
   "source": [
    "## Anatomy of a figure\n",
    "\n",
    "```{image} images/sphx_glr_anatomy_001.webp\n",
    ":alt: anatomy\n",
    ":class: bg-primary mb-1\n",
    ":width: 600px\n",
    ":align: center\n",
    "```"
   ]
  },
  {
   "cell_type": "code",
   "execution_count": null,
   "id": "720b721c",
   "metadata": {},
   "outputs": [],
   "source": []
  },
  {
   "cell_type": "code",
   "execution_count": null,
   "id": "103a3d9a",
   "metadata": {},
   "outputs": [],
   "source": []
  },
  {
   "cell_type": "code",
   "execution_count": null,
   "id": "94d70090",
   "metadata": {},
   "outputs": [],
   "source": []
  },
  {
   "cell_type": "code",
   "execution_count": null,
   "id": "2589d44d",
   "metadata": {},
   "outputs": [],
   "source": []
  },
  {
   "cell_type": "code",
   "execution_count": null,
   "id": "9f9d0f5c",
   "metadata": {},
   "outputs": [],
   "source": []
  }
 ],
 "metadata": {
  "kernelspec": {
   "display_name": "Python 3 (ipykernel)",
   "language": "python",
   "name": "python3"
  },
  "language_info": {
   "codemirror_mode": {
    "name": "ipython",
    "version": 3
   },
   "file_extension": ".py",
   "mimetype": "text/x-python",
   "name": "python",
   "nbconvert_exporter": "python",
   "pygments_lexer": "ipython3",
   "version": "3.8.12"
  }
 },
 "nbformat": 4,
 "nbformat_minor": 5
}