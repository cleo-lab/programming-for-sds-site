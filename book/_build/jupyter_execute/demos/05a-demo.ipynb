{
 "cells": [
  {
   "cell_type": "markdown",
   "id": "6879dc83",
   "metadata": {},
   "source": [
    "# Functions\n",
    "\n",
    "When we write code, we want it to be as concise as possible while retaining readability. Sometimes we find ourselves writing out the same block over and over again. If we are doing this, it may be time to define a **function**, a self-contained program that can perform a specific task repeatedly in your code. "
   ]
  },
  {
   "cell_type": "markdown",
   "id": "3df5ea33",
   "metadata": {},
   "source": [
    "## Anatomy of a function\n",
    "<br>\n",
    "<br>\n",
    "\n",
    "```{image} images/python-function.png\n",
    ":alt: function example\n",
    ":class: mb-1\n",
    ":width: 400px\n",
    ":align: center\n",
    "```\n",
    "<br>\n",
    "<br>"
   ]
  },
  {
   "cell_type": "markdown",
   "id": "8f8731dc",
   "metadata": {},
   "source": [
    "Let's define our first function"
   ]
  },
  {
   "cell_type": "code",
   "execution_count": 7,
   "id": "b8a8c937",
   "metadata": {},
   "outputs": [],
   "source": [
    "def fahr_to_celsius(temp_fahrenheit):\n",
    "    \n",
    "    temp_celsius = (temp_fahrenheit - 32) * (5/9)\n",
    "    \n",
    "    return temp_celsius"
   ]
  },
  {
   "cell_type": "markdown",
   "id": "33d8f133",
   "metadata": {},
   "source": [
    "The function definition opens with the keyword `def` followed by the **name** of the function and a list of **parameters** in parentheses. The **body** of the function — the code that is executed when it runs — is **indented** below the definition line.\n",
    "\n",
    "When we call the function, the values we pass to it are assigned to the corresponding parameter variables so that we can use them inside the function. At the end of the function, we use a `return` statement to define the value that should be returned when the function is called.\n",
    "\n",
    "Defining a function does nothing other than make it available for use in our notebooks. In order to use the function we need to call it."
   ]
  },
  {
   "cell_type": "code",
   "execution_count": 10,
   "id": "d786d147",
   "metadata": {},
   "outputs": [
    {
     "data": {
      "text/plain": [
       "17.22222222222222"
      ]
     },
     "execution_count": 10,
     "metadata": {},
     "output_type": "execute_result"
    }
   ],
   "source": [
    "fahr_to_celsius(63)"
   ]
  },
  {
   "cell_type": "code",
   "execution_count": null,
   "id": "e9e8d793",
   "metadata": {},
   "outputs": [],
   "source": []
  }
 ],
 "metadata": {
  "kernelspec": {
   "display_name": "Python 3 (ipykernel)",
   "language": "python",
   "name": "python3"
  },
  "language_info": {
   "codemirror_mode": {
    "name": "ipython",
    "version": 3
   },
   "file_extension": ".py",
   "mimetype": "text/x-python",
   "name": "python",
   "nbconvert_exporter": "python",
   "pygments_lexer": "ipython3",
   "version": "3.8.12"
  }
 },
 "nbformat": 4,
 "nbformat_minor": 5
}