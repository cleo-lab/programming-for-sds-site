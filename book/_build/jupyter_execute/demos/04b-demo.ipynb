{
 "cells": [
  {
   "cell_type": "markdown",
   "id": "c5de907e",
   "metadata": {},
   "source": [
    "# Pandas DataFrames II\n",
    "\n",
    "Since `Pandas` provides such an extensive set of tools for working with table data, it is worth doing another demo on it. "
   ]
  },
  {
   "cell_type": "markdown",
   "id": "a02af716",
   "metadata": {},
   "source": [
    "## Adding columns\n",
    "\n"
   ]
  },
  {
   "cell_type": "markdown",
   "id": "ec1cfbdf",
   "metadata": {},
   "source": [
    "## Dropping columns\n",
    "\n"
   ]
  }
 ],
 "metadata": {
  "kernelspec": {
   "display_name": "Python 3 (ipykernel)",
   "language": "python",
   "name": "python3"
  },
  "language_info": {
   "codemirror_mode": {
    "name": "ipython",
    "version": 3
   },
   "file_extension": ".py",
   "mimetype": "text/x-python",
   "name": "python",
   "nbconvert_exporter": "python",
   "pygments_lexer": "ipython3",
   "version": "3.8.12"
  }
 },
 "nbformat": 4,
 "nbformat_minor": 5
}