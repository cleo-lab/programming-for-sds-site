{
 "cells": [
  {
   "cell_type": "markdown",
   "id": "e0f1f1a3",
   "metadata": {},
   "source": [
    "# Conditional statements\n",
    "\n",
    "In the second part of this week we will learn how to write Python code that can make decisions using conditional statements (`if`, `elif`, `else`), comparison operators (`>`, `<`, `==`), and Boolean values (`True`, `False`).\n",
    "\n",
    "\n",
    "## A simple conditional statment\n",
    "\n",
    "Here is a simple example. A messenger arrives at a crossroads and has to make a decision about which way to go. They decide to turn **left**. This is what the code could look like:"
   ]
  },
  {
   "cell_type": "code",
   "execution_count": 21,
   "id": "66b1b7c1",
   "metadata": {},
   "outputs": [
    {
     "name": "stdout",
     "output_type": "stream",
     "text": [
      "Turns left\n"
     ]
    }
   ],
   "source": [
    "direction = 'left'\n",
    "\n",
    "if direction == 'left':\n",
    "    print(\"Turns left\")"
   ]
  },
  {
   "cell_type": "markdown",
   "id": "92689409",
   "metadata": {},
   "source": [
    "Conditional statements are written in a similar way to `for` loops. The `if` statement checks to see whether the variable value is `True` or `False`. If a `True` is returned, then we execute the **indented** command below.\n",
    "\n",
    "Alternatively, the messenger might decide to turn **right**."
   ]
  },
  {
   "cell_type": "code",
   "execution_count": 25,
   "id": "59714824",
   "metadata": {},
   "outputs": [],
   "source": [
    "direction = 'right'\n",
    "\n",
    "if direction == 'left':\n",
    "    print(\"Turns left\")"
   ]
  },
  {
   "cell_type": "markdown",
   "id": "6b9411ad",
   "metadata": {},
   "source": [
    "````{margin}\n",
    "```{note}\n",
    "Similar to `for` loops, Python uses colons (:) and whitespace (indentations) to structure conditional statements.\n",
    "```\n",
    "````"
   ]
  },
  {
   "cell_type": "markdown",
   "id": "03718e3a",
   "metadata": {},
   "source": [
    "This time the first statement (`if direction == 'left':`) was ignored because the value returned was `False`. Nothing was returned.\n",
    "\n",
    "## `elif`\n",
    "\n",
    "If we wanted to add an option for turning right we could add it using an `elif` statement."
   ]
  },
  {
   "cell_type": "code",
   "execution_count": 26,
   "id": "2fb410bc",
   "metadata": {},
   "outputs": [
    {
     "name": "stdout",
     "output_type": "stream",
     "text": [
      "Turns right\n"
     ]
    }
   ],
   "source": [
    "direction = 'right'\n",
    "\n",
    "if direction == 'left':\n",
    "    print(\"Turns left\")\n",
    "elif direction == 'right':\n",
    "    print(\"Turns right\")"
   ]
  },
  {
   "cell_type": "markdown",
   "id": "1f3fcec2",
   "metadata": {},
   "source": [
    "```{note}\n",
    "It is good practice to use `elif` statements beneath `if` statements to explicitly state that the cases are **mutually exclusive** (i.e. if we turn left, we cannot turn right).\n",
    "```"
   ]
  },
  {
   "cell_type": "markdown",
   "id": "9faf9b47",
   "metadata": {},
   "source": [
    "What happens if our messenger wanted to go **straight**?"
   ]
  },
  {
   "cell_type": "code",
   "execution_count": 28,
   "id": "0874a81d",
   "metadata": {},
   "outputs": [],
   "source": [
    "direction = 'straight'\n",
    "\n",
    "if direction == 'left':\n",
    "    print(\"Turns left\")\n",
    "elif direction == 'right':\n",
    "    print(\"Turns right\")"
   ]
  },
  {
   "cell_type": "markdown",
   "id": "efd22dba",
   "metadata": {},
   "source": [
    "Both statements return a `False` value, no commands are executed, and nothing is returned. \n",
    "\n",
    "## `else`\n",
    "\n",
    "To catch these alternative options, we can add an `else` statement."
   ]
  },
  {
   "cell_type": "code",
   "execution_count": 29,
   "id": "b5b8cde3",
   "metadata": {},
   "outputs": [
    {
     "name": "stdout",
     "output_type": "stream",
     "text": [
      "Stay straight\n"
     ]
    }
   ],
   "source": [
    "direction = 'straight'\n",
    "\n",
    "if direction == 'left':\n",
    "    print(\"Turns left\")\n",
    "elif direction == 'right':\n",
    "    print(\"Turns right\")\n",
    "else: \n",
    "    print(\"Stay straight\")"
   ]
  },
  {
   "cell_type": "markdown",
   "id": "f5319b51",
   "metadata": {},
   "source": [
    "The command beneath the `else` statement will be executed if all `if` and `elif` statements return `**False**`. "
   ]
  },
  {
   "cell_type": "markdown",
   "id": "a386d613",
   "metadata": {},
   "source": [
    "```{note}\n",
    "The `else` clause is optional. If it is present, there can be only one and it must be specified last.\n",
    "```"
   ]
  },
  {
   "cell_type": "markdown",
   "id": "821b6083",
   "metadata": {},
   "source": [
    "```{tip}\n",
    "Along with the `==` operator, there are a few more options to know about:\n",
    "\n",
    "`>`: greater than\n",
    "`<`: less than\n",
    "`==`: equal to\n",
    "`!=`: does not equal\n",
    "`>=`: greater than or equal to\n",
    "`<=`: less than or equal to\n",
    "```"
   ]
  },
  {
   "cell_type": "markdown",
   "id": "9f8ea848",
   "metadata": {},
   "source": [
    "## Boolean alegbra\n",
    "\n",
    "Our conditional statements are not limited to strings, we can also use numbers. In addition, we might want to include logical operators such as `and`, `or`, and `not` into our conditions. We can do this as follows:"
   ]
  },
  {
   "cell_type": "code",
   "execution_count": 52,
   "id": "04d325d3",
   "metadata": {},
   "outputs": [
    {
     "name": "stdout",
     "output_type": "stream",
     "text": [
      "Cross the pass and deliver mail!\n"
     ]
    }
   ],
   "source": [
    "temperature = 60\n",
    "\n",
    "if (temperature > 90) or (temperature < 30):\n",
    "    print(\"Stay at home\")\n",
    "else: \n",
    "    print(\"Cross the pass and deliver mail!\")"
   ]
  },
  {
   "cell_type": "markdown",
   "id": "ca00312f",
   "metadata": {},
   "source": [
    "Here we combined two conditional statements using the `or` operator to determine whether our messenger should go and deliver mail."
   ]
  },
  {
   "cell_type": "markdown",
   "id": "e768b031",
   "metadata": {},
   "source": [
    "```{note}\n",
    "An alternative for `and` is `&`. Likewise, `or` can be replaced with `|`\n",
    "```"
   ]
  },
  {
   "cell_type": "markdown",
   "id": "16737964",
   "metadata": {},
   "source": [
    "## Keeping track\n",
    "\n",
    "We can use boolean conditional statements and `+=` operator to keep track of values. `+=` adds another value to the current value of the variable. Let's say our messenger wanted to buy an apple and an orange but did not know what fruit the shops had in stock. First we visit the fruit stand: "
   ]
  },
  {
   "cell_type": "code",
   "execution_count": 65,
   "id": "55286720",
   "metadata": {},
   "outputs": [
    {
     "data": {
      "text/plain": [
       "0"
      ]
     },
     "execution_count": 65,
     "metadata": {},
     "output_type": "execute_result"
    }
   ],
   "source": [
    "fruit_stand = ['lemons', 'oranges']\n",
    "food = 0\n",
    "\n",
    "if fruit_stand.count('apples') > 0:\n",
    "    food += 1\n",
    "if fruit_stand.count('pears') > 0:\n",
    "    food += 1\n",
    "else:\n",
    "    pass\n",
    "\n",
    "food"
   ]
  },
  {
   "cell_type": "markdown",
   "id": "1858479a",
   "metadata": {},
   "source": [
    "```{note}\n",
    "This time our statements are **not mutually exclusive** (i.e. it is possible that we can find both apples **and** pears) so it is OK to use two `if` statements. \n",
    "```"
   ]
  },
  {
   "cell_type": "markdown",
   "id": "318c54bf",
   "metadata": {},
   "source": [
    "````{margin}\n",
    "```{note}\n",
    "The **pass** command beneath the `else` statement. This is basically a placeholder for \"do nothing\". \n",
    "```\n",
    "````"
   ]
  },
  {
   "cell_type": "markdown",
   "id": "7e16f917",
   "metadata": {},
   "source": [
    "Unfortunately, there were no apples and oranges for sale so our messenger still has no fruit to eat."
   ]
  },
  {
   "cell_type": "code",
   "execution_count": 1,
   "id": "e8984215",
   "metadata": {},
   "outputs": [
    {
     "data": {
      "text/plain": [
       "2"
      ]
     },
     "execution_count": 1,
     "metadata": {},
     "output_type": "execute_result"
    }
   ],
   "source": [
    "corner_shop = ['apples', 'oranges', 'pears', 'melons', 'grapefruits']\n",
    "items = 0\n",
    "\n",
    "if corner_shop.count('apples') > 0:\n",
    "    items += 1\n",
    "if corner_shop.count('pears') > 0:\n",
    "    items += 1\n",
    "else:\n",
    "    pass\n",
    "\n",
    "items"
   ]
  },
  {
   "cell_type": "markdown",
   "id": "18c7049b",
   "metadata": {},
   "source": [
    "Luckily, the corner shop had apples and oranges so our messenger now has two pieces of fruit to eat. "
   ]
  },
  {
   "cell_type": "markdown",
   "id": "f930d5d2",
   "metadata": {},
   "source": [
    "## Combining for loops and conditional statements\n",
    "\n",
    "Conditional statements are often combined with for loops. Let's say we wanted to calculate how many days the messenger could cross the pass and deliver mail over a 50-day period. "
   ]
  },
  {
   "cell_type": "code",
   "execution_count": 2,
   "id": "f3a46f75",
   "metadata": {},
   "outputs": [
    {
     "name": "stdout",
     "output_type": "stream",
     "text": [
      "The messenger delivered mail on 16 days\n"
     ]
    }
   ],
   "source": [
    "# Import package\n",
    "import numpy as np\n",
    "\n",
    "# Make a new array of random temperatures between 10 and 60 for 50 days\n",
    "temperatures = np.random.randint(10, 60, 50) \n",
    "\n",
    "# Set days equal to zero\n",
    "days = 0\n",
    "\n",
    "# Loop over every day\n",
    "for i in temperatures:\n",
    "    if (i > 90) or (i < 30):\n",
    "        days += 1        \n",
    "    else: \n",
    "        pass\n",
    "\n",
    "print(f\"The messenger delivered mail on {days} days\")"
   ]
  }
 ],
 "metadata": {
  "kernelspec": {
   "display_name": "Python 3 (ipykernel)",
   "language": "python",
   "name": "python3"
  },
  "language_info": {
   "codemirror_mode": {
    "name": "ipython",
    "version": 3
   },
   "file_extension": ".py",
   "mimetype": "text/x-python",
   "name": "python",
   "nbconvert_exporter": "python",
   "pygments_lexer": "ipython3",
   "version": "3.8.12"
  }
 },
 "nbformat": 4,
 "nbformat_minor": 5
}