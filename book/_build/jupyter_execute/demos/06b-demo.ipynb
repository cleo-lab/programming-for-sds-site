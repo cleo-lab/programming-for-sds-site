{
 "cells": [
  {
   "cell_type": "markdown",
   "id": "70653c4f",
   "metadata": {},
   "source": [
    "# Plotting timeseries data\n",
    "\n",
    "Most of the data that we want to plot with `Matplotlib` will be in tabular format. In the second demo of this week, we will make some plots to display daily reservoir levels of [Fall Creek Reservoir](https://en.wikipedia.org/wiki/Fall_Creek_Lake) in the Willamette National Forest. \n",
    "\n",
    "```{image} images/fall_creek.jpg\n",
    ":alt: fall creek reservoir\n",
    ":class: bg-primary mb-1\n",
    ":width: 600px\n",
    ":align: center\n",
    "```"
   ]
  },
  {
   "cell_type": "markdown",
   "id": "35ea1266",
   "metadata": {},
   "source": [
    "## Daily reservoir levels"
   ]
  },
  {
   "cell_type": "code",
   "execution_count": 245,
   "id": "fcbcfdc3",
   "metadata": {},
   "outputs": [
    {
     "data": {
      "text/html": [
       "<div>\n",
       "<style scoped>\n",
       "    .dataframe tbody tr th:only-of-type {\n",
       "        vertical-align: middle;\n",
       "    }\n",
       "\n",
       "    .dataframe tbody tr th {\n",
       "        vertical-align: top;\n",
       "    }\n",
       "\n",
       "    .dataframe thead th {\n",
       "        text-align: right;\n",
       "    }\n",
       "</style>\n",
       "<table border=\"1\" class=\"dataframe\">\n",
       "  <thead>\n",
       "    <tr style=\"text-align: right;\">\n",
       "      <th></th>\n",
       "      <th>date</th>\n",
       "      <th>level</th>\n",
       "    </tr>\n",
       "  </thead>\n",
       "  <tbody>\n",
       "    <tr>\n",
       "      <th>0</th>\n",
       "      <td>2020-11-05</td>\n",
       "      <td>677.94</td>\n",
       "    </tr>\n",
       "    <tr>\n",
       "      <th>1</th>\n",
       "      <td>2020-11-06</td>\n",
       "      <td>691.36</td>\n",
       "    </tr>\n",
       "    <tr>\n",
       "      <th>2</th>\n",
       "      <td>2020-11-07</td>\n",
       "      <td>693.29</td>\n",
       "    </tr>\n",
       "    <tr>\n",
       "      <th>3</th>\n",
       "      <td>2020-11-08</td>\n",
       "      <td>694.50</td>\n",
       "    </tr>\n",
       "    <tr>\n",
       "      <th>4</th>\n",
       "      <td>2020-11-09</td>\n",
       "      <td>694.56</td>\n",
       "    </tr>\n",
       "    <tr>\n",
       "      <th>...</th>\n",
       "      <td>...</td>\n",
       "      <td>...</td>\n",
       "    </tr>\n",
       "    <tr>\n",
       "      <th>582</th>\n",
       "      <td>2022-06-10</td>\n",
       "      <td>829.63</td>\n",
       "    </tr>\n",
       "    <tr>\n",
       "      <th>583</th>\n",
       "      <td>2022-06-11</td>\n",
       "      <td>830.73</td>\n",
       "    </tr>\n",
       "    <tr>\n",
       "      <th>584</th>\n",
       "      <td>2022-06-12</td>\n",
       "      <td>830.90</td>\n",
       "    </tr>\n",
       "    <tr>\n",
       "      <th>585</th>\n",
       "      <td>2022-06-13</td>\n",
       "      <td>830.65</td>\n",
       "    </tr>\n",
       "    <tr>\n",
       "      <th>586</th>\n",
       "      <td>2022-06-14</td>\n",
       "      <td>830.19</td>\n",
       "    </tr>\n",
       "  </tbody>\n",
       "</table>\n",
       "<p>587 rows × 2 columns</p>\n",
       "</div>"
      ],
      "text/plain": [
       "           date   level\n",
       "0    2020-11-05  677.94\n",
       "1    2020-11-06  691.36\n",
       "2    2020-11-07  693.29\n",
       "3    2020-11-08  694.50\n",
       "4    2020-11-09  694.56\n",
       "..          ...     ...\n",
       "582  2022-06-10  829.63\n",
       "583  2022-06-11  830.73\n",
       "584  2022-06-12  830.90\n",
       "585  2022-06-13  830.65\n",
       "586  2022-06-14  830.19\n",
       "\n",
       "[587 rows x 2 columns]"
      ]
     },
     "execution_count": 245,
     "metadata": {},
     "output_type": "execute_result"
    }
   ],
   "source": [
    "import pandas as pd\n",
    "import matplotlib.pyplot as plt\n",
    "\n",
    "df = pd.read_csv('data/fall_creek_levels.csv')\n",
    "df"
   ]
  },
  {
   "cell_type": "markdown",
   "id": "b2f45b30",
   "metadata": {},
   "source": [
    "We can see that we have a table with two columns. The first column contains dates (from Nov 5, 2020 to June 14, 2022) and the second column contains reservoir level (in feet). Before we plot, we need to make sure that `Pandas` has interpreted the **date** column as dates."
   ]
  },
  {
   "cell_type": "code",
   "execution_count": 246,
   "id": "51238b07",
   "metadata": {},
   "outputs": [
    {
     "data": {
      "text/plain": [
       "date      object\n",
       "level    float64\n",
       "dtype: object"
      ]
     },
     "execution_count": 246,
     "metadata": {},
     "output_type": "execute_result"
    }
   ],
   "source": [
    "df.dtypes"
   ]
  },
  {
   "cell_type": "markdown",
   "id": "9e819777",
   "metadata": {},
   "source": [
    "While the **level** column has been interpeted as a `float64`, the **date** column has not been recognized as dates. We have to alert `Pandas` that this column contains dates using the keyword argument `parse_dates` when we read the file."
   ]
  },
  {
   "cell_type": "code",
   "execution_count": 247,
   "id": "db9b225f",
   "metadata": {},
   "outputs": [
    {
     "data": {
      "text/html": [
       "<div>\n",
       "<style scoped>\n",
       "    .dataframe tbody tr th:only-of-type {\n",
       "        vertical-align: middle;\n",
       "    }\n",
       "\n",
       "    .dataframe tbody tr th {\n",
       "        vertical-align: top;\n",
       "    }\n",
       "\n",
       "    .dataframe thead th {\n",
       "        text-align: right;\n",
       "    }\n",
       "</style>\n",
       "<table border=\"1\" class=\"dataframe\">\n",
       "  <thead>\n",
       "    <tr style=\"text-align: right;\">\n",
       "      <th></th>\n",
       "      <th>date</th>\n",
       "      <th>level</th>\n",
       "    </tr>\n",
       "  </thead>\n",
       "  <tbody>\n",
       "    <tr>\n",
       "      <th>0</th>\n",
       "      <td>2020-11-05</td>\n",
       "      <td>677.94</td>\n",
       "    </tr>\n",
       "    <tr>\n",
       "      <th>1</th>\n",
       "      <td>2020-11-06</td>\n",
       "      <td>691.36</td>\n",
       "    </tr>\n",
       "    <tr>\n",
       "      <th>2</th>\n",
       "      <td>2020-11-07</td>\n",
       "      <td>693.29</td>\n",
       "    </tr>\n",
       "    <tr>\n",
       "      <th>3</th>\n",
       "      <td>2020-11-08</td>\n",
       "      <td>694.50</td>\n",
       "    </tr>\n",
       "    <tr>\n",
       "      <th>4</th>\n",
       "      <td>2020-11-09</td>\n",
       "      <td>694.56</td>\n",
       "    </tr>\n",
       "    <tr>\n",
       "      <th>...</th>\n",
       "      <td>...</td>\n",
       "      <td>...</td>\n",
       "    </tr>\n",
       "    <tr>\n",
       "      <th>582</th>\n",
       "      <td>2022-06-10</td>\n",
       "      <td>829.63</td>\n",
       "    </tr>\n",
       "    <tr>\n",
       "      <th>583</th>\n",
       "      <td>2022-06-11</td>\n",
       "      <td>830.73</td>\n",
       "    </tr>\n",
       "    <tr>\n",
       "      <th>584</th>\n",
       "      <td>2022-06-12</td>\n",
       "      <td>830.90</td>\n",
       "    </tr>\n",
       "    <tr>\n",
       "      <th>585</th>\n",
       "      <td>2022-06-13</td>\n",
       "      <td>830.65</td>\n",
       "    </tr>\n",
       "    <tr>\n",
       "      <th>586</th>\n",
       "      <td>2022-06-14</td>\n",
       "      <td>830.19</td>\n",
       "    </tr>\n",
       "  </tbody>\n",
       "</table>\n",
       "<p>587 rows × 2 columns</p>\n",
       "</div>"
      ],
      "text/plain": [
       "          date   level\n",
       "0   2020-11-05  677.94\n",
       "1   2020-11-06  691.36\n",
       "2   2020-11-07  693.29\n",
       "3   2020-11-08  694.50\n",
       "4   2020-11-09  694.56\n",
       "..         ...     ...\n",
       "582 2022-06-10  829.63\n",
       "583 2022-06-11  830.73\n",
       "584 2022-06-12  830.90\n",
       "585 2022-06-13  830.65\n",
       "586 2022-06-14  830.19\n",
       "\n",
       "[587 rows x 2 columns]"
      ]
     },
     "execution_count": 247,
     "metadata": {},
     "output_type": "execute_result"
    }
   ],
   "source": [
    "df = pd.read_csv('data/fall_creek_levels.csv', parse_dates=['date'])\n",
    "df"
   ]
  },
  {
   "cell_type": "markdown",
   "id": "2340aa77",
   "metadata": {},
   "source": [
    "Now when we display the column data types, we find that the **date** column has been interpreted as a **NumPy datetime**."
   ]
  },
  {
   "cell_type": "code",
   "execution_count": 248,
   "id": "0e08c235",
   "metadata": {},
   "outputs": [
    {
     "data": {
      "text/plain": [
       "date     datetime64[ns]\n",
       "level           float64\n",
       "dtype: object"
      ]
     },
     "execution_count": 248,
     "metadata": {},
     "output_type": "execute_result"
    }
   ],
   "source": [
    "df.dtypes"
   ]
  },
  {
   "cell_type": "markdown",
   "id": "c4789680",
   "metadata": {},
   "source": [
    "```{note}\n",
    "`parse_dates` will automatically recognize and convert many common date formats. But if the date and time is formatted unusually, we might have to specify the format. We can do that using a parser function (see below).\n",
    "```"
   ]
  },
  {
   "cell_type": "code",
   "execution_count": 249,
   "id": "4018c247",
   "metadata": {},
   "outputs": [],
   "source": [
    "parser = lambda date: pd.to_datetime(date).strftime('%Y-%m-%d')\n",
    "df = pd.read_csv('data/fall_creek_levels.csv', parse_dates=['date'], date_parser=parser)"
   ]
  },
  {
   "cell_type": "markdown",
   "id": "87c88786",
   "metadata": {},
   "source": [
    "Now that we have read our dataset as a DataFrame, we can plot it easily."
   ]
  },
  {
   "cell_type": "code",
   "execution_count": 250,
   "id": "6b666c7e",
   "metadata": {},
   "outputs": [
    {
     "data": {
      "image/png": "[encoded data removed]",
      "text/plain": [
       "<Figure size 864x432 with 1 Axes>"
      ]
     },
     "metadata": {
      "filenames": {
       "image/png": "/home/johnny/Dropbox (University of Oregon)/teaching/programming-for-gis/book/_build/jupyter_execute/demos/06b-demo_12_0.png"
      },
      "needs_background": "light"
     },
     "output_type": "display_data"
    }
   ],
   "source": [
    "fig, ax = plt.subplots(figsize=(12, 6))\n",
    "ax.plot(df['date'], df['level'], linewidth=2)\n",
    "ax.set_title('Fall Creek Reservoir levels', fontsize=14)\n",
    "ax.tick_params(axis='both', labelsize=14)\n",
    "ax.set_ylabel('Level (ft)', fontsize=14)\n",
    "ax.tick_params(axis='both', labelsize=14)\n",
    "ax.grid()\n",
    "plt.show()"
   ]
  },
  {
   "cell_type": "markdown",
   "id": "2f8df857",
   "metadata": {},
   "source": [
    "This looks great but the tick labels on the x-axis are difficult to read. We can edit the tick labels using the `dates.mdates` functions."
   ]
  },
  {
   "cell_type": "code",
   "execution_count": 251,
   "id": "67a1b1d2",
   "metadata": {},
   "outputs": [],
   "source": [
    "import matplotlib.dates as mdates"
   ]
  },
  {
   "cell_type": "code",
   "execution_count": 252,
   "id": "4b98309e",
   "metadata": {},
   "outputs": [
    {
     "data": {
      "image/png": "[encoded data removed]",
      "text/plain": [
       "<Figure size 864x432 with 1 Axes>"
      ]
     },
     "metadata": {
      "filenames": {
       "image/png": "/home/johnny/Dropbox (University of Oregon)/teaching/programming-for-gis/book/_build/jupyter_execute/demos/06b-demo_15_0.png"
      },
      "needs_background": "light"
     },
     "output_type": "display_data"
    }
   ],
   "source": [
    "fig, ax = plt.subplots(figsize=(12, 6))\n",
    "ax.plot(df['date'], df['level'], linewidth=2)\n",
    "ax.set_title('Fall Creek Reservoir levels', fontsize=14)\n",
    "ax.tick_params(axis='both', labelsize=14)\n",
    "ax.set_ylabel('Level (ft)', fontsize=14)\n",
    "ax.tick_params(axis='both', labelsize=14)\n",
    "ax.grid()\n",
    "ax.xaxis.set_major_formatter(mdates.DateFormatter('%b\\n%Y')) # <-----\n",
    "\n",
    "plt.show()"
   ]
  },
  {
   "cell_type": "markdown",
   "id": "dee3508b",
   "metadata": {},
   "source": [
    "```{note}\n",
    "We formatted the dates using an abbreviated month name (`%b`) followed by a new line (`\\n`) followed by the year (`%Y`). See this table for more options: https://docs.python.org/3/library/time.html#time.strftime.\n",
    "```"
   ]
  },
  {
   "cell_type": "markdown",
   "id": "ab27c62a",
   "metadata": {},
   "source": [
    "## 5-minute air temperature\n",
    "\n",
    "Next we will plot some time-series data with higher temporal resolution. This file contains air temperatures from a U.S. Climate Reference Network weather station near Corvallis. "
   ]
  },
  {
   "cell_type": "code",
   "execution_count": 253,
   "id": "0e6dc1be",
   "metadata": {},
   "outputs": [
    {
     "data": {
      "text/html": [
       "<div>\n",
       "<style scoped>\n",
       "    .dataframe tbody tr th:only-of-type {\n",
       "        vertical-align: middle;\n",
       "    }\n",
       "\n",
       "    .dataframe tbody tr th {\n",
       "        vertical-align: top;\n",
       "    }\n",
       "\n",
       "    .dataframe thead th {\n",
       "        text-align: right;\n",
       "    }\n",
       "</style>\n",
       "<table border=\"1\" class=\"dataframe\">\n",
       "  <thead>\n",
       "    <tr style=\"text-align: right;\">\n",
       "      <th></th>\n",
       "      <th>date</th>\n",
       "      <th>time</th>\n",
       "      <th>air_temp</th>\n",
       "    </tr>\n",
       "  </thead>\n",
       "  <tbody>\n",
       "    <tr>\n",
       "      <th>0</th>\n",
       "      <td>20220610</td>\n",
       "      <td>10</td>\n",
       "      <td>24.3</td>\n",
       "    </tr>\n",
       "    <tr>\n",
       "      <th>1</th>\n",
       "      <td>20220610</td>\n",
       "      <td>15</td>\n",
       "      <td>24.0</td>\n",
       "    </tr>\n",
       "    <tr>\n",
       "      <th>2</th>\n",
       "      <td>20220610</td>\n",
       "      <td>20</td>\n",
       "      <td>23.7</td>\n",
       "    </tr>\n",
       "    <tr>\n",
       "      <th>3</th>\n",
       "      <td>20220610</td>\n",
       "      <td>25</td>\n",
       "      <td>23.1</td>\n",
       "    </tr>\n",
       "    <tr>\n",
       "      <th>4</th>\n",
       "      <td>20220610</td>\n",
       "      <td>30</td>\n",
       "      <td>22.7</td>\n",
       "    </tr>\n",
       "    <tr>\n",
       "      <th>...</th>\n",
       "      <td>...</td>\n",
       "      <td>...</td>\n",
       "      <td>...</td>\n",
       "    </tr>\n",
       "    <tr>\n",
       "      <th>1650</th>\n",
       "      <td>20220615</td>\n",
       "      <td>1740</td>\n",
       "      <td>13.9</td>\n",
       "    </tr>\n",
       "    <tr>\n",
       "      <th>1651</th>\n",
       "      <td>20220615</td>\n",
       "      <td>1745</td>\n",
       "      <td>14.7</td>\n",
       "    </tr>\n",
       "    <tr>\n",
       "      <th>1652</th>\n",
       "      <td>20220615</td>\n",
       "      <td>1750</td>\n",
       "      <td>14.6</td>\n",
       "    </tr>\n",
       "    <tr>\n",
       "      <th>1653</th>\n",
       "      <td>20220615</td>\n",
       "      <td>1755</td>\n",
       "      <td>14.9</td>\n",
       "    </tr>\n",
       "    <tr>\n",
       "      <th>1654</th>\n",
       "      <td>20220615</td>\n",
       "      <td>1800</td>\n",
       "      <td>14.8</td>\n",
       "    </tr>\n",
       "  </tbody>\n",
       "</table>\n",
       "<p>1655 rows × 3 columns</p>\n",
       "</div>"
      ],
      "text/plain": [
       "          date  time  air_temp\n",
       "0     20220610    10      24.3\n",
       "1     20220610    15      24.0\n",
       "2     20220610    20      23.7\n",
       "3     20220610    25      23.1\n",
       "4     20220610    30      22.7\n",
       "...        ...   ...       ...\n",
       "1650  20220615  1740      13.9\n",
       "1651  20220615  1745      14.7\n",
       "1652  20220615  1750      14.6\n",
       "1653  20220615  1755      14.9\n",
       "1654  20220615  1800      14.8\n",
       "\n",
       "[1655 rows x 3 columns]"
      ]
     },
     "execution_count": 253,
     "metadata": {},
     "output_type": "execute_result"
    }
   ],
   "source": [
    "df = pd.read_csv('data/corvallis_air_temp.csv')\n",
    "df"
   ]
  },
  {
   "cell_type": "markdown",
   "id": "779ae3d8",
   "metadata": {},
   "source": [
    "When we have a look at the data, we find that the dates are in one column and the time is in another. So we will use another parser function to transform dates and times in **ISO 8601** format (i.e. `yyyy-mm-dd hh:mm:ss`)"
   ]
  },
  {
   "cell_type": "code",
   "execution_count": 254,
   "id": "04b2b1be",
   "metadata": {},
   "outputs": [
    {
     "data": {
      "text/html": [
       "<div>\n",
       "<style scoped>\n",
       "    .dataframe tbody tr th:only-of-type {\n",
       "        vertical-align: middle;\n",
       "    }\n",
       "\n",
       "    .dataframe tbody tr th {\n",
       "        vertical-align: top;\n",
       "    }\n",
       "\n",
       "    .dataframe thead th {\n",
       "        text-align: right;\n",
       "    }\n",
       "</style>\n",
       "<table border=\"1\" class=\"dataframe\">\n",
       "  <thead>\n",
       "    <tr style=\"text-align: right;\">\n",
       "      <th></th>\n",
       "      <th>datetime</th>\n",
       "      <th>air_temp</th>\n",
       "    </tr>\n",
       "  </thead>\n",
       "  <tbody>\n",
       "    <tr>\n",
       "      <th>0</th>\n",
       "      <td>2022-06-10 00:10:00</td>\n",
       "      <td>24.3</td>\n",
       "    </tr>\n",
       "    <tr>\n",
       "      <th>1</th>\n",
       "      <td>2022-06-10 00:15:00</td>\n",
       "      <td>24.0</td>\n",
       "    </tr>\n",
       "    <tr>\n",
       "      <th>2</th>\n",
       "      <td>2022-06-10 00:20:00</td>\n",
       "      <td>23.7</td>\n",
       "    </tr>\n",
       "    <tr>\n",
       "      <th>3</th>\n",
       "      <td>2022-06-10 00:25:00</td>\n",
       "      <td>23.1</td>\n",
       "    </tr>\n",
       "    <tr>\n",
       "      <th>4</th>\n",
       "      <td>2022-06-10 00:30:00</td>\n",
       "      <td>22.7</td>\n",
       "    </tr>\n",
       "    <tr>\n",
       "      <th>...</th>\n",
       "      <td>...</td>\n",
       "      <td>...</td>\n",
       "    </tr>\n",
       "    <tr>\n",
       "      <th>1650</th>\n",
       "      <td>2022-06-15 17:40:00</td>\n",
       "      <td>13.9</td>\n",
       "    </tr>\n",
       "    <tr>\n",
       "      <th>1651</th>\n",
       "      <td>2022-06-15 17:45:00</td>\n",
       "      <td>14.7</td>\n",
       "    </tr>\n",
       "    <tr>\n",
       "      <th>1652</th>\n",
       "      <td>2022-06-15 17:50:00</td>\n",
       "      <td>14.6</td>\n",
       "    </tr>\n",
       "    <tr>\n",
       "      <th>1653</th>\n",
       "      <td>2022-06-15 17:55:00</td>\n",
       "      <td>14.9</td>\n",
       "    </tr>\n",
       "    <tr>\n",
       "      <th>1654</th>\n",
       "      <td>2022-06-15 18:00:00</td>\n",
       "      <td>14.8</td>\n",
       "    </tr>\n",
       "  </tbody>\n",
       "</table>\n",
       "<p>1655 rows × 2 columns</p>\n",
       "</div>"
      ],
      "text/plain": [
       "                datetime  air_temp\n",
       "0    2022-06-10 00:10:00      24.3\n",
       "1    2022-06-10 00:15:00      24.0\n",
       "2    2022-06-10 00:20:00      23.7\n",
       "3    2022-06-10 00:25:00      23.1\n",
       "4    2022-06-10 00:30:00      22.7\n",
       "...                  ...       ...\n",
       "1650 2022-06-15 17:40:00      13.9\n",
       "1651 2022-06-15 17:45:00      14.7\n",
       "1652 2022-06-15 17:50:00      14.6\n",
       "1653 2022-06-15 17:55:00      14.9\n",
       "1654 2022-06-15 18:00:00      14.8\n",
       "\n",
       "[1655 rows x 2 columns]"
      ]
     },
     "execution_count": 254,
     "metadata": {},
     "output_type": "execute_result"
    }
   ],
   "source": [
    "parser = lambda date: pd.to_datetime(date).strftime('%Y%m%d %H%M')\n",
    "df = pd.read_csv('data/corvallis_air_temp.csv', parse_dates={'datetime': ['date', 'time']}, date_parser=parser)\n",
    "df"
   ]
  },
  {
   "cell_type": "code",
   "execution_count": 255,
   "id": "b33c68bd",
   "metadata": {},
   "outputs": [
    {
     "data": {
      "text/plain": [
       "datetime    datetime64[ns]\n",
       "air_temp           float64\n",
       "dtype: object"
      ]
     },
     "execution_count": 255,
     "metadata": {},
     "output_type": "execute_result"
    }
   ],
   "source": [
    "df.dtypes"
   ]
  },
  {
   "cell_type": "code",
   "execution_count": 256,
   "id": "5ba736f3",
   "metadata": {},
   "outputs": [
    {
     "data": {
      "image/png": "[encoded data removed]",
      "text/plain": [
       "<Figure size 864x432 with 1 Axes>"
      ]
     },
     "metadata": {
      "filenames": {
       "image/png": "/home/johnny/Dropbox (University of Oregon)/teaching/programming-for-gis/book/_build/jupyter_execute/demos/06b-demo_22_0.png"
      },
      "needs_background": "light"
     },
     "output_type": "display_data"
    }
   ],
   "source": [
    "fig, ax = plt.subplots(figsize=(12, 6))\n",
    "ax.plot(df['datetime'], df['air_temp'], linewidth=2)\n",
    "ax.set_title('Corvallis air temperatures', fontsize=14)\n",
    "ax.tick_params(axis='both', labelsize=14)\n",
    "ax.set_ylabel('Air temperature (C)', fontsize=14)\n",
    "ax.tick_params(axis='both', labelsize=14)\n",
    "ax.grid()\n",
    "ax.xaxis.set_major_formatter(mdates.DateFormatter('%b %d'))\n",
    "\n",
    "plt.show()"
   ]
  },
  {
   "cell_type": "markdown",
   "id": "81f5fc93",
   "metadata": {},
   "source": [
    "To plot air temperatures for June 13, we could slice the DataFrame using the `[start:end]` syntax we learnt in Week 1."
   ]
  },
  {
   "cell_type": "code",
   "execution_count": 260,
   "id": "d1c530d9",
   "metadata": {},
   "outputs": [
    {
     "data": {
      "text/html": [
       "<div>\n",
       "<style scoped>\n",
       "    .dataframe tbody tr th:only-of-type {\n",
       "        vertical-align: middle;\n",
       "    }\n",
       "\n",
       "    .dataframe tbody tr th {\n",
       "        vertical-align: top;\n",
       "    }\n",
       "\n",
       "    .dataframe thead th {\n",
       "        text-align: right;\n",
       "    }\n",
       "</style>\n",
       "<table border=\"1\" class=\"dataframe\">\n",
       "  <thead>\n",
       "    <tr style=\"text-align: right;\">\n",
       "      <th></th>\n",
       "      <th>datetime</th>\n",
       "      <th>air_temp</th>\n",
       "    </tr>\n",
       "  </thead>\n",
       "  <tbody>\n",
       "    <tr>\n",
       "      <th>863</th>\n",
       "      <td>2022-06-13 00:05:00</td>\n",
       "      <td>13.1</td>\n",
       "    </tr>\n",
       "    <tr>\n",
       "      <th>864</th>\n",
       "      <td>2022-06-13 00:10:00</td>\n",
       "      <td>13.0</td>\n",
       "    </tr>\n",
       "    <tr>\n",
       "      <th>865</th>\n",
       "      <td>2022-06-13 00:15:00</td>\n",
       "      <td>12.7</td>\n",
       "    </tr>\n",
       "    <tr>\n",
       "      <th>866</th>\n",
       "      <td>2022-06-13 00:20:00</td>\n",
       "      <td>12.6</td>\n",
       "    </tr>\n",
       "    <tr>\n",
       "      <th>867</th>\n",
       "      <td>2022-06-13 00:25:00</td>\n",
       "      <td>12.5</td>\n",
       "    </tr>\n",
       "    <tr>\n",
       "      <th>...</th>\n",
       "      <td>...</td>\n",
       "      <td>...</td>\n",
       "    </tr>\n",
       "    <tr>\n",
       "      <th>1145</th>\n",
       "      <td>2022-06-13 23:35:00</td>\n",
       "      <td>14.9</td>\n",
       "    </tr>\n",
       "    <tr>\n",
       "      <th>1146</th>\n",
       "      <td>2022-06-13 23:40:00</td>\n",
       "      <td>14.9</td>\n",
       "    </tr>\n",
       "    <tr>\n",
       "      <th>1147</th>\n",
       "      <td>2022-06-13 23:45:00</td>\n",
       "      <td>14.7</td>\n",
       "    </tr>\n",
       "    <tr>\n",
       "      <th>1148</th>\n",
       "      <td>2022-06-13 23:50:00</td>\n",
       "      <td>14.5</td>\n",
       "    </tr>\n",
       "    <tr>\n",
       "      <th>1149</th>\n",
       "      <td>2022-06-13 23:55:00</td>\n",
       "      <td>15.0</td>\n",
       "    </tr>\n",
       "  </tbody>\n",
       "</table>\n",
       "<p>287 rows × 2 columns</p>\n",
       "</div>"
      ],
      "text/plain": [
       "                datetime  air_temp\n",
       "863  2022-06-13 00:05:00      13.1\n",
       "864  2022-06-13 00:10:00      13.0\n",
       "865  2022-06-13 00:15:00      12.7\n",
       "866  2022-06-13 00:20:00      12.6\n",
       "867  2022-06-13 00:25:00      12.5\n",
       "...                  ...       ...\n",
       "1145 2022-06-13 23:35:00      14.9\n",
       "1146 2022-06-13 23:40:00      14.9\n",
       "1147 2022-06-13 23:45:00      14.7\n",
       "1148 2022-06-13 23:50:00      14.5\n",
       "1149 2022-06-13 23:55:00      15.0\n",
       "\n",
       "[287 rows x 2 columns]"
      ]
     },
     "execution_count": 260,
     "metadata": {},
     "output_type": "execute_result"
    }
   ],
   "source": [
    "df_slice = df[863:1150]\n",
    "df_slice"
   ]
  },
  {
   "cell_type": "markdown",
   "id": "49262cf5",
   "metadata": {},
   "source": [
    "But this is a little unwieldy because we have to manually find the right index for the start of June 13. A better way of doing this would be to slice by date and time. We can only do this if we make our `datetime` column the  **index column**."
   ]
  },
  {
   "cell_type": "code",
   "execution_count": 265,
   "id": "396bbfd3",
   "metadata": {},
   "outputs": [
    {
     "data": {
      "text/html": [
       "<div>\n",
       "<style scoped>\n",
       "    .dataframe tbody tr th:only-of-type {\n",
       "        vertical-align: middle;\n",
       "    }\n",
       "\n",
       "    .dataframe tbody tr th {\n",
       "        vertical-align: top;\n",
       "    }\n",
       "\n",
       "    .dataframe thead th {\n",
       "        text-align: right;\n",
       "    }\n",
       "</style>\n",
       "<table border=\"1\" class=\"dataframe\">\n",
       "  <thead>\n",
       "    <tr style=\"text-align: right;\">\n",
       "      <th></th>\n",
       "      <th>air_temp</th>\n",
       "    </tr>\n",
       "    <tr>\n",
       "      <th>datetime</th>\n",
       "      <th></th>\n",
       "    </tr>\n",
       "  </thead>\n",
       "  <tbody>\n",
       "    <tr>\n",
       "      <th>2022-06-10 00:10:00</th>\n",
       "      <td>24.3</td>\n",
       "    </tr>\n",
       "    <tr>\n",
       "      <th>2022-06-10 00:15:00</th>\n",
       "      <td>24.0</td>\n",
       "    </tr>\n",
       "    <tr>\n",
       "      <th>2022-06-10 00:20:00</th>\n",
       "      <td>23.7</td>\n",
       "    </tr>\n",
       "    <tr>\n",
       "      <th>2022-06-10 00:25:00</th>\n",
       "      <td>23.1</td>\n",
       "    </tr>\n",
       "    <tr>\n",
       "      <th>2022-06-10 00:30:00</th>\n",
       "      <td>22.7</td>\n",
       "    </tr>\n",
       "    <tr>\n",
       "      <th>...</th>\n",
       "      <td>...</td>\n",
       "    </tr>\n",
       "    <tr>\n",
       "      <th>2022-06-15 17:40:00</th>\n",
       "      <td>13.9</td>\n",
       "    </tr>\n",
       "    <tr>\n",
       "      <th>2022-06-15 17:45:00</th>\n",
       "      <td>14.7</td>\n",
       "    </tr>\n",
       "    <tr>\n",
       "      <th>2022-06-15 17:50:00</th>\n",
       "      <td>14.6</td>\n",
       "    </tr>\n",
       "    <tr>\n",
       "      <th>2022-06-15 17:55:00</th>\n",
       "      <td>14.9</td>\n",
       "    </tr>\n",
       "    <tr>\n",
       "      <th>2022-06-15 18:00:00</th>\n",
       "      <td>14.8</td>\n",
       "    </tr>\n",
       "  </tbody>\n",
       "</table>\n",
       "<p>1655 rows × 1 columns</p>\n",
       "</div>"
      ],
      "text/plain": [
       "                     air_temp\n",
       "datetime                     \n",
       "2022-06-10 00:10:00      24.3\n",
       "2022-06-10 00:15:00      24.0\n",
       "2022-06-10 00:20:00      23.7\n",
       "2022-06-10 00:25:00      23.1\n",
       "2022-06-10 00:30:00      22.7\n",
       "...                       ...\n",
       "2022-06-15 17:40:00      13.9\n",
       "2022-06-15 17:45:00      14.7\n",
       "2022-06-15 17:50:00      14.6\n",
       "2022-06-15 17:55:00      14.9\n",
       "2022-06-15 18:00:00      14.8\n",
       "\n",
       "[1655 rows x 1 columns]"
      ]
     },
     "execution_count": 265,
     "metadata": {},
     "output_type": "execute_result"
    }
   ],
   "source": [
    "df.set_index('datetime', inplace=True)\n",
    "df"
   ]
  },
  {
   "cell_type": "markdown",
   "id": "f27265ac",
   "metadata": {},
   "source": [
    "Now we can slice the DataFrame using datetime. This time we have to use the `.loc` function to make it clear that we are referring to the index of the DataFrame."
   ]
  },
  {
   "cell_type": "code",
   "execution_count": 266,
   "id": "d7a1498d",
   "metadata": {},
   "outputs": [],
   "source": [
    "df_slice = df.loc['2022-06-13 00:00:00':'2022-06-13 23:55:00']"
   ]
  },
  {
   "cell_type": "code",
   "execution_count": 268,
   "id": "7dc976e1",
   "metadata": {},
   "outputs": [
    {
     "data": {
      "image/png": "[encoded data removed]",
      "text/plain": [
       "<Figure size 864x432 with 1 Axes>"
      ]
     },
     "metadata": {
      "filenames": {
       "image/png": "/home/johnny/Dropbox (University of Oregon)/teaching/programming-for-gis/book/_build/jupyter_execute/demos/06b-demo_29_0.png"
      },
      "needs_background": "light"
     },
     "output_type": "display_data"
    }
   ],
   "source": [
    "fig, ax = plt.subplots(figsize=(12, 6))\n",
    "ax.plot(df_slice.index, df_slice['air_temp'], linewidth=2)\n",
    "ax.set_title('Corvallis air temperatures', fontsize=14)\n",
    "ax.tick_params(axis='both', labelsize=14)\n",
    "ax.set_ylabel('Air temperature (C)', fontsize=14)\n",
    "ax.set_xlabel('Time (UTC)', fontsize=14)\n",
    "ax.tick_params(axis='both', labelsize=14)\n",
    "ax.grid()\n",
    "ax.xaxis.set_major_formatter(mdates.DateFormatter('%H:%M'))\n",
    "\n",
    "plt.show()"
   ]
  },
  {
   "cell_type": "markdown",
   "id": "970c401d",
   "metadata": {},
   "source": [
    "```{note}\n",
    "Now that we have set the index column to `datetime`, we refer to the x-axis as `df_slice.index`.\n",
    "```"
   ]
  },
  {
   "cell_type": "markdown",
   "id": "4fae7614",
   "metadata": {},
   "source": [
    "Strangely the lowest air temperatures occur at noon. This is because our data are in UTC time. So we need to convert to Pacific by subtracting eight hours from our datetime index."
   ]
  },
  {
   "cell_type": "code",
   "execution_count": 269,
   "id": "85107d32",
   "metadata": {},
   "outputs": [
    {
     "data": {
      "text/html": [
       "<div>\n",
       "<style scoped>\n",
       "    .dataframe tbody tr th:only-of-type {\n",
       "        vertical-align: middle;\n",
       "    }\n",
       "\n",
       "    .dataframe tbody tr th {\n",
       "        vertical-align: top;\n",
       "    }\n",
       "\n",
       "    .dataframe thead th {\n",
       "        text-align: right;\n",
       "    }\n",
       "</style>\n",
       "<table border=\"1\" class=\"dataframe\">\n",
       "  <thead>\n",
       "    <tr style=\"text-align: right;\">\n",
       "      <th></th>\n",
       "      <th>air_temp</th>\n",
       "      <th>pacific_time</th>\n",
       "    </tr>\n",
       "    <tr>\n",
       "      <th>datetime</th>\n",
       "      <th></th>\n",
       "      <th></th>\n",
       "    </tr>\n",
       "  </thead>\n",
       "  <tbody>\n",
       "    <tr>\n",
       "      <th>2022-06-10 00:10:00</th>\n",
       "      <td>24.3</td>\n",
       "      <td>2022-06-09 16:10:00</td>\n",
       "    </tr>\n",
       "    <tr>\n",
       "      <th>2022-06-10 00:15:00</th>\n",
       "      <td>24.0</td>\n",
       "      <td>2022-06-09 16:15:00</td>\n",
       "    </tr>\n",
       "    <tr>\n",
       "      <th>2022-06-10 00:20:00</th>\n",
       "      <td>23.7</td>\n",
       "      <td>2022-06-09 16:20:00</td>\n",
       "    </tr>\n",
       "    <tr>\n",
       "      <th>2022-06-10 00:25:00</th>\n",
       "      <td>23.1</td>\n",
       "      <td>2022-06-09 16:25:00</td>\n",
       "    </tr>\n",
       "    <tr>\n",
       "      <th>2022-06-10 00:30:00</th>\n",
       "      <td>22.7</td>\n",
       "      <td>2022-06-09 16:30:00</td>\n",
       "    </tr>\n",
       "    <tr>\n",
       "      <th>...</th>\n",
       "      <td>...</td>\n",
       "      <td>...</td>\n",
       "    </tr>\n",
       "    <tr>\n",
       "      <th>2022-06-15 17:40:00</th>\n",
       "      <td>13.9</td>\n",
       "      <td>2022-06-15 09:40:00</td>\n",
       "    </tr>\n",
       "    <tr>\n",
       "      <th>2022-06-15 17:45:00</th>\n",
       "      <td>14.7</td>\n",
       "      <td>2022-06-15 09:45:00</td>\n",
       "    </tr>\n",
       "    <tr>\n",
       "      <th>2022-06-15 17:50:00</th>\n",
       "      <td>14.6</td>\n",
       "      <td>2022-06-15 09:50:00</td>\n",
       "    </tr>\n",
       "    <tr>\n",
       "      <th>2022-06-15 17:55:00</th>\n",
       "      <td>14.9</td>\n",
       "      <td>2022-06-15 09:55:00</td>\n",
       "    </tr>\n",
       "    <tr>\n",
       "      <th>2022-06-15 18:00:00</th>\n",
       "      <td>14.8</td>\n",
       "      <td>2022-06-15 10:00:00</td>\n",
       "    </tr>\n",
       "  </tbody>\n",
       "</table>\n",
       "<p>1655 rows × 2 columns</p>\n",
       "</div>"
      ],
      "text/plain": [
       "                     air_temp        pacific_time\n",
       "datetime                                         \n",
       "2022-06-10 00:10:00      24.3 2022-06-09 16:10:00\n",
       "2022-06-10 00:15:00      24.0 2022-06-09 16:15:00\n",
       "2022-06-10 00:20:00      23.7 2022-06-09 16:20:00\n",
       "2022-06-10 00:25:00      23.1 2022-06-09 16:25:00\n",
       "2022-06-10 00:30:00      22.7 2022-06-09 16:30:00\n",
       "...                       ...                 ...\n",
       "2022-06-15 17:40:00      13.9 2022-06-15 09:40:00\n",
       "2022-06-15 17:45:00      14.7 2022-06-15 09:45:00\n",
       "2022-06-15 17:50:00      14.6 2022-06-15 09:50:00\n",
       "2022-06-15 17:55:00      14.9 2022-06-15 09:55:00\n",
       "2022-06-15 18:00:00      14.8 2022-06-15 10:00:00\n",
       "\n",
       "[1655 rows x 2 columns]"
      ]
     },
     "execution_count": 269,
     "metadata": {},
     "output_type": "execute_result"
    }
   ],
   "source": [
    "df['pacific_time'] = df.index + pd.DateOffset(hours=-8)\n",
    "df"
   ]
  },
  {
   "cell_type": "code",
   "execution_count": 270,
   "id": "a63574c9",
   "metadata": {},
   "outputs": [
    {
     "data": {
      "text/html": [
       "<div>\n",
       "<style scoped>\n",
       "    .dataframe tbody tr th:only-of-type {\n",
       "        vertical-align: middle;\n",
       "    }\n",
       "\n",
       "    .dataframe tbody tr th {\n",
       "        vertical-align: top;\n",
       "    }\n",
       "\n",
       "    .dataframe thead th {\n",
       "        text-align: right;\n",
       "    }\n",
       "</style>\n",
       "<table border=\"1\" class=\"dataframe\">\n",
       "  <thead>\n",
       "    <tr style=\"text-align: right;\">\n",
       "      <th></th>\n",
       "      <th>air_temp</th>\n",
       "    </tr>\n",
       "    <tr>\n",
       "      <th>pacific_time</th>\n",
       "      <th></th>\n",
       "    </tr>\n",
       "  </thead>\n",
       "  <tbody>\n",
       "    <tr>\n",
       "      <th>2022-06-09 16:10:00</th>\n",
       "      <td>24.3</td>\n",
       "    </tr>\n",
       "    <tr>\n",
       "      <th>2022-06-09 16:15:00</th>\n",
       "      <td>24.0</td>\n",
       "    </tr>\n",
       "    <tr>\n",
       "      <th>2022-06-09 16:20:00</th>\n",
       "      <td>23.7</td>\n",
       "    </tr>\n",
       "    <tr>\n",
       "      <th>2022-06-09 16:25:00</th>\n",
       "      <td>23.1</td>\n",
       "    </tr>\n",
       "    <tr>\n",
       "      <th>2022-06-09 16:30:00</th>\n",
       "      <td>22.7</td>\n",
       "    </tr>\n",
       "    <tr>\n",
       "      <th>...</th>\n",
       "      <td>...</td>\n",
       "    </tr>\n",
       "    <tr>\n",
       "      <th>2022-06-15 09:40:00</th>\n",
       "      <td>13.9</td>\n",
       "    </tr>\n",
       "    <tr>\n",
       "      <th>2022-06-15 09:45:00</th>\n",
       "      <td>14.7</td>\n",
       "    </tr>\n",
       "    <tr>\n",
       "      <th>2022-06-15 09:50:00</th>\n",
       "      <td>14.6</td>\n",
       "    </tr>\n",
       "    <tr>\n",
       "      <th>2022-06-15 09:55:00</th>\n",
       "      <td>14.9</td>\n",
       "    </tr>\n",
       "    <tr>\n",
       "      <th>2022-06-15 10:00:00</th>\n",
       "      <td>14.8</td>\n",
       "    </tr>\n",
       "  </tbody>\n",
       "</table>\n",
       "<p>1655 rows × 1 columns</p>\n",
       "</div>"
      ],
      "text/plain": [
       "                     air_temp\n",
       "pacific_time                 \n",
       "2022-06-09 16:10:00      24.3\n",
       "2022-06-09 16:15:00      24.0\n",
       "2022-06-09 16:20:00      23.7\n",
       "2022-06-09 16:25:00      23.1\n",
       "2022-06-09 16:30:00      22.7\n",
       "...                       ...\n",
       "2022-06-15 09:40:00      13.9\n",
       "2022-06-15 09:45:00      14.7\n",
       "2022-06-15 09:50:00      14.6\n",
       "2022-06-15 09:55:00      14.9\n",
       "2022-06-15 10:00:00      14.8\n",
       "\n",
       "[1655 rows x 1 columns]"
      ]
     },
     "execution_count": 270,
     "metadata": {},
     "output_type": "execute_result"
    }
   ],
   "source": [
    "df.set_index('pacific_time', inplace=True)\n",
    "df"
   ]
  },
  {
   "cell_type": "markdown",
   "id": "c1188304",
   "metadata": {},
   "source": [
    "Now we can slice using the same syntax as before."
   ]
  },
  {
   "cell_type": "code",
   "execution_count": 271,
   "id": "441e2539",
   "metadata": {},
   "outputs": [],
   "source": [
    "df_pacific_slice = df.loc['2022-06-13 00:00:00':'2022-06-13 23:55:00']"
   ]
  },
  {
   "cell_type": "markdown",
   "id": "cd3cdbc5",
   "metadata": {},
   "source": [
    "And we produce a more logical figure showing highest air temperatures at around 1 pm. "
   ]
  },
  {
   "cell_type": "code",
   "execution_count": 272,
   "id": "051bb7e7",
   "metadata": {},
   "outputs": [
    {
     "data": {
      "image/png": "[encoded data removed]",
      "text/plain": [
       "<Figure size 864x432 with 1 Axes>"
      ]
     },
     "metadata": {
      "filenames": {
       "image/png": "/home/johnny/Dropbox (University of Oregon)/teaching/programming-for-gis/book/_build/jupyter_execute/demos/06b-demo_37_0.png"
      },
      "needs_background": "light"
     },
     "output_type": "display_data"
    }
   ],
   "source": [
    "fig, ax = plt.subplots(figsize=(12, 6))\n",
    "ax.plot(df_pacific_slice.index, df_pacific_slice['air_temp'], linewidth=2)\n",
    "ax.set_title('Corvallis air temperatures', fontsize=14)\n",
    "ax.tick_params(axis='both', labelsize=14)\n",
    "ax.set_ylabel('Air temperature (C)', fontsize=14)\n",
    "ax.set_xlabel('Time (PT)', fontsize=14)\n",
    "ax.tick_params(axis='both', labelsize=14)\n",
    "ax.grid()\n",
    "ax.xaxis.set_major_formatter(mdates.DateFormatter('%H:%M'))\n",
    "\n",
    "plt.show()"
   ]
  },
  {
   "cell_type": "markdown",
   "id": "2bd2f7a2",
   "metadata": {},
   "source": [
    "## Summary\n",
    "\n",
    "In this demo, we were introduced to the power of `Pandas` for manipulating and plotting data. Next week, we will demonstrate some of the other things we can do using this library. "
   ]
  }
 ],
 "metadata": {
  "kernelspec": {
   "display_name": "Python 3 (ipykernel)",
   "language": "python",
   "name": "python3"
  },
  "language_info": {
   "codemirror_mode": {
    "name": "ipython",
    "version": 3
   },
   "file_extension": ".py",
   "mimetype": "text/x-python",
   "name": "python",
   "nbconvert_exporter": "python",
   "pygments_lexer": "ipython3",
   "version": "3.8.12"
  }
 },
 "nbformat": 4,
 "nbformat_minor": 5
}