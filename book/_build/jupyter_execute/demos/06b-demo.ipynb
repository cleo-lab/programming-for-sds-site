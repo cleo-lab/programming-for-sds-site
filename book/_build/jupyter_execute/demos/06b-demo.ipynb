{
 "cells": [
  {
   "cell_type": "markdown",
   "id": "9be5a1a7",
   "metadata": {},
   "source": [
    "# Plotting timeseries data\n",
    "\n",
    "Pandas, datetime"
   ]
  }
 ],
 "metadata": {
  "kernelspec": {
   "display_name": "Python 3 (ipykernel)",
   "language": "python",
   "name": "python3"
  },
  "language_info": {
   "codemirror_mode": {
    "name": "ipython",
    "version": 3
   },
   "file_extension": ".py",
   "mimetype": "text/x-python",
   "name": "python",
   "nbconvert_exporter": "python",
   "pygments_lexer": "ipython3",
   "version": "3.8.12"
  }
 },
 "nbformat": 4,
 "nbformat_minor": 5
}