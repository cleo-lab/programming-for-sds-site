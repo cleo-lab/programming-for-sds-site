{
 "cells": [
  {
   "cell_type": "markdown",
   "id": "178a8d4e",
   "metadata": {},
   "source": [
    "# Analyzing table data \n",
    "\n",
    "\n",
    "Messy data \n",
    "Duplicates\n",
    "NaNs\n",
    "Filling NaNs\n",
    "Time and dates"
   ]
  }
 ],
 "metadata": {
  "kernelspec": {
   "display_name": "Python 3 (ipykernel)",
   "language": "python",
   "name": "python3"
  },
  "language_info": {
   "codemirror_mode": {
    "name": "ipython",
    "version": 3
   },
   "file_extension": ".py",
   "mimetype": "text/x-python",
   "name": "python",
   "nbconvert_exporter": "python",
   "pygments_lexer": "ipython3",
   "version": "3.8.12"
  }
 },
 "nbformat": 4,
 "nbformat_minor": 5
}