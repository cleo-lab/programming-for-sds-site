{
 "cells": [
  {
   "cell_type": "markdown",
   "id": "6b2f8da8",
   "metadata": {},
   "source": [
    "# NumPy arrays\n",
    "\n",
    "While Python contains a few, general built-in tools, specialized tools are provided by libraries that have to be imported.\n",
    "\n",
    "One of the most commonly used libraries is called `NumPy`, which stands for **Numerical Python**. In general, we should be using this library when we are working with numbers. \n",
    "\n",
    "We can access the functions provided by `NumPy` using the import statement and module name (e.g. `import numpy`). However, it is standard procedure to shorten the imported name to `np` for better code readability. This is a widely adopted convention that we should follow so that anyone working with our code can easily understand it."
   ]
  },
  {
   "cell_type": "code",
   "execution_count": 1,
   "id": "14950ec0",
   "metadata": {},
   "outputs": [],
   "source": [
    "import numpy as np"
   ]
  },
  {
   "cell_type": "markdown",
   "id": "758c9c60",
   "metadata": {},
   "source": [
    "Special types of lists called `ndarrays`. We can define an array using the function `np.array` with some parentheses and square brackets. Let's define an array containing the populations of the twenty-two largest countries (to the nearest million)."
   ]
  },
  {
   "cell_type": "code",
   "execution_count": 16,
   "id": "ccf1f1a5",
   "metadata": {},
   "outputs": [],
   "source": [
    "population = np.array([70000000,   67000000,  213000000,   90000000,  274000000, \n",
    "                       102000000,  221000000, 1380000000,   84000000,  329000000,\n",
    "                       84000000,  110000000,  206000000,  165000000,  144000000, \n",
    "                       97000000,   67000000,  126000000,  115000000,   83000000, \n",
    "                       1411000000,  129000000])"
   ]
  },
  {
   "cell_type": "markdown",
   "id": "60be2a53",
   "metadata": {},
   "source": [
    "## Shape and size\n",
    "\n",
    "Once our data is in `ndarray` format, we can use `NumPy` functions to investigate our data.  We can find the total number of elements in the array by running:"
   ]
  },
  {
   "cell_type": "code",
   "execution_count": 17,
   "id": "ff410755",
   "metadata": {},
   "outputs": [
    {
     "data": {
      "text/plain": [
       "22"
      ]
     },
     "execution_count": 17,
     "metadata": {},
     "output_type": "execute_result"
    }
   ],
   "source": [
    "np.size(population)"
   ]
  },
  {
   "cell_type": "markdown",
   "id": "570b53f5",
   "metadata": {},
   "source": [
    "And we can find the shape (number of rows, columns) of the array by running:"
   ]
  },
  {
   "cell_type": "code",
   "execution_count": 18,
   "id": "38f05caf",
   "metadata": {},
   "outputs": [
    {
     "data": {
      "text/plain": [
       "(22,)"
      ]
     },
     "execution_count": 18,
     "metadata": {},
     "output_type": "execute_result"
    }
   ],
   "source": [
    "np.shape(population)"
   ]
  },
  {
   "cell_type": "markdown",
   "id": "5fb7f770",
   "metadata": {},
   "source": [
    "## Statistics\n",
    "\n",
    "We can also use `NumPy` functions to find statistics of our data. For example:"
   ]
  },
  {
   "cell_type": "code",
   "execution_count": 19,
   "id": "eeaa5055",
   "metadata": {},
   "outputs": [
    {
     "data": {
      "text/plain": [
       "253045454.54545453"
      ]
     },
     "execution_count": 19,
     "metadata": {},
     "output_type": "execute_result"
    }
   ],
   "source": [
    "# Mean\n",
    "np.mean(population)"
   ]
  },
  {
   "cell_type": "code",
   "execution_count": 20,
   "id": "c530af23",
   "metadata": {},
   "outputs": [
    {
     "data": {
      "text/plain": [
       "120500000.0"
      ]
     },
     "execution_count": 20,
     "metadata": {},
     "output_type": "execute_result"
    }
   ],
   "source": [
    "# Median\n",
    "np.median(population)"
   ]
  },
  {
   "cell_type": "code",
   "execution_count": 21,
   "id": "2f6dbc81",
   "metadata": {},
   "outputs": [
    {
     "data": {
      "text/plain": [
       "1411000000"
      ]
     },
     "execution_count": 21,
     "metadata": {},
     "output_type": "execute_result"
    }
   ],
   "source": [
    "# Max\n",
    "np.max(population)"
   ]
  },
  {
   "cell_type": "code",
   "execution_count": 22,
   "id": "ba652b8f",
   "metadata": {},
   "outputs": [
    {
     "data": {
      "text/plain": [
       "67000000"
      ]
     },
     "execution_count": 22,
     "metadata": {},
     "output_type": "execute_result"
    }
   ],
   "source": [
    "# Min\n",
    "np.min(population)"
   ]
  },
  {
   "cell_type": "code",
   "execution_count": 23,
   "id": "4a8fb7db",
   "metadata": {},
   "outputs": [
    {
     "data": {
      "text/plain": [
       "367743423.0637056"
      ]
     },
     "execution_count": 23,
     "metadata": {},
     "output_type": "execute_result"
    }
   ],
   "source": [
    "# Standard deviation\n",
    "np.std(population)"
   ]
  },
  {
   "cell_type": "code",
   "execution_count": 24,
   "id": "1b4567b5",
   "metadata": {},
   "outputs": [
    {
     "data": {
      "text/plain": [
       "5567000000"
      ]
     },
     "execution_count": 24,
     "metadata": {},
     "output_type": "execute_result"
    }
   ],
   "source": [
    "# Sum\n",
    "np.sum(population)"
   ]
  },
  {
   "cell_type": "markdown",
   "id": "5cdb3bac",
   "metadata": {},
   "source": [
    "## Mathematical operations\n",
    "\n",
    "`NumPy` has functions for performing mathematical operations. First let's define some arrays containing the populations of the largest twenty-two countries in 1960 and 2020."
   ]
  },
  {
   "cell_type": "code",
   "execution_count": 31,
   "id": "53eb0cb0",
   "metadata": {},
   "outputs": [],
   "source": [
    "# Populations of 22 largest countries in 1960\n",
    "pop_1960 = np.array([667000000, 451000000, 181000000,  88000000,  45000000,  72000000,\n",
    "                     45000000,  48000000, 120000000,  38000000,  93000000,  22000000, \n",
    "                     26000000,  27000000,  33000000,  15000000,  27000000,  22000000, \n",
    "                     73000000,  27000000,  47000000,  52000000])\n",
    "\n",
    "# Populations of 22 largest countries in 2020\n",
    "pop_2020 = np.array([1411000000, 1380000000, 329000000, 274000000, 221000000, \n",
    "                     213000000,  206000000,  165000000,  144000000, 129000000, \n",
    "                     126000000,  115000000,  110000000,  102000000, 97000000, \n",
    "                     90000000,   84000000,   84000000,   83000000,   70000000, \n",
    "                     67000000,   67000000])\n",
    "\n",
    "# Population of world in 1960\n",
    "world_1960 = 3032000000\n",
    "\n",
    "# Population of world in 2020\n",
    "world_2020 = 7762000000"
   ]
  },
  {
   "cell_type": "markdown",
   "id": "66d7a818",
   "metadata": {},
   "source": [
    "Let's say we wanted to find the population of each country as a percentage of the total population in 1960. "
   ]
  },
  {
   "cell_type": "code",
   "execution_count": 32,
   "id": "b780f285",
   "metadata": {},
   "outputs": [
    {
     "data": {
      "text/plain": [
       "array([21.99868074, 14.87467018,  5.96965699,  2.90237467,  1.48416887,\n",
       "        2.37467018,  1.48416887,  1.58311346,  3.95778364,  1.25329815,\n",
       "        3.06728232,  0.72559367,  0.85751979,  0.89050132,  1.0883905 ,\n",
       "        0.49472296,  0.89050132,  0.72559367,  2.40765172,  0.89050132,\n",
       "        1.55013193,  1.71503958])"
      ]
     },
     "execution_count": 32,
     "metadata": {},
     "output_type": "execute_result"
    }
   ],
   "source": [
    "np.divide(pop_1960, world_1960) * 100"
   ]
  },
  {
   "cell_type": "markdown",
   "id": "402d73b7",
   "metadata": {},
   "source": [
    "```{note}\n",
    "An operation between an array and a single number **or** between arrays of two different sizes is termed [**broadcasting**](https://numpy.org/doc/stable/user/basics.broadcasting.html).\n",
    "```"
   ]
  },
  {
   "cell_type": "markdown",
   "id": "600d73c8",
   "metadata": {},
   "source": [
    "Now let's calculate the population change between 1960 and 2020."
   ]
  },
  {
   "cell_type": "code",
   "execution_count": 33,
   "id": "44bae99b",
   "metadata": {},
   "outputs": [
    {
     "data": {
      "text/plain": [
       "array([744000000, 929000000, 148000000, 186000000, 176000000, 141000000,\n",
       "       161000000, 117000000,  24000000,  91000000,  33000000,  93000000,\n",
       "        84000000,  75000000,  64000000,  75000000,  57000000,  62000000,\n",
       "        10000000,  43000000,  20000000,  15000000])"
      ]
     },
     "execution_count": 33,
     "metadata": {},
     "output_type": "execute_result"
    }
   ],
   "source": [
    "np.subtract(pop_2020, pop_1960)"
   ]
  },
  {
   "cell_type": "markdown",
   "id": "1574d34d",
   "metadata": {},
   "source": [
    "```{note}\n",
    "Since the arrays are the **same size**, NumPy performs an **element-by-element** operation (i.e. the first number of array1 is subtracted from the first number of array1, the second number of array1 is subtracted from the second number of array2... etc.).\n",
    "```"
   ]
  },
  {
   "cell_type": "markdown",
   "id": "53d0fe82",
   "metadata": {},
   "source": [
    "What about the percentage change in population for each country?"
   ]
  },
  {
   "cell_type": "code",
   "execution_count": 34,
   "id": "d1a3f78a",
   "metadata": {},
   "outputs": [
    {
     "data": {
      "text/plain": [
       "array([111.54422789, 205.98669623,  81.7679558 , 211.36363636,\n",
       "       391.11111111, 195.83333333, 357.77777778, 243.75      ,\n",
       "        20.        , 239.47368421,  35.48387097, 422.72727273,\n",
       "       323.07692308, 277.77777778, 193.93939394, 500.        ,\n",
       "       211.11111111, 281.81818182,  13.69863014, 159.25925926,\n",
       "        42.55319149,  28.84615385])"
      ]
     },
     "execution_count": 34,
     "metadata": {},
     "output_type": "execute_result"
    }
   ],
   "source": [
    "np.divide(np.subtract(pop_2020, pop_1960), pop_1960) * 100"
   ]
  },
  {
   "cell_type": "markdown",
   "id": "e1315249",
   "metadata": {},
   "source": [
    "`NumPy` has many other matematical operations. See [here](https://numpy.org/doc/stable/reference/routines.math.html) for a full list."
   ]
  },
  {
   "cell_type": "markdown",
   "id": "39cbd947",
   "metadata": {},
   "source": [
    "## Searching\n",
    "\n",
    "We can use `NumPy` to find specific elements of our array. We can find the index of the smallest value in our array using the `np.argmin` function."
   ]
  },
  {
   "cell_type": "code",
   "execution_count": 40,
   "id": "63767ce7",
   "metadata": {},
   "outputs": [
    {
     "data": {
      "text/plain": [
       "18"
      ]
     },
     "execution_count": 40,
     "metadata": {},
     "output_type": "execute_result"
    }
   ],
   "source": [
    "# Define a new variable that contains population growth as a percentage of population\n",
    "pop_growth = np.divide(np.subtract(pop_2020, pop_1960), pop_1960) * 100\n",
    "\n",
    "# Find index for smallest growth\n",
    "np.argmin(pop_growth)"
   ]
  },
  {
   "cell_type": "code",
   "execution_count": 41,
   "id": "4b6e4afd",
   "metadata": {},
   "outputs": [
    {
     "data": {
      "text/plain": [
       "15"
      ]
     },
     "execution_count": 41,
     "metadata": {},
     "output_type": "execute_result"
    }
   ],
   "source": [
    "# Find index for largest growth\n",
    "np.argmax(pop_growth)"
   ]
  },
  {
   "cell_type": "markdown",
   "id": "8effb0fd",
   "metadata": {},
   "source": [
    "This is useful since the populations in our array correspond to countries in the list below:"
   ]
  },
  {
   "cell_type": "code",
   "execution_count": 37,
   "id": "aaf9c06d",
   "metadata": {},
   "outputs": [],
   "source": [
    "country = ['China', 'India', 'United States', 'Indonesia', 'Pakistan', 'Brazil', 'Nigeria', 'Bangladesh',\n",
    "          'Russian Federation', 'Mexico', 'Japan', 'Ethopia', 'Philippines', 'Egypt', 'Vietnam', 'DR Congo', \n",
    "           'Turkey', 'Iran','Germany', 'Thailand', 'France', 'United Kingdom']"
   ]
  },
  {
   "cell_type": "markdown",
   "id": "177b8eae",
   "metadata": {},
   "source": [
    "So we can use list indexing to find the country with the lowest growth rate between 1960 and 2020:"
   ]
  },
  {
   "cell_type": "code",
   "execution_count": 38,
   "id": "889740f4",
   "metadata": {},
   "outputs": [
    {
     "data": {
      "text/plain": [
       "'Germany'"
      ]
     },
     "execution_count": 38,
     "metadata": {},
     "output_type": "execute_result"
    }
   ],
   "source": [
    "country[np.argmin(pop_growth)]"
   ]
  },
  {
   "cell_type": "markdown",
   "id": "48eea2de",
   "metadata": {},
   "source": [
    "Or highest growth rate:"
   ]
  },
  {
   "cell_type": "code",
   "execution_count": 39,
   "id": "f8ae49b4",
   "metadata": {},
   "outputs": [
    {
     "data": {
      "text/plain": [
       "'DR Congo'"
      ]
     },
     "execution_count": 39,
     "metadata": {},
     "output_type": "execute_result"
    }
   ],
   "source": [
    "country[np.argmax(pop_growth)]"
   ]
  },
  {
   "cell_type": "markdown",
   "id": "2c1c31c0",
   "metadata": {},
   "source": [
    "## Multi-dimensional arrays\n",
    "\n",
    "We will often use `NumPy` in Spatial Data Science to perform operations on multi-dimensional arrays  or matrices (i.e. arrays with 2, 3 or more dimensions). Let's say we have a small grid of points that represent elevation values (i.e. a digital elevation model or **DEM**). We could represent it as a 2D `ndarray` like so:"
   ]
  },
  {
   "cell_type": "code",
   "execution_count": 66,
   "id": "94add73b",
   "metadata": {},
   "outputs": [
    {
     "name": "stdout",
     "output_type": "stream",
     "text": [
      "[[10  9  4  4]\n",
      " [11  8  5  4]\n",
      " [12  7  6  4]]\n"
     ]
    }
   ],
   "source": [
    "dem = np.array([[10, 9, 4, 4], [11, 8, 5, 4], [12, 7, 6, 4]])\n",
    "print(dem)"
   ]
  },
  {
   "cell_type": "markdown",
   "id": "540af70f",
   "metadata": {},
   "source": [
    "This time our array has three rows and four columns (i.e. 3 x 4) and 12 elements."
   ]
  },
  {
   "cell_type": "code",
   "execution_count": 67,
   "id": "7c834db2",
   "metadata": {},
   "outputs": [
    {
     "data": {
      "text/plain": [
       "(3, 4)"
      ]
     },
     "execution_count": 67,
     "metadata": {},
     "output_type": "execute_result"
    }
   ],
   "source": [
    "np.shape(dem)"
   ]
  },
  {
   "cell_type": "code",
   "execution_count": 68,
   "id": "1a5d1ae7",
   "metadata": {},
   "outputs": [
    {
     "data": {
      "text/plain": [
       "12"
      ]
     },
     "execution_count": 68,
     "metadata": {},
     "output_type": "execute_result"
    }
   ],
   "source": [
    "np.size(dem)"
   ]
  },
  {
   "cell_type": "markdown",
   "id": "2c1c488b",
   "metadata": {},
   "source": [
    "So what happens when we perform mathematical operations (e.g. `np.mean`) on the array? The default option is to compute the mean of all elements in the array."
   ]
  },
  {
   "cell_type": "code",
   "execution_count": 69,
   "id": "87a3bdb4",
   "metadata": {},
   "outputs": [
    {
     "data": {
      "text/plain": [
       "7.0"
      ]
     },
     "execution_count": 69,
     "metadata": {},
     "output_type": "execute_result"
    }
   ],
   "source": [
    "np.mean(dem)"
   ]
  },
  {
   "cell_type": "markdown",
   "id": "3e0bbbb2",
   "metadata": {},
   "source": [
    "But we can also **specify** which axis we would like to perform the operation on. If wanted to calculate the mean along each **column**, we would add `axis=0` as an argument. See the docs for [`np.mean`](https://numpy.org/doc/stable/reference/generated/numpy.mean.html)."
   ]
  },
  {
   "cell_type": "code",
   "execution_count": 74,
   "id": "2fa0fd7d",
   "metadata": {},
   "outputs": [
    {
     "data": {
      "text/plain": [
       "array([11.,  8.,  5.,  4.])"
      ]
     },
     "execution_count": 74,
     "metadata": {},
     "output_type": "execute_result"
    }
   ],
   "source": [
    "np.mean(dem, axis=0)"
   ]
  },
  {
   "cell_type": "markdown",
   "id": "2369e876",
   "metadata": {},
   "source": [
    "Alternatively, we could calculate the mean along each **row** by adding `axis=1` as an argument. "
   ]
  },
  {
   "cell_type": "code",
   "execution_count": 73,
   "id": "f3cf8693",
   "metadata": {},
   "outputs": [
    {
     "data": {
      "text/plain": [
       "array([6.75, 7.  , 7.25])"
      ]
     },
     "execution_count": 73,
     "metadata": {},
     "output_type": "execute_result"
    }
   ],
   "source": [
    "np.mean(dem, axis=1)"
   ]
  },
  {
   "cell_type": "markdown",
   "id": "9a663768",
   "metadata": {},
   "source": [
    "Or perform a different operation..."
   ]
  },
  {
   "cell_type": "code",
   "execution_count": 77,
   "id": "ea210bd0",
   "metadata": {},
   "outputs": [
    {
     "data": {
      "text/plain": [
       "array([27, 28, 29])"
      ]
     },
     "execution_count": 77,
     "metadata": {},
     "output_type": "execute_result"
    }
   ],
   "source": [
    "np.sum(dem, axis=1)"
   ]
  },
  {
   "cell_type": "markdown",
   "id": "cc5746d4",
   "metadata": {},
   "source": [
    "The figure below shows which axis is which. "
   ]
  },
  {
   "cell_type": "markdown",
   "id": "46721012",
   "metadata": {},
   "source": [
    "```{image} images/np_axes.png\n",
    ":alt: cells\n",
    ":class: bg-primary mb-1\n",
    ":width: 500px\n",
    ":align: center\n",
    "```"
   ]
  },
  {
   "cell_type": "markdown",
   "id": "8ec0adb7",
   "metadata": {},
   "source": [
    "```{note}\n",
    "In a 3D array, the third axis would be `axis=2`.\n",
    "```"
   ]
  },
  {
   "cell_type": "markdown",
   "id": "cf29d779",
   "metadata": {},
   "source": [
    "## Matrix operations\n",
    "\n",
    "We can perform element-by-element operations or broadcasting on the array."
   ]
  },
  {
   "cell_type": "code",
   "execution_count": 78,
   "id": "c12465bb",
   "metadata": {},
   "outputs": [
    {
     "data": {
      "text/plain": [
       "array([[11, 10,  5,  5],\n",
       "       [12,  9,  6,  5],\n",
       "       [13,  8,  7,  5]])"
      ]
     },
     "execution_count": 78,
     "metadata": {},
     "output_type": "execute_result"
    }
   ],
   "source": [
    "np.add(dem, 1)"
   ]
  },
  {
   "cell_type": "code",
   "execution_count": 79,
   "id": "8c5b234b",
   "metadata": {},
   "outputs": [
    {
     "data": {
      "text/plain": [
       "array([[20, 18,  8,  8],\n",
       "       [22, 16, 10,  8],\n",
       "       [24, 14, 12,  8]])"
      ]
     },
     "execution_count": 79,
     "metadata": {},
     "output_type": "execute_result"
    }
   ],
   "source": [
    "np.multiply(dem, 2)"
   ]
  },
  {
   "cell_type": "markdown",
   "id": "970dba34",
   "metadata": {},
   "source": [
    "## Matrix indexing and slicing\n",
    "\n",
    "We can index and slice NumPy arrays in the same way we slice Python lists - using square brackets. Remember that indexing in Python starts at **0**. "
   ]
  },
  {
   "cell_type": "code",
   "execution_count": 84,
   "id": "68440160",
   "metadata": {},
   "outputs": [
    {
     "data": {
      "text/plain": [
       "array([[10,  9,  4,  4],\n",
       "       [11,  8,  5,  4],\n",
       "       [12,  7,  6,  4]])"
      ]
     },
     "execution_count": 84,
     "metadata": {},
     "output_type": "execute_result"
    }
   ],
   "source": [
    "dem"
   ]
  },
  {
   "cell_type": "markdown",
   "id": "f3bc9209",
   "metadata": {},
   "source": [
    "Since the array is **2D**, we need to use two numbers to access elements in the array. The order is `array[row, col]` So if we wanted the value in the second row and first column we would type:"
   ]
  },
  {
   "cell_type": "code",
   "execution_count": 85,
   "id": "e368d3da",
   "metadata": {},
   "outputs": [
    {
     "data": {
      "text/plain": [
       "11"
      ]
     },
     "execution_count": 85,
     "metadata": {},
     "output_type": "execute_result"
    }
   ],
   "source": [
    "dem[1,0]"
   ]
  },
  {
   "cell_type": "markdown",
   "id": "35830de1",
   "metadata": {},
   "source": [
    "We may also want to access the entire row or column. We can do this by using a colon sign which means \"all\". To return the second column, we would type:"
   ]
  },
  {
   "cell_type": "code",
   "execution_count": 94,
   "id": "fceba936",
   "metadata": {},
   "outputs": [
    {
     "data": {
      "text/plain": [
       "array([9, 8, 7])"
      ]
     },
     "execution_count": 94,
     "metadata": {},
     "output_type": "execute_result"
    }
   ],
   "source": [
    "dem[:,1]"
   ]
  },
  {
   "cell_type": "markdown",
   "id": "5bddc758",
   "metadata": {},
   "source": [
    "Or the third row:"
   ]
  },
  {
   "cell_type": "code",
   "execution_count": 95,
   "id": "cf5381f7",
   "metadata": {},
   "outputs": [
    {
     "data": {
      "text/plain": [
       "array([12,  7,  6])"
      ]
     },
     "execution_count": 95,
     "metadata": {},
     "output_type": "execute_result"
    }
   ],
   "source": [
    "dem[2,:]"
   ]
  },
  {
   "cell_type": "markdown",
   "id": "6a95c6e1",
   "metadata": {},
   "source": [
    "Recall that leaving either side of the colon blank means start from (or go to) the end of the list. So if we wanted the values in the third row, but only in the second and third columns we could type: "
   ]
  },
  {
   "cell_type": "code",
   "execution_count": 96,
   "id": "ec01981d",
   "metadata": {},
   "outputs": [
    {
     "data": {
      "text/plain": [
       "array([7, 6])"
      ]
     },
     "execution_count": 96,
     "metadata": {},
     "output_type": "execute_result"
    }
   ],
   "source": [
    "dem[2,1:]"
   ]
  },
  {
   "cell_type": "markdown",
   "id": "c4b5a04a",
   "metadata": {},
   "source": [
    "## Comparison operators\n",
    "\n",
    "If we wanted to return specific values, we can use comparison operators such as those in the table below:\n",
    "\n",
    "| **Comparison operator** | **Explanation** |\n",
    "|:-------------:|:-------------------------:|\n",
    "| `x == y `     | `True` if x is equal to y |\n",
    "| `x != y `     | `True` if x is **not** equal to y |,\n",
    "| `x > y`       | `True` if x is greater than y |\n",
    "| `x < y`       | `True` if x is less than y | \n",
    "| `x >= y`      | `True` if x is greater than or equal to y |\n",
    "| `x <= y`      | `True` if x is less than or equal to y    |"
   ]
  },
  {
   "cell_type": "code",
   "execution_count": 111,
   "id": "39b0fe38",
   "metadata": {},
   "outputs": [
    {
     "data": {
      "text/plain": [
       "array([10,  9, 11, 12])"
      ]
     },
     "execution_count": 111,
     "metadata": {},
     "output_type": "execute_result"
    }
   ],
   "source": [
    "mask = (dem > 8)\n",
    "dem[mask]"
   ]
  },
  {
   "cell_type": "markdown",
   "id": "abcc4b7b",
   "metadata": {},
   "source": [
    "```{note}\n",
    "Here we produced **boolean mask** which has the same shape as the original array but each value is either `True` or `False` (depending on whether the value was greater or less than 8). We then returned values of the original array where the mask was `True`.\n",
    "```"
   ]
  },
  {
   "cell_type": "markdown",
   "id": "13f5d2d6",
   "metadata": {},
   "source": [
    "Likewise, we can also just get values equal to 10:"
   ]
  },
  {
   "cell_type": "code",
   "execution_count": 112,
   "id": "8bbb4d4c",
   "metadata": {},
   "outputs": [
    {
     "data": {
      "text/plain": [
       "array([10])"
      ]
     },
     "execution_count": 112,
     "metadata": {},
     "output_type": "execute_result"
    }
   ],
   "source": [
    "mask = (dem == 10)\n",
    "dem[mask]"
   ]
  },
  {
   "cell_type": "markdown",
   "id": "d678da19",
   "metadata": {},
   "source": [
    "Or **not** 10:"
   ]
  },
  {
   "cell_type": "code",
   "execution_count": 113,
   "id": "0ac61ad9",
   "metadata": {},
   "outputs": [
    {
     "data": {
      "text/plain": [
       "array([ 9,  4, 11,  8,  5, 12,  7,  6])"
      ]
     },
     "execution_count": 113,
     "metadata": {},
     "output_type": "execute_result"
    }
   ],
   "source": [
    "mask = (dem != 10)\n",
    "dem[mask]"
   ]
  },
  {
   "cell_type": "markdown",
   "id": "e6c7a1ab",
   "metadata": {},
   "source": [
    "## Matrix searching \n",
    "\n",
    "Sometimes we want to find the location (or index) of specific values. To do this, we can combine our comparison operators with a useful function called `np.where`. "
   ]
  },
  {
   "cell_type": "code",
   "execution_count": 114,
   "id": "f11c092b",
   "metadata": {},
   "outputs": [
    {
     "data": {
      "text/plain": [
       "(array([0, 1, 2]), array([0, 0, 0]))"
      ]
     },
     "execution_count": 114,
     "metadata": {},
     "output_type": "execute_result"
    }
   ],
   "source": [
    "# Find indices of values greater than 9\n",
    "np.where(dem > 9)"
   ]
  },
  {
   "cell_type": "markdown",
   "id": "7b107301",
   "metadata": {},
   "source": [
    "This could be used find the number of values greater than 9 (similar to what we did with **masks** before)."
   ]
  },
  {
   "cell_type": "code",
   "execution_count": 87,
   "id": "8cb1cac7",
   "metadata": {},
   "outputs": [
    {
     "data": {
      "text/plain": [
       "3"
      ]
     },
     "execution_count": 87,
     "metadata": {},
     "output_type": "execute_result"
    }
   ],
   "source": [
    "dem[np.where(dem > 9)].size"
   ]
  },
  {
   "cell_type": "markdown",
   "id": "15ef9cc1",
   "metadata": {},
   "source": [
    "We could also use this approach to derive values from other arrays so long as they have the same shape."
   ]
  },
  {
   "cell_type": "code",
   "execution_count": 98,
   "id": "80b308ea",
   "metadata": {},
   "outputs": [],
   "source": [
    "array = np.array([[[178, 189, 567], [145, 239, 445], [197, 345, 678]], [[56, 78, 190], [46, 10, 11], [6, 2, 1]], [[45, 118, 203], [72, 119, 34], [87, 9, 5]]])"
   ]
  },
  {
   "cell_type": "code",
   "execution_count": 100,
   "id": "6aa7c94f",
   "metadata": {},
   "outputs": [
    {
     "data": {
      "text/plain": [
       "array([[311.33333333, 276.33333333, 406.66666667],\n",
       "       [108.        ,  22.33333333,   3.        ],\n",
       "       [122.        ,  75.        ,  33.66666667]])"
      ]
     },
     "execution_count": 100,
     "metadata": {},
     "output_type": "execute_result"
    }
   ],
   "source": [
    "np.mean(array, axis=2)"
   ]
  },
  {
   "cell_type": "markdown",
   "id": "8f67ce80",
   "metadata": {},
   "source": [
    "## Acknowledgments\n",
    "\n",
    "This demo was inspired by [NumPy docs](https://numpy.org/doc/stable/user/absolute_beginners.html)."
   ]
  }
 ],
 "metadata": {
  "kernelspec": {
   "display_name": "Python 3 (ipykernel)",
   "language": "python",
   "name": "python3"
  },
  "language_info": {
   "codemirror_mode": {
    "name": "ipython",
    "version": 3
   },
   "file_extension": ".py",
   "mimetype": "text/x-python",
   "name": "python",
   "nbconvert_exporter": "python",
   "pygments_lexer": "ipython3",
   "version": "3.8.12"
  }
 },
 "nbformat": 4,
 "nbformat_minor": 5
}