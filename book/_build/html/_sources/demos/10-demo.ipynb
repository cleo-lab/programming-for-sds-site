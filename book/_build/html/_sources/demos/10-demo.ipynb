{
 "cells": [
  {
   "cell_type": "markdown",
   "id": "19bbb82a",
   "metadata": {},
   "source": [
    "# Putting it all together\n",
    "\n",
    "Raster and vector data together\n"
   ]
  },
  {
   "cell_type": "code",
   "execution_count": null,
   "id": "a4b3e6f6",
   "metadata": {},
   "outputs": [],
   "source": []
  },
  {
   "cell_type": "markdown",
   "id": "9dab2dc5",
   "metadata": {},
   "source": [
    "## Sampling raster data with point file\n",
    "\n",
    "### Reproject to same coordinate system\n"
   ]
  },
  {
   "cell_type": "code",
   "execution_count": null,
   "id": "679d6d4f",
   "metadata": {},
   "outputs": [],
   "source": []
  },
  {
   "cell_type": "markdown",
   "id": "0ca74814",
   "metadata": {},
   "source": [
    "## Overlay analysis \n",
    "\n",
    "### Zonal stats?\n"
   ]
  },
  {
   "cell_type": "code",
   "execution_count": null,
   "id": "aea89bf7",
   "metadata": {},
   "outputs": [],
   "source": []
  },
  {
   "cell_type": "markdown",
   "id": "7dc081fb",
   "metadata": {},
   "source": [
    "## Clip a raster"
   ]
  }
 ],
 "metadata": {
  "kernelspec": {
   "display_name": "Python 3 (ipykernel)",
   "language": "python",
   "name": "python3"
  },
  "language_info": {
   "codemirror_mode": {
    "name": "ipython",
    "version": 3
   },
   "file_extension": ".py",
   "mimetype": "text/x-python",
   "name": "python",
   "nbconvert_exporter": "python",
   "pygments_lexer": "ipython3",
   "version": "3.8.12"
  }
 },
 "nbformat": 4,
 "nbformat_minor": 5
}
