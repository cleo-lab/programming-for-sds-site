{
 "cells": [
  {
   "cell_type": "markdown",
   "id": "e7fc3447",
   "metadata": {},
   "source": [
    "# For loops\n",
    "\n",
    "In progamming, we often want to repeat the same operation many times without having to re-type the same instructions. \n",
    "\n",
    "## The problem\n",
    "\n",
    "Let's say someone had provided us with a list of of states nearby but they didn't capitalize the first letter!"
   ]
  },
  {
   "cell_type": "code",
   "execution_count": 27,
   "id": "11197c96",
   "metadata": {},
   "outputs": [],
   "source": [
    "states = ['washington', 'oregon', 'california', 'arizona', 'nevada']"
   ]
  },
  {
   "cell_type": "markdown",
   "id": "2d627aa4",
   "metadata": {},
   "source": [
    "We could use the string method `.capitalize()` to change the first letter of each item in the list to uppercase like so:"
   ]
  },
  {
   "cell_type": "code",
   "execution_count": 28,
   "id": "fdd9a610",
   "metadata": {},
   "outputs": [
    {
     "data": {
      "text/plain": [
       "['Washington', 'Oregon', 'California', 'Arizona', 'Nevada']"
      ]
     },
     "execution_count": 28,
     "metadata": {},
     "output_type": "execute_result"
    }
   ],
   "source": [
    "state1 = states[0].capitalize()\n",
    "state2 = states[1].capitalize()\n",
    "state3 = states[2].capitalize()\n",
    "state4 = states[3].capitalize()\n",
    "state5 = states[4].capitalize()\n",
    "\n",
    "states_capitalized = [state1, state2, state3, state4, state5]\n",
    "states_capitalized"
   ]
  },
  {
   "cell_type": "markdown",
   "id": "284875e8",
   "metadata": {},
   "source": [
    "But what if this list contained 100 or 1000 place names? It would take a long time (and be extremely boring) to type this all out. When you find yourself repetivitely typing the same thing but only changing one number of character... you know it's time to write a **for loop**! "
   ]
  },
  {
   "cell_type": "markdown",
   "id": "9cb3e58e",
   "metadata": {},
   "source": [
    "## Basic `for` loop format\n",
    "\n",
    "For loops **iterate** over lists, repeating the same instructions for each element. We can write one like this:"
   ]
  },
  {
   "cell_type": "code",
   "execution_count": 29,
   "id": "00045f68",
   "metadata": {},
   "outputs": [
    {
     "data": {
      "text/plain": [
       "['Washington', 'Oregon', 'California', 'Arizona', 'Nevada']"
      ]
     },
     "execution_count": 29,
     "metadata": {},
     "output_type": "execute_result"
    }
   ],
   "source": [
    "# Define empty list\n",
    "states_capitalized = []\n",
    "\n",
    "for state in states:\n",
    "    \n",
    "    # Capitalize place name\n",
    "    new_name = state.capitalize()\n",
    "    \n",
    "    # Append to new list\n",
    "    states_capitalized.append(new_name)\n",
    "\n",
    "states_capitalized"
   ]
  },
  {
   "cell_type": "markdown",
   "id": "928d5ab8",
   "metadata": {},
   "source": [
    "OK so what happened here? There are a couple of things going on so let's break down what we did. \n",
    "\n",
    "* We defined an **empty list** (to put our capitalized place names)\n",
    "\n",
    "\n",
    "* We initiated the loop using the standard `for item in list` syntax. This basically means \"do this for every item in the list\". Note that this statement must end with a **colon**. \n",
    "\n",
    " \n",
    "* The code that is executed as part of the loop must be **indented** beneath the for loop statement. The typical indentation is four <kbd>space</kbd> keys or one <kbd>Tab</kbd> key.\n",
    "\n",
    "\n",
    "* For every state, we:\n",
    "  1. Capitalized the the first letter of the state name.\n",
    "  \n",
    "  2. Added the capitalized state name to our empty list using the `.append` method.\n",
    " "
   ]
  },
  {
   "cell_type": "markdown",
   "id": "e1435295",
   "metadata": {},
   "source": [
    "Note that the variables `state` and `new_name` used in the for loop are just normal variables and still exist after the loop has completed. They are equal to the **last** item in the list. "
   ]
  },
  {
   "cell_type": "code",
   "execution_count": 30,
   "id": "082cb86c",
   "metadata": {},
   "outputs": [
    {
     "data": {
      "text/plain": [
       "'nevada'"
      ]
     },
     "execution_count": 30,
     "metadata": {},
     "output_type": "execute_result"
    }
   ],
   "source": [
    "state"
   ]
  },
  {
   "cell_type": "code",
   "execution_count": 31,
   "id": "d0d10720",
   "metadata": {},
   "outputs": [
    {
     "data": {
      "text/plain": [
       "'Nevada'"
      ]
     },
     "execution_count": 31,
     "metadata": {},
     "output_type": "execute_result"
    }
   ],
   "source": [
    "new_name"
   ]
  },
  {
   "cell_type": "markdown",
   "id": "6536b820",
   "metadata": {},
   "source": [
    "## Looping with an index\n",
    "\n",
    "We can use a loop to iterate over any collection of values in Python. For example, we can also write a loop that performs a calculation for a sequence of integers using the built-in function called `range`. "
   ]
  },
  {
   "cell_type": "code",
   "execution_count": 36,
   "id": "2f5da683",
   "metadata": {},
   "outputs": [
    {
     "name": "stdout",
     "output_type": "stream",
     "text": [
      "range(0, 5)\n"
     ]
    }
   ],
   "source": [
    "range(5)"
   ]
  },
  {
   "cell_type": "markdown",
   "id": "8d83c6d4",
   "metadata": {},
   "source": [
    "```{tip}\n",
    "`range` can accept one, two, or three parameters.\n",
    "\n",
    "* If one parameter is given, `range` generates a sequence of that length, starting at zero and incrementing by 1. For example, `range(3)` produces the numbers `0, 1, 2`.\n",
    "\n",
    "\n",
    "* If two parameters are given, `range` starts at the first and ends just before the second, incrementing by one. For example, `range(2, 5)` produces `2, 3, 4`.\n",
    "\n",
    "\n",
    "* If `range` is given three parameters, it starts at the first one, ends just before the second one, and increments by the third one. For example, `range(3, 10, 2)` produces `3, 5, 7, 9`\n",
    "```"
   ]
  },
  {
   "cell_type": "markdown",
   "id": "85ac3275",
   "metadata": {},
   "source": [
    "We can write the same for loop as before to capitalize the state names."
   ]
  },
  {
   "cell_type": "code",
   "execution_count": 35,
   "id": "0b6cd392",
   "metadata": {},
   "outputs": [
    {
     "name": "stdout",
     "output_type": "stream",
     "text": [
      "0\n",
      "1\n",
      "2\n",
      "3\n",
      "4\n"
     ]
    },
    {
     "data": {
      "text/plain": [
       "['Washington', 'Oregon', 'California', 'Arizona', 'Nevada']"
      ]
     },
     "execution_count": 35,
     "metadata": {},
     "output_type": "execute_result"
    }
   ],
   "source": [
    "# Define empty list\n",
    "states_capitalized = []\n",
    "\n",
    "for i in range(5):\n",
    "    \n",
    "    # Print iteration\n",
    "    print(i)\n",
    "    \n",
    "    # Capitalize place name\n",
    "    new_name = states[i].capitalize()\n",
    "    \n",
    "    # Append to new list\n",
    "    states_capitalized.append(new_name)\n",
    "\n",
    "states_capitalized   "
   ]
  },
  {
   "cell_type": "markdown",
   "id": "6328dc7f",
   "metadata": {},
   "source": [
    "This time we looped over every integer between 0 and 4 (i.e. 0, 1, 2, 3, 4). We used this integer to **index** every item in our list and capitalize it. "
   ]
  },
  {
   "cell_type": "markdown",
   "id": "554a5134",
   "metadata": {},
   "source": [
    "```{note}\n",
    "The variable `i` is commonly used to denote the **index** variable in loops. If we have multiple for loops in our script, we might consider using `j` or `k` etc.\n",
    "```"
   ]
  },
  {
   "cell_type": "markdown",
   "id": "9e293165",
   "metadata": {},
   "source": [
    "## Looping through two lists\n",
    "\n",
    "This might seem a strange, convoluted way of doing the same thing as before but it is quite useful. Let's say we had another list containing the total area of these states:"
   ]
  },
  {
   "cell_type": "code",
   "execution_count": 41,
   "id": "9ad69671",
   "metadata": {},
   "outputs": [],
   "source": [
    "area = [184661, 254799, 423967, 295234, 286380]"
   ]
  },
  {
   "cell_type": "markdown",
   "id": "2d8fbb66",
   "metadata": {},
   "source": [
    "We could use the index approach to print pairs in a single loop:"
   ]
  },
  {
   "cell_type": "code",
   "execution_count": 44,
   "id": "7191c22b",
   "metadata": {},
   "outputs": [
    {
     "name": "stdout",
     "output_type": "stream",
     "text": [
      "The total area of Washington is 184661 square kilometers\n",
      "The total area of Oregon is 254799 square kilometers\n",
      "The total area of California is 423967 square kilometers\n",
      "The total area of Arizona is 295234 square kilometers\n",
      "The total area of Nevada is 286380 square kilometers\n"
     ]
    }
   ],
   "source": [
    "for i in range(len(states_capitalized)):\n",
    "    \n",
    "    print(f\"The total area of {states_capitalized[i]} is {area[i]} square kilometers\")"
   ]
  },
  {
   "cell_type": "markdown",
   "id": "09880e1a",
   "metadata": {},
   "source": [
    "```{note}\n",
    "In the example above, we used the **length** of the states list in the `range()` function but we could have just as easily used the length of the area list to define `i` since both lists are the same length.\n",
    "```"
   ]
  }
 ],
 "metadata": {
  "kernelspec": {
   "display_name": "Python 3 (ipykernel)",
   "language": "python",
   "name": "python3"
  },
  "language_info": {
   "codemirror_mode": {
    "name": "ipython",
    "version": 3
   },
   "file_extension": ".py",
   "mimetype": "text/x-python",
   "name": "python",
   "nbconvert_exporter": "python",
   "pygments_lexer": "ipython3",
   "version": "3.8.12"
  }
 },
 "nbformat": 4,
 "nbformat_minor": 5
}
