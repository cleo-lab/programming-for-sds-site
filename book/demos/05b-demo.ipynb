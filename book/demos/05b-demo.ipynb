{
 "cells": [
  {
   "cell_type": "markdown",
   "id": "d02985b4",
   "metadata": {},
   "source": [
    "# Time\n",
    "\n",
    "Converting between time and date formats is a common task but one that is deceptively tricky. Tt can be difficult to keep track of what days or times are being referenced while dealing with different date formats, time zones, daylight savings time, and so on. Fortunately for us, Python has several modules that make it somewhat easier.\n",
    "\n",
    "```{image} images/clock.webp\n",
    ":alt: clock\n",
    ":class: bg-primary mb-1\n",
    ":width: 500px\n",
    ":align: center\n",
    "```"
   ]
  },
  {
   "cell_type": "markdown",
   "id": "4a01ef38",
   "metadata": {},
   "source": [
    "## Standard date formats\n",
    "\n",
    "Despite there being several different date formats (e.g. D M Y or M D Y), the International Organization for Standardization (ISO) developed a standardized format called [ISO 8601](https://en.wikipedia.org/wiki/ISO_8601) to facilitate the worldwide exchange and communication of date and time-related data. According to this format, date and time values are ordered from the largest to smallest unit of time: year, month (or week), day, hour, minute, second:\n",
    "\n",
    "```\n",
    "YYYY-MM-DD hh:mm:ss\n",
    "```"
   ]
  },
  {
   "cell_type": "markdown",
   "id": "87b4771d",
   "metadata": {},
   "source": [
    "## Computer time\n",
    "\n",
    "Most of the computers count time from an arbitrary instant called the [Unix epoch](https://en.wikipedia.org/wiki/Unix_time). This arbitrary date is **January 1st, 1970, at 00:00:00 hours UTC**. Coordinated Universal time (UTC) refers to the time at 0° longitude, popularly known as Greenwich Meridian Time (GMT). It is **not** adjusted for daylight saving time so there are always twenty-four hours in every day. \n",
    "\n",
    "````{margin}\n",
    "```{note}\n",
    "The acronym UTC is not a mistake but a compromise between English and French.\n",
    "```\n",
    "````\n",
    "\n",
    "We can print the current **Unix time** using the built-in [`time`](https://docs.python.org/3/library/time.html) module which has a method called `time()` that returns the **current time** as a floating point number expressed in **seconds since the Unix epoch**, in UTC:"
   ]
  },
  {
   "cell_type": "code",
   "execution_count": 121,
   "id": "0e4d514e",
   "metadata": {},
   "outputs": [
    {
     "name": "stdout",
     "output_type": "stream",
     "text": [
      "1655075482\n"
     ]
    }
   ],
   "source": [
    "import time\n",
    "\n",
    "# Define a variable that represents current time\n",
    "unix_time = time.time()\n",
    "print(int(unix_time))"
   ]
  },
  {
   "cell_type": "markdown",
   "id": "4a4c4a31",
   "metadata": {},
   "source": [
    "```{note}\n",
    "Note that `unix_time` updates every time we run this code block. We also used `int` to convert the floating point number to an integer for better readability.\n",
    "```"
   ]
  },
  {
   "cell_type": "markdown",
   "id": "f7c2e42a",
   "metadata": {},
   "source": [
    "The number returned by `time()` may be converted into a more common time format (i.e. year, month, day, hour, etc.) in UTC by passing it to either `gmtime()`, which returns time in UTC, or `localtime()`, which returns local time."
   ]
  },
  {
   "cell_type": "code",
   "execution_count": 122,
   "id": "7980b786",
   "metadata": {},
   "outputs": [
    {
     "data": {
      "text/plain": [
       "time.struct_time(tm_year=2022, tm_mon=6, tm_mday=12, tm_hour=23, tm_min=11, tm_sec=23, tm_wday=6, tm_yday=163, tm_isdst=0)"
      ]
     },
     "execution_count": 122,
     "metadata": {},
     "output_type": "execute_result"
    }
   ],
   "source": [
    "time.gmtime()"
   ]
  },
  {
   "cell_type": "code",
   "execution_count": 123,
   "id": "bb815c00",
   "metadata": {},
   "outputs": [
    {
     "data": {
      "text/plain": [
       "time.struct_time(tm_year=2022, tm_mon=6, tm_mday=12, tm_hour=16, tm_min=11, tm_sec=23, tm_wday=6, tm_yday=163, tm_isdst=1)"
      ]
     },
     "execution_count": 123,
     "metadata": {},
     "output_type": "execute_result"
    }
   ],
   "source": [
    "time.localtime()"
   ]
  },
  {
   "cell_type": "markdown",
   "id": "b7c1efc7",
   "metadata": {},
   "source": [
    "These two functions return a [`struct_time`](https://docs.python.org/3/library/time.html#time.struct_time) object with a **named tuple** interface. In other words, values in this object can be accessed by their **index** *or* by **attribute name**. The year, month, and day can therefore be printed by typing:"
   ]
  },
  {
   "cell_type": "code",
   "execution_count": 124,
   "id": "8abec983",
   "metadata": {},
   "outputs": [
    {
     "data": {
      "text/plain": [
       "(2022, 6, 12)"
      ]
     },
     "execution_count": 124,
     "metadata": {},
     "output_type": "execute_result"
    }
   ],
   "source": [
    "local = time.localtime()\n",
    "\n",
    "# Print year, month, and day using index of struct_time object\n",
    "local[0], local[1], local[2]"
   ]
  },
  {
   "cell_type": "markdown",
   "id": "9a80fac7",
   "metadata": {},
   "source": [
    "Or:"
   ]
  },
  {
   "cell_type": "code",
   "execution_count": 125,
   "id": "fb826b43",
   "metadata": {},
   "outputs": [
    {
     "data": {
      "text/plain": [
       "(2022, 6, 12)"
      ]
     },
     "execution_count": 125,
     "metadata": {},
     "output_type": "execute_result"
    }
   ],
   "source": [
    "# Print year, month, and day using attribute name of struct_time object\n",
    "local.tm_year, local.tm_mon, local.tm_mday"
   ]
  },
  {
   "cell_type": "markdown",
   "id": "5d04ec56",
   "metadata": {},
   "source": [
    "## Convert a `struct_time` object to a standard time format\n",
    "\n",
    "We can print the current time in the ISO 8601 standard format (i.e. `YYYY-MM-DD hh:mm:ss`) using the [`strftime`](https://docs.python.org/3/library/time.html#time.strftime) function. This function takes two arguments. The first argument is a string which specifies the output format. The second argument (after the comma) specifies the time we want to convert.\n",
    "\n",
    "````{margin}\n",
    "```{note}\n",
    "Remember to include the hyphens and colons when producing a standard time format.\n",
    "\n",
    "```\n",
    "````"
   ]
  },
  {
   "cell_type": "code",
   "execution_count": 126,
   "id": "fe3a33c4",
   "metadata": {},
   "outputs": [
    {
     "data": {
      "text/plain": [
       "'2022-06-12 16:11:24'"
      ]
     },
     "execution_count": 126,
     "metadata": {},
     "output_type": "execute_result"
    }
   ],
   "source": [
    "time.strftime(\"%Y-%m-%d %H:%M:%S\", time.localtime())"
   ]
  },
  {
   "cell_type": "markdown",
   "id": "9a3fab67",
   "metadata": {},
   "source": [
    "We can print the current time in any way we like."
   ]
  },
  {
   "cell_type": "code",
   "execution_count": 127,
   "id": "b1b03dba",
   "metadata": {},
   "outputs": [
    {
     "data": {
      "text/plain": [
       "'Sun, Jun 12 2022 04:11:24 PM PDT'"
      ]
     },
     "execution_count": 127,
     "metadata": {},
     "output_type": "execute_result"
    }
   ],
   "source": [
    "time.strftime(\"%a, %b %d %Y %I:%M:%S %p %Z\", time.localtime())"
   ]
  },
  {
   "cell_type": "markdown",
   "id": "efb10ba0",
   "metadata": {},
   "source": [
    "```{note}\n",
    "For more options see the following [table](https://docs.python.org/3/library/time.html#time.strftime).\n",
    "```"
   ]
  },
  {
   "cell_type": "markdown",
   "id": "1650f22d",
   "metadata": {},
   "source": [
    "## Convert a string to a standard time format\n",
    "\n",
    "Sometimes we are presented with strangely formatted dates and times that we would like to convert to a standard format. We can do that using the [`strptime`](https://docs.python.org/3/library/time.html#time.strptime) function. This function takes two arguments, a string that represents the time that we have been given and another string that specifies the format it is in."
   ]
  },
  {
   "cell_type": "code",
   "execution_count": 128,
   "id": "2f53da5e",
   "metadata": {},
   "outputs": [
    {
     "data": {
      "text/plain": [
       "time.struct_time(tm_year=2022, tm_mon=11, tm_mday=30, tm_hour=0, tm_min=0, tm_sec=0, tm_wday=2, tm_yday=334, tm_isdst=-1)"
      ]
     },
     "execution_count": 128,
     "metadata": {},
     "output_type": "execute_result"
    }
   ],
   "source": [
    "time.strptime('11/30/2022', \"%m/%d/%Y\")"
   ]
  },
  {
   "cell_type": "markdown",
   "id": "5a3eaa41",
   "metadata": {},
   "source": [
    "We could then use `strftime` to convert this `struct_time` object into standard time format. \n",
    "\n",
    "````{margin}\n",
    "```{note}\n",
    "Note that the forward slashes are converted to hyphens.\n",
    "\n",
    "```\n",
    "````"
   ]
  },
  {
   "cell_type": "code",
   "execution_count": 129,
   "id": "f3324a89",
   "metadata": {},
   "outputs": [
    {
     "data": {
      "text/plain": [
       "'2022-11-30 00:00:00'"
      ]
     },
     "execution_count": 129,
     "metadata": {},
     "output_type": "execute_result"
    }
   ],
   "source": [
    "time.strftime(\"%Y-%m-%d %H:%M:%S\", time.strptime('11/30/2022', \"%m/%d/%Y\"))"
   ]
  },
  {
   "cell_type": "markdown",
   "id": "3749a0bc",
   "metadata": {},
   "source": [
    "## Convert integers to standard time format\n",
    "\n",
    "Another common case is when we have a spreadsheet that contains the year, month, day etc. in separate columns as integers. We can convert these integers into a single string variable by first using the built-in function `str` to convert the integers to strings and then using the `+` sign to concatenate the the individual strings."
   ]
  },
  {
   "cell_type": "code",
   "execution_count": 130,
   "id": "019689d8",
   "metadata": {},
   "outputs": [
    {
     "data": {
      "text/plain": [
       "time.struct_time(tm_year=2022, tm_mon=11, tm_mday=30, tm_hour=0, tm_min=0, tm_sec=0, tm_wday=2, tm_yday=334, tm_isdst=-1)"
      ]
     },
     "execution_count": 130,
     "metadata": {},
     "output_type": "execute_result"
    }
   ],
   "source": [
    "year = 2022\n",
    "month = 11\n",
    "day = 30\n",
    "\n",
    "time_string = str(year) + str(month) + str(day)\n",
    "\n",
    "time.strptime(time_string, \"%Y%m%d\")"
   ]
  },
  {
   "cell_type": "code",
   "execution_count": 131,
   "id": "849e691d",
   "metadata": {},
   "outputs": [
    {
     "data": {
      "text/plain": [
       "'2022-11-30 00:00:00'"
      ]
     },
     "execution_count": 131,
     "metadata": {},
     "output_type": "execute_result"
    }
   ],
   "source": [
    "t = time.strptime(time_string, \"%Y%m%d\")\n",
    "\n",
    "time.strftime(\"%Y-%m-%d %H:%M:%S\", t)"
   ]
  },
  {
   "cell_type": "markdown",
   "id": "fb5153e6",
   "metadata": {},
   "source": [
    "```{note}\n",
    "The `time` library provides most of what we need but there are other Python libraries such as [`datetime`](https://docs.python.org/3/library/datetime.html) and [`dateutil`](https://dateutil.readthedocs.io/en/stable/) that provide even more functionality for manipulating dates and time. `Pandas` also contains extensive capabilities and features for working with time series data which we will cover in Week 7.\n",
    "```"
   ]
  },
  {
   "cell_type": "code",
   "execution_count": null,
   "id": "50026c8c",
   "metadata": {},
   "outputs": [],
   "source": []
  }
 ],
 "metadata": {
  "kernelspec": {
   "display_name": "Python 3 (ipykernel)",
   "language": "python",
   "name": "python3"
  },
  "language_info": {
   "codemirror_mode": {
    "name": "ipython",
    "version": 3
   },
   "file_extension": ".py",
   "mimetype": "text/x-python",
   "name": "python",
   "nbconvert_exporter": "python",
   "pygments_lexer": "ipython3",
   "version": "3.8.12"
  }
 },
 "nbformat": 4,
 "nbformat_minor": 5
}
