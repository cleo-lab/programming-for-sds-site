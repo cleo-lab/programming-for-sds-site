{
 "cells": [
  {
   "cell_type": "markdown",
   "id": "1149626a",
   "metadata": {},
   "source": [
    "# Pandas DataFrames I\n",
    "\n",
    "One of the pillars spatial data science is a Python library called `Pandas` which provides functions to import tabular data from various file formats (e.g. `.csv`, `.xlsx`) and many other data manipulation operations such as merging, reshaping, selecting, cleaning, and wrangling. In this week, we will introduce some basic `Pandas` operations. In Week 7, we will progress to more advanced usage of `Pandas`. \n",
    "\n",
    "```{note}\n",
    "The name \"Pandas\" is derived from the \"panel data\", an econometrics term for data sets that include observations over multiple time periods.\n",
    "```\n",
    "\n",
    "```{image} images/terminology.webp\n",
    ":alt: terminology\n",
    ":class: bg-primary mb-1\n",
    ":width: 500px\n",
    ":align: center\n",
    "```\n",
    "\n",
    "## Data structure\n",
    "\n",
    "The main `Pandas` data structure is called a **DataFrame** which looks similar to an Excel spreadsheets. A typical DataFrame is a 2-D array with rows, columns, indices, and column names. We can import the `Pandas` and define a DataFrame like so:"
   ]
  },
  {
   "cell_type": "code",
   "execution_count": 1,
   "id": "98da6612",
   "metadata": {},
   "outputs": [
    {
     "data": {
      "text/html": [
       "<div>\n",
       "<style scoped>\n",
       "    .dataframe tbody tr th:only-of-type {\n",
       "        vertical-align: middle;\n",
       "    }\n",
       "\n",
       "    .dataframe tbody tr th {\n",
       "        vertical-align: top;\n",
       "    }\n",
       "\n",
       "    .dataframe thead th {\n",
       "        text-align: right;\n",
       "    }\n",
       "</style>\n",
       "<table border=\"1\" class=\"dataframe\">\n",
       "  <thead>\n",
       "    <tr style=\"text-align: right;\">\n",
       "      <th></th>\n",
       "      <th>city</th>\n",
       "      <th>country</th>\n",
       "    </tr>\n",
       "  </thead>\n",
       "  <tbody>\n",
       "    <tr>\n",
       "      <th>0</th>\n",
       "      <td>Belfast</td>\n",
       "      <td>Northern Ireland</td>\n",
       "    </tr>\n",
       "    <tr>\n",
       "      <th>1</th>\n",
       "      <td>Cardiff</td>\n",
       "      <td>Wales</td>\n",
       "    </tr>\n",
       "    <tr>\n",
       "      <th>2</th>\n",
       "      <td>Edinburgh</td>\n",
       "      <td>Scotland</td>\n",
       "    </tr>\n",
       "    <tr>\n",
       "      <th>3</th>\n",
       "      <td>London</td>\n",
       "      <td>England</td>\n",
       "    </tr>\n",
       "  </tbody>\n",
       "</table>\n",
       "</div>"
      ],
      "text/plain": [
       "        city           country\n",
       "0    Belfast  Northern Ireland\n",
       "1    Cardiff             Wales\n",
       "2  Edinburgh          Scotland\n",
       "3     London           England"
      ]
     },
     "execution_count": 1,
     "metadata": {},
     "output_type": "execute_result"
    }
   ],
   "source": [
    "import pandas as pd\n",
    "\n",
    "df = pd.DataFrame({\"city\": ['Belfast', 'Cardiff', 'Edinburgh', 'London'],\n",
    "                   \"country\": ['Northern Ireland', 'Wales', 'Scotland', 'England']})\n",
    "\n",
    "df.head()"
   ]
  },
  {
   "cell_type": "markdown",
   "id": "b513883e",
   "metadata": {},
   "source": [
    "````{margin}\n",
    "```{note}\n",
    "Similar to `NumPy`, it is standard practice to shorten the imported name to `pd` for better code readability.\n",
    "```\n",
    "````"
   ]
  },
  {
   "cell_type": "markdown",
   "id": "f71919d2",
   "metadata": {},
   "source": [
    "So what do we have here? We now have a small table containing countries in the United Kingdom and their capital cities. The table has **two labeled columns**, one called `city` and one called `country`. The table has **four rows**, with each row corresponding to an **index** between 0 and 3. "
   ]
  },
  {
   "cell_type": "markdown",
   "id": "82c8845a",
   "metadata": {},
   "source": [
    "````{margin}\n",
    "```{note}\n",
    "Column names must be unique.\n",
    "```\n",
    "````"
   ]
  },
  {
   "cell_type": "markdown",
   "id": "a2fcd838",
   "metadata": {},
   "source": [
    "## Reading data\n",
    "\n",
    "In reality, we rarely make a table from scratch. Instead we **read** files that already contain data and store the contents of those files into variables. We can do this using `.read_csv()` which is a general function for reading data files separated by commas, spaces, or other common separators. The function takes a **path string** and returns a `DataFrame` object. "
   ]
  },
  {
   "cell_type": "code",
   "execution_count": 2,
   "id": "ae8a98a3",
   "metadata": {},
   "outputs": [
    {
     "data": {
      "text/plain": [
       "pandas.core.frame.DataFrame"
      ]
     },
     "execution_count": 2,
     "metadata": {},
     "output_type": "execute_result"
    }
   ],
   "source": [
    "df = pd.read_csv('data/euro_cities.csv')\n",
    "\n",
    "# \"df\" stands for DataFrame\n",
    "type(df)"
   ]
  },
  {
   "cell_type": "markdown",
   "id": "e3bef870",
   "metadata": {},
   "source": [
    "```{image} images/eurostar.png\n",
    ":alt: eurostar\n",
    ":class: bg-primary mb-1\n",
    ":width: 500px\n",
    ":align: center\n",
    "```"
   ]
  },
  {
   "cell_type": "markdown",
   "id": "5751edc3",
   "metadata": {},
   "source": [
    "A concise way of checking what is contained in our `df` object is the `.head()` method which prints the first five rows of the data."
   ]
  },
  {
   "cell_type": "code",
   "execution_count": 3,
   "id": "b06d1bae",
   "metadata": {},
   "outputs": [
    {
     "data": {
      "text/html": [
       "<div>\n",
       "<style scoped>\n",
       "    .dataframe tbody tr th:only-of-type {\n",
       "        vertical-align: middle;\n",
       "    }\n",
       "\n",
       "    .dataframe tbody tr th {\n",
       "        vertical-align: top;\n",
       "    }\n",
       "\n",
       "    .dataframe thead th {\n",
       "        text-align: right;\n",
       "    }\n",
       "</style>\n",
       "<table border=\"1\" class=\"dataframe\">\n",
       "  <thead>\n",
       "    <tr style=\"text-align: right;\">\n",
       "      <th></th>\n",
       "      <th>city</th>\n",
       "      <th>country</th>\n",
       "      <th>population</th>\n",
       "    </tr>\n",
       "  </thead>\n",
       "  <tbody>\n",
       "    <tr>\n",
       "      <th>0</th>\n",
       "      <td>Moscow</td>\n",
       "      <td>Russia</td>\n",
       "      <td>10381222</td>\n",
       "    </tr>\n",
       "    <tr>\n",
       "      <th>1</th>\n",
       "      <td>London</td>\n",
       "      <td>United Kingdom</td>\n",
       "      <td>7556900</td>\n",
       "    </tr>\n",
       "    <tr>\n",
       "      <th>2</th>\n",
       "      <td>Saint Petersburg</td>\n",
       "      <td>Russia</td>\n",
       "      <td>5028000</td>\n",
       "    </tr>\n",
       "    <tr>\n",
       "      <th>3</th>\n",
       "      <td>Berlin</td>\n",
       "      <td>Germany</td>\n",
       "      <td>3426354</td>\n",
       "    </tr>\n",
       "    <tr>\n",
       "      <th>4</th>\n",
       "      <td>Madrid</td>\n",
       "      <td>Spain</td>\n",
       "      <td>3255944</td>\n",
       "    </tr>\n",
       "  </tbody>\n",
       "</table>\n",
       "</div>"
      ],
      "text/plain": [
       "               city         country  population\n",
       "0            Moscow          Russia    10381222\n",
       "1            London  United Kingdom     7556900\n",
       "2  Saint Petersburg          Russia     5028000\n",
       "3            Berlin         Germany     3426354\n",
       "4            Madrid           Spain     3255944"
      ]
     },
     "execution_count": 3,
     "metadata": {},
     "output_type": "execute_result"
    }
   ],
   "source": [
    "df.head()"
   ]
  },
  {
   "cell_type": "markdown",
   "id": "06d281b7",
   "metadata": {},
   "source": [
    "Alternatively, we could check the last five rows of the data:"
   ]
  },
  {
   "cell_type": "code",
   "execution_count": 4,
   "id": "54702521",
   "metadata": {},
   "outputs": [
    {
     "data": {
      "text/html": [
       "<div>\n",
       "<style scoped>\n",
       "    .dataframe tbody tr th:only-of-type {\n",
       "        vertical-align: middle;\n",
       "    }\n",
       "\n",
       "    .dataframe tbody tr th {\n",
       "        vertical-align: top;\n",
       "    }\n",
       "\n",
       "    .dataframe thead th {\n",
       "        text-align: right;\n",
       "    }\n",
       "</style>\n",
       "<table border=\"1\" class=\"dataframe\">\n",
       "  <thead>\n",
       "    <tr style=\"text-align: right;\">\n",
       "      <th></th>\n",
       "      <th>city</th>\n",
       "      <th>country</th>\n",
       "      <th>population</th>\n",
       "    </tr>\n",
       "  </thead>\n",
       "  <tbody>\n",
       "    <tr>\n",
       "      <th>95</th>\n",
       "      <td>Tyumen</td>\n",
       "      <td>Russia</td>\n",
       "      <td>519119</td>\n",
       "    </tr>\n",
       "    <tr>\n",
       "      <th>96</th>\n",
       "      <td>Lisbon</td>\n",
       "      <td>Portugal</td>\n",
       "      <td>517802</td>\n",
       "    </tr>\n",
       "    <tr>\n",
       "      <th>97</th>\n",
       "      <td>Lipetsk</td>\n",
       "      <td>Russia</td>\n",
       "      <td>515655</td>\n",
       "    </tr>\n",
       "    <tr>\n",
       "      <th>98</th>\n",
       "      <td>Hannover</td>\n",
       "      <td>Germany</td>\n",
       "      <td>515140</td>\n",
       "    </tr>\n",
       "    <tr>\n",
       "      <th>99</th>\n",
       "      <td>Penza</td>\n",
       "      <td>Russia</td>\n",
       "      <td>512602</td>\n",
       "    </tr>\n",
       "  </tbody>\n",
       "</table>\n",
       "</div>"
      ],
      "text/plain": [
       "        city   country  population\n",
       "95    Tyumen    Russia      519119\n",
       "96    Lisbon  Portugal      517802\n",
       "97   Lipetsk    Russia      515655\n",
       "98  Hannover   Germany      515140\n",
       "99     Penza    Russia      512602"
      ]
     },
     "execution_count": 4,
     "metadata": {},
     "output_type": "execute_result"
    }
   ],
   "source": [
    "df.tail()"
   ]
  },
  {
   "cell_type": "markdown",
   "id": "a2a3432b",
   "metadata": {},
   "source": [
    "Or the last 10 rows:"
   ]
  },
  {
   "cell_type": "code",
   "execution_count": 5,
   "id": "a0491d18",
   "metadata": {},
   "outputs": [
    {
     "data": {
      "text/html": [
       "<div>\n",
       "<style scoped>\n",
       "    .dataframe tbody tr th:only-of-type {\n",
       "        vertical-align: middle;\n",
       "    }\n",
       "\n",
       "    .dataframe tbody tr th {\n",
       "        vertical-align: top;\n",
       "    }\n",
       "\n",
       "    .dataframe thead th {\n",
       "        text-align: right;\n",
       "    }\n",
       "</style>\n",
       "<table border=\"1\" class=\"dataframe\">\n",
       "  <thead>\n",
       "    <tr style=\"text-align: right;\">\n",
       "      <th></th>\n",
       "      <th>city</th>\n",
       "      <th>country</th>\n",
       "      <th>population</th>\n",
       "    </tr>\n",
       "  </thead>\n",
       "  <tbody>\n",
       "    <tr>\n",
       "      <th>90</th>\n",
       "      <td>Orenburg</td>\n",
       "      <td>Russia</td>\n",
       "      <td>550204</td>\n",
       "    </tr>\n",
       "    <tr>\n",
       "      <th>91</th>\n",
       "      <td>Bremen</td>\n",
       "      <td>Germany</td>\n",
       "      <td>546501</td>\n",
       "    </tr>\n",
       "    <tr>\n",
       "      <th>92</th>\n",
       "      <td>Vilnius</td>\n",
       "      <td>Lithuania</td>\n",
       "      <td>542366</td>\n",
       "    </tr>\n",
       "    <tr>\n",
       "      <th>93</th>\n",
       "      <td>Novokuznetsk</td>\n",
       "      <td>Russia</td>\n",
       "      <td>539616</td>\n",
       "    </tr>\n",
       "    <tr>\n",
       "      <th>94</th>\n",
       "      <td>Ryazan'</td>\n",
       "      <td>Russia</td>\n",
       "      <td>520173</td>\n",
       "    </tr>\n",
       "    <tr>\n",
       "      <th>95</th>\n",
       "      <td>Tyumen</td>\n",
       "      <td>Russia</td>\n",
       "      <td>519119</td>\n",
       "    </tr>\n",
       "    <tr>\n",
       "      <th>96</th>\n",
       "      <td>Lisbon</td>\n",
       "      <td>Portugal</td>\n",
       "      <td>517802</td>\n",
       "    </tr>\n",
       "    <tr>\n",
       "      <th>97</th>\n",
       "      <td>Lipetsk</td>\n",
       "      <td>Russia</td>\n",
       "      <td>515655</td>\n",
       "    </tr>\n",
       "    <tr>\n",
       "      <th>98</th>\n",
       "      <td>Hannover</td>\n",
       "      <td>Germany</td>\n",
       "      <td>515140</td>\n",
       "    </tr>\n",
       "    <tr>\n",
       "      <th>99</th>\n",
       "      <td>Penza</td>\n",
       "      <td>Russia</td>\n",
       "      <td>512602</td>\n",
       "    </tr>\n",
       "  </tbody>\n",
       "</table>\n",
       "</div>"
      ],
      "text/plain": [
       "            city    country  population\n",
       "90      Orenburg     Russia      550204\n",
       "91        Bremen    Germany      546501\n",
       "92       Vilnius  Lithuania      542366\n",
       "93  Novokuznetsk     Russia      539616\n",
       "94       Ryazan'     Russia      520173\n",
       "95        Tyumen     Russia      519119\n",
       "96        Lisbon   Portugal      517802\n",
       "97       Lipetsk     Russia      515655\n",
       "98      Hannover    Germany      515140\n",
       "99         Penza     Russia      512602"
      ]
     },
     "execution_count": 5,
     "metadata": {},
     "output_type": "execute_result"
    }
   ],
   "source": [
    "df.tail(10)"
   ]
  },
  {
   "cell_type": "markdown",
   "id": "1b75bdb2",
   "metadata": {},
   "source": [
    "## DataFrame properties\n",
    "\n",
    "To check the data types of each column, we can use `Pandas` method called `.dtypes`:"
   ]
  },
  {
   "cell_type": "code",
   "execution_count": 6,
   "id": "a734ce66",
   "metadata": {},
   "outputs": [
    {
     "data": {
      "text/plain": [
       "city          object\n",
       "country       object\n",
       "population     int64\n",
       "dtype: object"
      ]
     },
     "execution_count": 6,
     "metadata": {},
     "output_type": "execute_result"
    }
   ],
   "source": [
    "df.dtypes"
   ]
  },
  {
   "cell_type": "markdown",
   "id": "781b5226",
   "metadata": {},
   "source": [
    "Here we see that population is an **integer** (with 64-bit precision) and the other two columns are **objects** (`Pandas` stores string data types as \"objects\" by default).\n",
    "\n",
    "We can also retrieve the column names of the DataFrame using the `column` method."
   ]
  },
  {
   "cell_type": "code",
   "execution_count": 7,
   "id": "97cf6ad3",
   "metadata": {},
   "outputs": [
    {
     "data": {
      "text/plain": [
       "Index(['city', 'country', 'population'], dtype='object')"
      ]
     },
     "execution_count": 7,
     "metadata": {},
     "output_type": "execute_result"
    }
   ],
   "source": [
    "df.columns"
   ]
  },
  {
   "cell_type": "markdown",
   "id": "7f993945",
   "metadata": {},
   "source": [
    "And, just like `NumPy` arrays, we can find the shape of our DataFrame using the `shape` method."
   ]
  },
  {
   "cell_type": "code",
   "execution_count": 8,
   "id": "ededa24a",
   "metadata": {},
   "outputs": [
    {
     "data": {
      "text/plain": [
       "(100, 3)"
      ]
     },
     "execution_count": 8,
     "metadata": {},
     "output_type": "execute_result"
    }
   ],
   "source": [
    "df.shape"
   ]
  },
  {
   "cell_type": "markdown",
   "id": "5538e3e1",
   "metadata": {},
   "source": [
    "## Indexing \n",
    "\n",
    "We can select specific columns based on the column values. The basic syntax is `dataframe[value]`, where value can be a single column name, or a list of column names."
   ]
  },
  {
   "cell_type": "code",
   "execution_count": 9,
   "id": "6f593ee8",
   "metadata": {},
   "outputs": [
    {
     "data": {
      "text/plain": [
       "0               Moscow\n",
       "1               London\n",
       "2     Saint Petersburg\n",
       "3               Berlin\n",
       "4               Madrid\n",
       "            ...       \n",
       "95              Tyumen\n",
       "96              Lisbon\n",
       "97             Lipetsk\n",
       "98            Hannover\n",
       "99               Penza\n",
       "Name: city, Length: 100, dtype: object"
      ]
     },
     "execution_count": 9,
     "metadata": {},
     "output_type": "execute_result"
    }
   ],
   "source": [
    "df['city']"
   ]
  },
  {
   "cell_type": "code",
   "execution_count": 10,
   "id": "53bb9018",
   "metadata": {},
   "outputs": [
    {
     "data": {
      "text/html": [
       "<div>\n",
       "<style scoped>\n",
       "    .dataframe tbody tr th:only-of-type {\n",
       "        vertical-align: middle;\n",
       "    }\n",
       "\n",
       "    .dataframe tbody tr th {\n",
       "        vertical-align: top;\n",
       "    }\n",
       "\n",
       "    .dataframe thead th {\n",
       "        text-align: right;\n",
       "    }\n",
       "</style>\n",
       "<table border=\"1\" class=\"dataframe\">\n",
       "  <thead>\n",
       "    <tr style=\"text-align: right;\">\n",
       "      <th></th>\n",
       "      <th>city</th>\n",
       "      <th>country</th>\n",
       "    </tr>\n",
       "  </thead>\n",
       "  <tbody>\n",
       "    <tr>\n",
       "      <th>0</th>\n",
       "      <td>Moscow</td>\n",
       "      <td>Russia</td>\n",
       "    </tr>\n",
       "    <tr>\n",
       "      <th>1</th>\n",
       "      <td>London</td>\n",
       "      <td>United Kingdom</td>\n",
       "    </tr>\n",
       "    <tr>\n",
       "      <th>2</th>\n",
       "      <td>Saint Petersburg</td>\n",
       "      <td>Russia</td>\n",
       "    </tr>\n",
       "    <tr>\n",
       "      <th>3</th>\n",
       "      <td>Berlin</td>\n",
       "      <td>Germany</td>\n",
       "    </tr>\n",
       "    <tr>\n",
       "      <th>4</th>\n",
       "      <td>Madrid</td>\n",
       "      <td>Spain</td>\n",
       "    </tr>\n",
       "    <tr>\n",
       "      <th>...</th>\n",
       "      <td>...</td>\n",
       "      <td>...</td>\n",
       "    </tr>\n",
       "    <tr>\n",
       "      <th>95</th>\n",
       "      <td>Tyumen</td>\n",
       "      <td>Russia</td>\n",
       "    </tr>\n",
       "    <tr>\n",
       "      <th>96</th>\n",
       "      <td>Lisbon</td>\n",
       "      <td>Portugal</td>\n",
       "    </tr>\n",
       "    <tr>\n",
       "      <th>97</th>\n",
       "      <td>Lipetsk</td>\n",
       "      <td>Russia</td>\n",
       "    </tr>\n",
       "    <tr>\n",
       "      <th>98</th>\n",
       "      <td>Hannover</td>\n",
       "      <td>Germany</td>\n",
       "    </tr>\n",
       "    <tr>\n",
       "      <th>99</th>\n",
       "      <td>Penza</td>\n",
       "      <td>Russia</td>\n",
       "    </tr>\n",
       "  </tbody>\n",
       "</table>\n",
       "<p>100 rows × 2 columns</p>\n",
       "</div>"
      ],
      "text/plain": [
       "                city         country\n",
       "0             Moscow          Russia\n",
       "1             London  United Kingdom\n",
       "2   Saint Petersburg          Russia\n",
       "3             Berlin         Germany\n",
       "4             Madrid           Spain\n",
       "..               ...             ...\n",
       "95            Tyumen          Russia\n",
       "96            Lisbon        Portugal\n",
       "97           Lipetsk          Russia\n",
       "98          Hannover         Germany\n",
       "99             Penza          Russia\n",
       "\n",
       "[100 rows x 2 columns]"
      ]
     },
     "execution_count": 10,
     "metadata": {},
     "output_type": "execute_result"
    }
   ],
   "source": [
    "df[['city', 'country']]"
   ]
  },
  {
   "cell_type": "markdown",
   "id": "1d05f0fe",
   "metadata": {},
   "source": [
    "We can select specific rows using the `.iloc` method."
   ]
  },
  {
   "cell_type": "code",
   "execution_count": 11,
   "id": "b7212dcb",
   "metadata": {},
   "outputs": [
    {
     "data": {
      "text/plain": [
       "city             Rome\n",
       "country         Italy\n",
       "population    2318895\n",
       "Name: 6, dtype: object"
      ]
     },
     "execution_count": 11,
     "metadata": {},
     "output_type": "execute_result"
    }
   ],
   "source": [
    "df.iloc[6]"
   ]
  },
  {
   "cell_type": "markdown",
   "id": "35e1b2be",
   "metadata": {},
   "source": [
    "The syntax for selecting the top 10 cities should be quite familiar."
   ]
  },
  {
   "cell_type": "code",
   "execution_count": 12,
   "id": "375cc4f3",
   "metadata": {},
   "outputs": [
    {
     "data": {
      "text/html": [
       "<div>\n",
       "<style scoped>\n",
       "    .dataframe tbody tr th:only-of-type {\n",
       "        vertical-align: middle;\n",
       "    }\n",
       "\n",
       "    .dataframe tbody tr th {\n",
       "        vertical-align: top;\n",
       "    }\n",
       "\n",
       "    .dataframe thead th {\n",
       "        text-align: right;\n",
       "    }\n",
       "</style>\n",
       "<table border=\"1\" class=\"dataframe\">\n",
       "  <thead>\n",
       "    <tr style=\"text-align: right;\">\n",
       "      <th></th>\n",
       "      <th>city</th>\n",
       "      <th>country</th>\n",
       "      <th>population</th>\n",
       "    </tr>\n",
       "  </thead>\n",
       "  <tbody>\n",
       "    <tr>\n",
       "      <th>0</th>\n",
       "      <td>Moscow</td>\n",
       "      <td>Russia</td>\n",
       "      <td>10381222</td>\n",
       "    </tr>\n",
       "    <tr>\n",
       "      <th>1</th>\n",
       "      <td>London</td>\n",
       "      <td>United Kingdom</td>\n",
       "      <td>7556900</td>\n",
       "    </tr>\n",
       "    <tr>\n",
       "      <th>2</th>\n",
       "      <td>Saint Petersburg</td>\n",
       "      <td>Russia</td>\n",
       "      <td>5028000</td>\n",
       "    </tr>\n",
       "    <tr>\n",
       "      <th>3</th>\n",
       "      <td>Berlin</td>\n",
       "      <td>Germany</td>\n",
       "      <td>3426354</td>\n",
       "    </tr>\n",
       "    <tr>\n",
       "      <th>4</th>\n",
       "      <td>Madrid</td>\n",
       "      <td>Spain</td>\n",
       "      <td>3255944</td>\n",
       "    </tr>\n",
       "    <tr>\n",
       "      <th>5</th>\n",
       "      <td>Kyiv</td>\n",
       "      <td>Ukraine</td>\n",
       "      <td>2797553</td>\n",
       "    </tr>\n",
       "    <tr>\n",
       "      <th>6</th>\n",
       "      <td>Rome</td>\n",
       "      <td>Italy</td>\n",
       "      <td>2318895</td>\n",
       "    </tr>\n",
       "    <tr>\n",
       "      <th>7</th>\n",
       "      <td>Paris</td>\n",
       "      <td>France</td>\n",
       "      <td>2138551</td>\n",
       "    </tr>\n",
       "    <tr>\n",
       "      <th>8</th>\n",
       "      <td>Bucharest</td>\n",
       "      <td>Romania</td>\n",
       "      <td>1877155</td>\n",
       "    </tr>\n",
       "    <tr>\n",
       "      <th>9</th>\n",
       "      <td>Minsk</td>\n",
       "      <td>Belarus</td>\n",
       "      <td>1742124</td>\n",
       "    </tr>\n",
       "  </tbody>\n",
       "</table>\n",
       "</div>"
      ],
      "text/plain": [
       "               city         country  population\n",
       "0            Moscow          Russia    10381222\n",
       "1            London  United Kingdom     7556900\n",
       "2  Saint Petersburg          Russia     5028000\n",
       "3            Berlin         Germany     3426354\n",
       "4            Madrid           Spain     3255944\n",
       "5              Kyiv         Ukraine     2797553\n",
       "6              Rome           Italy     2318895\n",
       "7             Paris          France     2138551\n",
       "8         Bucharest         Romania     1877155\n",
       "9             Minsk         Belarus     1742124"
      ]
     },
     "execution_count": 12,
     "metadata": {},
     "output_type": "execute_result"
    }
   ],
   "source": [
    "df.iloc[0:10]"
   ]
  },
  {
   "cell_type": "markdown",
   "id": "2a2c12b3",
   "metadata": {},
   "source": [
    "If we wanted to find the city with the highest/lowest population we could use `.idxmax()`/`idxmin()` which returns the index of the highest/lowest value in the column."
   ]
  },
  {
   "cell_type": "code",
   "execution_count": 13,
   "id": "199166a4",
   "metadata": {},
   "outputs": [
    {
     "data": {
      "text/plain": [
       "0"
      ]
     },
     "execution_count": 13,
     "metadata": {},
     "output_type": "execute_result"
    }
   ],
   "source": [
    "df['population'].idxmax()"
   ]
  },
  {
   "cell_type": "code",
   "execution_count": 14,
   "id": "2bea0288",
   "metadata": {},
   "outputs": [
    {
     "data": {
      "text/plain": [
       "'The city with the largest population in Europe is Moscow'"
      ]
     },
     "execution_count": 14,
     "metadata": {},
     "output_type": "execute_result"
    }
   ],
   "source": [
    "index_high = df['population'].idxmax()\n",
    "\n",
    "city_high = df.iloc[index_high]['city']\n",
    "\n",
    "f\"The city with the largest population in Europe is {city_high}\""
   ]
  },
  {
   "cell_type": "markdown",
   "id": "7b514f43",
   "metadata": {},
   "source": [
    "## Descriptive statistics\n",
    "\n",
    "`Pandas` provides basic functions to calculate descriptive statistics - similar to what we might usuaally do with Microsoft Excel."
   ]
  },
  {
   "cell_type": "code",
   "execution_count": 15,
   "id": "934cf83f",
   "metadata": {},
   "outputs": [
    {
     "data": {
      "text/plain": [
       "1174041.59"
      ]
     },
     "execution_count": 15,
     "metadata": {},
     "output_type": "execute_result"
    }
   ],
   "source": [
    "df['population'].mean()"
   ]
  },
  {
   "cell_type": "code",
   "execution_count": 16,
   "id": "e0c76bd3",
   "metadata": {},
   "outputs": [
    {
     "data": {
      "text/plain": [
       "10381222"
      ]
     },
     "execution_count": 16,
     "metadata": {},
     "output_type": "execute_result"
    }
   ],
   "source": [
    "df['population'].max()"
   ]
  },
  {
   "cell_type": "code",
   "execution_count": 17,
   "id": "79dd749e",
   "metadata": {},
   "outputs": [
    {
     "data": {
      "text/plain": [
       "512602"
      ]
     },
     "execution_count": 17,
     "metadata": {},
     "output_type": "execute_result"
    }
   ],
   "source": [
    "df['population'].min()"
   ]
  },
  {
   "cell_type": "markdown",
   "id": "1df154ce",
   "metadata": {},
   "source": [
    "We can get all descriptive statistics at once using the `describe()` function"
   ]
  },
  {
   "cell_type": "code",
   "execution_count": 18,
   "id": "fe8ca689",
   "metadata": {},
   "outputs": [
    {
     "data": {
      "text/plain": [
       "count    1.000000e+02\n",
       "mean     1.174042e+06\n",
       "std      1.326413e+06\n",
       "min      5.126020e+05\n",
       "25%      5.969205e+05\n",
       "50%      7.817830e+05\n",
       "75%      1.152821e+06\n",
       "max      1.038122e+07\n",
       "Name: population, dtype: float64"
      ]
     },
     "execution_count": 18,
     "metadata": {},
     "output_type": "execute_result"
    }
   ],
   "source": [
    "df['population'].describe()"
   ]
  },
  {
   "cell_type": "markdown",
   "id": "42951ebf",
   "metadata": {},
   "source": [
    "Where the `25%, 50%, and 75%` are the [inter-quartile ranges](https://en.wikipedia.org/wiki/Quartile). Often the output of `describe()` is more readable if we **round** these data to two decimal places."
   ]
  },
  {
   "cell_type": "code",
   "execution_count": 19,
   "id": "6f6e57b1",
   "metadata": {},
   "outputs": [
    {
     "data": {
      "text/plain": [
       "count         100.00\n",
       "mean      1174041.59\n",
       "std       1326413.44\n",
       "min        512602.00\n",
       "25%        596920.50\n",
       "50%        781783.00\n",
       "75%       1152820.75\n",
       "max      10381222.00\n",
       "Name: population, dtype: float64"
      ]
     },
     "execution_count": 19,
     "metadata": {},
     "output_type": "execute_result"
    }
   ],
   "source": [
    "round(df['population'].describe(), 2)"
   ]
  },
  {
   "cell_type": "markdown",
   "id": "bf4f5afb",
   "metadata": {},
   "source": [
    "## Slicing\n",
    "\n",
    "Let's say we wanted to find how many cities in Germany made it into this top 100 list. We would first produce a **Boolean** mask (i.e. valus equal to `True` or `False`) using the `==` comparison operator."
   ]
  },
  {
   "cell_type": "code",
   "execution_count": 20,
   "id": "9cc4489e",
   "metadata": {},
   "outputs": [
    {
     "data": {
      "text/plain": [
       "0     False\n",
       "1     False\n",
       "2     False\n",
       "3      True\n",
       "4     False\n",
       "      ...  \n",
       "95    False\n",
       "96    False\n",
       "97    False\n",
       "98     True\n",
       "99    False\n",
       "Name: country, Length: 100, dtype: bool"
      ]
     },
     "execution_count": 20,
     "metadata": {},
     "output_type": "execute_result"
    }
   ],
   "source": [
    "mask = df['country'] == 'Germany'\n",
    "mask"
   ]
  },
  {
   "cell_type": "markdown",
   "id": "38a6ce95",
   "metadata": {},
   "source": [
    "We could then apply this mask to our original DataFrame."
   ]
  },
  {
   "cell_type": "code",
   "execution_count": 21,
   "id": "ebc8c213",
   "metadata": {},
   "outputs": [
    {
     "data": {
      "text/html": [
       "<div>\n",
       "<style scoped>\n",
       "    .dataframe tbody tr th:only-of-type {\n",
       "        vertical-align: middle;\n",
       "    }\n",
       "\n",
       "    .dataframe tbody tr th {\n",
       "        vertical-align: top;\n",
       "    }\n",
       "\n",
       "    .dataframe thead th {\n",
       "        text-align: right;\n",
       "    }\n",
       "</style>\n",
       "<table border=\"1\" class=\"dataframe\">\n",
       "  <thead>\n",
       "    <tr style=\"text-align: right;\">\n",
       "      <th></th>\n",
       "      <th>city</th>\n",
       "      <th>country</th>\n",
       "      <th>population</th>\n",
       "    </tr>\n",
       "  </thead>\n",
       "  <tbody>\n",
       "    <tr>\n",
       "      <th>3</th>\n",
       "      <td>Berlin</td>\n",
       "      <td>Germany</td>\n",
       "      <td>3426354</td>\n",
       "    </tr>\n",
       "    <tr>\n",
       "      <th>11</th>\n",
       "      <td>Hamburg</td>\n",
       "      <td>Germany</td>\n",
       "      <td>1739117</td>\n",
       "    </tr>\n",
       "    <tr>\n",
       "      <th>21</th>\n",
       "      <td>Munich</td>\n",
       "      <td>Germany</td>\n",
       "      <td>1260391</td>\n",
       "    </tr>\n",
       "    <tr>\n",
       "      <th>40</th>\n",
       "      <td>Koeln</td>\n",
       "      <td>Germany</td>\n",
       "      <td>963395</td>\n",
       "    </tr>\n",
       "    <tr>\n",
       "      <th>64</th>\n",
       "      <td>Frankfurt am Main</td>\n",
       "      <td>Germany</td>\n",
       "      <td>650000</td>\n",
       "    </tr>\n",
       "    <tr>\n",
       "      <th>75</th>\n",
       "      <td>Essen</td>\n",
       "      <td>Germany</td>\n",
       "      <td>593085</td>\n",
       "    </tr>\n",
       "    <tr>\n",
       "      <th>77</th>\n",
       "      <td>Stuttgart</td>\n",
       "      <td>Germany</td>\n",
       "      <td>589793</td>\n",
       "    </tr>\n",
       "    <tr>\n",
       "      <th>78</th>\n",
       "      <td>Dortmund</td>\n",
       "      <td>Germany</td>\n",
       "      <td>588462</td>\n",
       "    </tr>\n",
       "    <tr>\n",
       "      <th>85</th>\n",
       "      <td>Duesseldorf</td>\n",
       "      <td>Germany</td>\n",
       "      <td>573057</td>\n",
       "    </tr>\n",
       "    <tr>\n",
       "      <th>91</th>\n",
       "      <td>Bremen</td>\n",
       "      <td>Germany</td>\n",
       "      <td>546501</td>\n",
       "    </tr>\n",
       "    <tr>\n",
       "      <th>98</th>\n",
       "      <td>Hannover</td>\n",
       "      <td>Germany</td>\n",
       "      <td>515140</td>\n",
       "    </tr>\n",
       "  </tbody>\n",
       "</table>\n",
       "</div>"
      ],
      "text/plain": [
       "                 city  country  population\n",
       "3              Berlin  Germany     3426354\n",
       "11            Hamburg  Germany     1739117\n",
       "21             Munich  Germany     1260391\n",
       "40              Koeln  Germany      963395\n",
       "64  Frankfurt am Main  Germany      650000\n",
       "75              Essen  Germany      593085\n",
       "77          Stuttgart  Germany      589793\n",
       "78           Dortmund  Germany      588462\n",
       "85        Duesseldorf  Germany      573057\n",
       "91             Bremen  Germany      546501\n",
       "98           Hannover  Germany      515140"
      ]
     },
     "execution_count": 21,
     "metadata": {},
     "output_type": "execute_result"
    }
   ],
   "source": [
    "df[mask]"
   ]
  },
  {
   "cell_type": "markdown",
   "id": "af30fc3f",
   "metadata": {},
   "source": [
    " We could do something similar if we wanted to find cities with populations of over 2 million. "
   ]
  },
  {
   "cell_type": "code",
   "execution_count": 22,
   "id": "19e05a3c",
   "metadata": {},
   "outputs": [
    {
     "data": {
      "text/html": [
       "<div>\n",
       "<style scoped>\n",
       "    .dataframe tbody tr th:only-of-type {\n",
       "        vertical-align: middle;\n",
       "    }\n",
       "\n",
       "    .dataframe tbody tr th {\n",
       "        vertical-align: top;\n",
       "    }\n",
       "\n",
       "    .dataframe thead th {\n",
       "        text-align: right;\n",
       "    }\n",
       "</style>\n",
       "<table border=\"1\" class=\"dataframe\">\n",
       "  <thead>\n",
       "    <tr style=\"text-align: right;\">\n",
       "      <th></th>\n",
       "      <th>city</th>\n",
       "      <th>country</th>\n",
       "      <th>population</th>\n",
       "    </tr>\n",
       "  </thead>\n",
       "  <tbody>\n",
       "    <tr>\n",
       "      <th>0</th>\n",
       "      <td>Moscow</td>\n",
       "      <td>Russia</td>\n",
       "      <td>10381222</td>\n",
       "    </tr>\n",
       "    <tr>\n",
       "      <th>1</th>\n",
       "      <td>London</td>\n",
       "      <td>United Kingdom</td>\n",
       "      <td>7556900</td>\n",
       "    </tr>\n",
       "    <tr>\n",
       "      <th>2</th>\n",
       "      <td>Saint Petersburg</td>\n",
       "      <td>Russia</td>\n",
       "      <td>5028000</td>\n",
       "    </tr>\n",
       "    <tr>\n",
       "      <th>3</th>\n",
       "      <td>Berlin</td>\n",
       "      <td>Germany</td>\n",
       "      <td>3426354</td>\n",
       "    </tr>\n",
       "    <tr>\n",
       "      <th>4</th>\n",
       "      <td>Madrid</td>\n",
       "      <td>Spain</td>\n",
       "      <td>3255944</td>\n",
       "    </tr>\n",
       "    <tr>\n",
       "      <th>5</th>\n",
       "      <td>Kyiv</td>\n",
       "      <td>Ukraine</td>\n",
       "      <td>2797553</td>\n",
       "    </tr>\n",
       "    <tr>\n",
       "      <th>6</th>\n",
       "      <td>Rome</td>\n",
       "      <td>Italy</td>\n",
       "      <td>2318895</td>\n",
       "    </tr>\n",
       "    <tr>\n",
       "      <th>7</th>\n",
       "      <td>Paris</td>\n",
       "      <td>France</td>\n",
       "      <td>2138551</td>\n",
       "    </tr>\n",
       "  </tbody>\n",
       "</table>\n",
       "</div>"
      ],
      "text/plain": [
       "               city         country  population\n",
       "0            Moscow          Russia    10381222\n",
       "1            London  United Kingdom     7556900\n",
       "2  Saint Petersburg          Russia     5028000\n",
       "3            Berlin         Germany     3426354\n",
       "4            Madrid           Spain     3255944\n",
       "5              Kyiv         Ukraine     2797553\n",
       "6              Rome           Italy     2318895\n",
       "7             Paris          France     2138551"
      ]
     },
     "execution_count": 22,
     "metadata": {},
     "output_type": "execute_result"
    }
   ],
   "source": [
    "df[df['population'] > 2000000]"
   ]
  },
  {
   "cell_type": "markdown",
   "id": "d6945626",
   "metadata": {},
   "source": [
    "We can add logical operators to find cities with populations of between 700,000 and 800,000"
   ]
  },
  {
   "cell_type": "code",
   "execution_count": 23,
   "id": "d6636222",
   "metadata": {},
   "outputs": [
    {
     "data": {
      "text/html": [
       "<div>\n",
       "<style scoped>\n",
       "    .dataframe tbody tr th:only-of-type {\n",
       "        vertical-align: middle;\n",
       "    }\n",
       "\n",
       "    .dataframe tbody tr th {\n",
       "        vertical-align: top;\n",
       "    }\n",
       "\n",
       "    .dataframe thead th {\n",
       "        text-align: right;\n",
       "    }\n",
       "</style>\n",
       "<table border=\"1\" class=\"dataframe\">\n",
       "  <thead>\n",
       "    <tr style=\"text-align: right;\">\n",
       "      <th></th>\n",
       "      <th>city</th>\n",
       "      <th>country</th>\n",
       "      <th>population</th>\n",
       "    </tr>\n",
       "  </thead>\n",
       "  <tbody>\n",
       "    <tr>\n",
       "      <th>48</th>\n",
       "      <td>Zaporizhia</td>\n",
       "      <td>Ukraine</td>\n",
       "      <td>796217</td>\n",
       "    </tr>\n",
       "    <tr>\n",
       "      <th>49</th>\n",
       "      <td>Marseille</td>\n",
       "      <td>France</td>\n",
       "      <td>794811</td>\n",
       "    </tr>\n",
       "    <tr>\n",
       "      <th>50</th>\n",
       "      <td>Lodz</td>\n",
       "      <td>Poland</td>\n",
       "      <td>768755</td>\n",
       "    </tr>\n",
       "    <tr>\n",
       "      <th>51</th>\n",
       "      <td>Krakow</td>\n",
       "      <td>Poland</td>\n",
       "      <td>755050</td>\n",
       "    </tr>\n",
       "    <tr>\n",
       "      <th>52</th>\n",
       "      <td>Riga</td>\n",
       "      <td>Latvia</td>\n",
       "      <td>742572</td>\n",
       "    </tr>\n",
       "    <tr>\n",
       "      <th>53</th>\n",
       "      <td>Amsterdam</td>\n",
       "      <td>Netherlands</td>\n",
       "      <td>741636</td>\n",
       "    </tr>\n",
       "    <tr>\n",
       "      <th>54</th>\n",
       "      <td>Nottingham</td>\n",
       "      <td>United Kingdom</td>\n",
       "      <td>729977</td>\n",
       "    </tr>\n",
       "    <tr>\n",
       "      <th>55</th>\n",
       "      <td>Lviv</td>\n",
       "      <td>Ukraine</td>\n",
       "      <td>717803</td>\n",
       "    </tr>\n",
       "    <tr>\n",
       "      <th>56</th>\n",
       "      <td>Sevilla</td>\n",
       "      <td>Spain</td>\n",
       "      <td>703206</td>\n",
       "    </tr>\n",
       "    <tr>\n",
       "      <th>57</th>\n",
       "      <td>Tol'yatti</td>\n",
       "      <td>Russia</td>\n",
       "      <td>702879</td>\n",
       "    </tr>\n",
       "  </tbody>\n",
       "</table>\n",
       "</div>"
      ],
      "text/plain": [
       "          city         country  population\n",
       "48  Zaporizhia         Ukraine      796217\n",
       "49   Marseille          France      794811\n",
       "50        Lodz          Poland      768755\n",
       "51      Krakow          Poland      755050\n",
       "52        Riga          Latvia      742572\n",
       "53   Amsterdam     Netherlands      741636\n",
       "54  Nottingham  United Kingdom      729977\n",
       "55        Lviv         Ukraine      717803\n",
       "56     Sevilla           Spain      703206\n",
       "57   Tol'yatti          Russia      702879"
      ]
     },
     "execution_count": 23,
     "metadata": {},
     "output_type": "execute_result"
    }
   ],
   "source": [
    "df[(df['population'] < 800000) & (df['population'] > 700000)]"
   ]
  },
  {
   "cell_type": "markdown",
   "id": "572ff377",
   "metadata": {},
   "source": [
    "````{margin}\n",
    "```{note}\n",
    "Note the use the parentheses\n",
    "```\n",
    "````"
   ]
  },
  {
   "cell_type": "markdown",
   "id": "799cbea7",
   "metadata": {},
   "source": [
    "## Grouping\n",
    "\n",
    "If we wanted to find the total population living in these cities for each country, we **could** write a `for` loop. To do this, we would have to produce a list of individual countries, loop over each country, compute the total, and append to a new list... and then put it back into a new DataFrame. \n",
    "\n",
    "This is what that would look like:"
   ]
  },
  {
   "cell_type": "code",
   "execution_count": 24,
   "id": "9d469d7c",
   "metadata": {},
   "outputs": [],
   "source": [
    "countries = pd.unique(df['country'])\n",
    "\n",
    "total_pop = []\n",
    "for country in countries:\n",
    "    \n",
    "    country_df = df[df['country'] == country]\n",
    "    \n",
    "    total_pop.append(country_df['population'].sum())"
   ]
  },
  {
   "cell_type": "code",
   "execution_count": 25,
   "id": "c9ceaa6a",
   "metadata": {},
   "outputs": [
    {
     "data": {
      "text/html": [
       "<div>\n",
       "<style scoped>\n",
       "    .dataframe tbody tr th:only-of-type {\n",
       "        vertical-align: middle;\n",
       "    }\n",
       "\n",
       "    .dataframe tbody tr th {\n",
       "        vertical-align: top;\n",
       "    }\n",
       "\n",
       "    .dataframe thead th {\n",
       "        text-align: right;\n",
       "    }\n",
       "</style>\n",
       "<table border=\"1\" class=\"dataframe\">\n",
       "  <thead>\n",
       "    <tr style=\"text-align: right;\">\n",
       "      <th></th>\n",
       "      <th>country</th>\n",
       "      <th>population</th>\n",
       "    </tr>\n",
       "  </thead>\n",
       "  <tbody>\n",
       "    <tr>\n",
       "      <th>0</th>\n",
       "      <td>Russia</td>\n",
       "      <td>39954312</td>\n",
       "    </tr>\n",
       "    <tr>\n",
       "      <th>1</th>\n",
       "      <td>United Kingdom</td>\n",
       "      <td>12029600</td>\n",
       "    </tr>\n",
       "    <tr>\n",
       "      <th>2</th>\n",
       "      <td>Germany</td>\n",
       "      <td>11445295</td>\n",
       "    </tr>\n",
       "    <tr>\n",
       "      <th>3</th>\n",
       "      <td>Spain</td>\n",
       "      <td>7637517</td>\n",
       "    </tr>\n",
       "    <tr>\n",
       "      <th>4</th>\n",
       "      <td>Ukraine</td>\n",
       "      <td>9453918</td>\n",
       "    </tr>\n",
       "    <tr>\n",
       "      <th>5</th>\n",
       "      <td>Italy</td>\n",
       "      <td>6614141</td>\n",
       "    </tr>\n",
       "    <tr>\n",
       "      <th>6</th>\n",
       "      <td>France</td>\n",
       "      <td>2933362</td>\n",
       "    </tr>\n",
       "    <tr>\n",
       "      <th>7</th>\n",
       "      <td>Romania</td>\n",
       "      <td>1877155</td>\n",
       "    </tr>\n",
       "    <tr>\n",
       "      <th>8</th>\n",
       "      <td>Belarus</td>\n",
       "      <td>1742124</td>\n",
       "    </tr>\n",
       "    <tr>\n",
       "      <th>9</th>\n",
       "      <td>Hungary</td>\n",
       "      <td>1741041</td>\n",
       "    </tr>\n",
       "  </tbody>\n",
       "</table>\n",
       "</div>"
      ],
      "text/plain": [
       "          country  population\n",
       "0          Russia    39954312\n",
       "1  United Kingdom    12029600\n",
       "2         Germany    11445295\n",
       "3           Spain     7637517\n",
       "4         Ukraine     9453918\n",
       "5           Italy     6614141\n",
       "6          France     2933362\n",
       "7         Romania     1877155\n",
       "8         Belarus     1742124\n",
       "9         Hungary     1741041"
      ]
     },
     "execution_count": 25,
     "metadata": {},
     "output_type": "execute_result"
    }
   ],
   "source": [
    "new_df = pd.DataFrame({'country': countries,\n",
    "                       'population': total_pop})\n",
    "new_df.head(10)"
   ]
  },
  {
   "cell_type": "markdown",
   "id": "cab46b92",
   "metadata": {},
   "source": [
    "But a better way of doing this would be to use the `groupby()` function."
   ]
  },
  {
   "cell_type": "code",
   "execution_count": 30,
   "id": "fc084b0e",
   "metadata": {},
   "outputs": [
    {
     "data": {
      "text/plain": [
       "country\n",
       "Austria                    1691468\n",
       "Belarus                    1742124\n",
       "Belgium                    1019022\n",
       "Bosnia and Herzegovina      696731\n",
       "Bulgaria                   1152556\n",
       "Croatia                     698966\n",
       "Czech Republic             1165581\n",
       "Denmark                    1153615\n",
       "Finland                     558457\n",
       "France                     2933362\n",
       "Germany                   11445295\n",
       "Greece                      664046\n",
       "Hungary                    1741041\n",
       "Ireland                    1024027\n",
       "Italy                      6614141\n",
       "Latvia                      742572\n",
       "Lithuania                   542366\n",
       "Moldova                     635994\n",
       "Netherlands                1339835\n",
       "Norway                      580000\n",
       "Poland                     4431189\n",
       "Portugal                    517802\n",
       "Romania                    1877155\n",
       "Russia                    39954312\n",
       "Serbia                     1273651\n",
       "Spain                      7637517\n",
       "Sweden                     2087816\n",
       "Ukraine                    9453918\n",
       "United Kingdom            12029600\n",
       "Name: population, dtype: int64"
      ]
     },
     "execution_count": 30,
     "metadata": {},
     "output_type": "execute_result"
    }
   ],
   "source": [
    "df.groupby('country')['population'].sum()"
   ]
  },
  {
   "cell_type": "markdown",
   "id": "fda431f6",
   "metadata": {},
   "source": [
    "The first argument `groupby` takes is the **which** column we want group our data into (`country` in our case). Next, it takes a column (or list of columns) to summarize (`population`). Finally, this function does nothing until we specific **how** we want to group our data.\n",
    "\n",
    "It's actually nice to **reset the index** after using `groupby` so that we end up with a DataFrame (rather than a Series). "
   ]
  },
  {
   "cell_type": "code",
   "execution_count": 31,
   "id": "6fe3f20c",
   "metadata": {},
   "outputs": [
    {
     "data": {
      "text/plain": [
       "pandas.core.frame.DataFrame"
      ]
     },
     "execution_count": 31,
     "metadata": {},
     "output_type": "execute_result"
    }
   ],
   "source": [
    "new_df = df.groupby('country')['population'].sum().reset_index()\n",
    "new_df.head(10)"
   ]
  },
  {
   "cell_type": "markdown",
   "id": "81dc6aa5",
   "metadata": {},
   "source": [
    "We hope you will agree that the `groupby` method is much cleaner and interpretable. It is also a lot faster which may be important when we have very large DataFrames with millions of rows. "
   ]
  },
  {
   "cell_type": "markdown",
   "id": "e9bcbc13",
   "metadata": {},
   "source": [
    "```{note}\n",
    "To summarize multiple columns we could include a list of columns like so: `df.groupby('country')[['city','population']].sum()` but this would not produce anything different in our case because a string variable cannot be **summed**.\n",
    "```"
   ]
  },
  {
   "cell_type": "markdown",
   "id": "97ddf37b",
   "metadata": {},
   "source": [
    "## Sorting\n",
    "\n",
    "Similar to lists, we can **sort** DataFrames using the `sort_values` function. This function takes two arguments, `by` and `ascending` which determine which column and which order we would like to sort by. So to find the 10 largest cities in Europe by population we could type:"
   ]
  },
  {
   "cell_type": "code",
   "execution_count": 175,
   "id": "3d1eb970",
   "metadata": {},
   "outputs": [
    {
     "data": {
      "text/html": [
       "<div>\n",
       "<style scoped>\n",
       "    .dataframe tbody tr th:only-of-type {\n",
       "        vertical-align: middle;\n",
       "    }\n",
       "\n",
       "    .dataframe tbody tr th {\n",
       "        vertical-align: top;\n",
       "    }\n",
       "\n",
       "    .dataframe thead th {\n",
       "        text-align: right;\n",
       "    }\n",
       "</style>\n",
       "<table border=\"1\" class=\"dataframe\">\n",
       "  <thead>\n",
       "    <tr style=\"text-align: right;\">\n",
       "      <th></th>\n",
       "      <th>city</th>\n",
       "      <th>country</th>\n",
       "      <th>population</th>\n",
       "    </tr>\n",
       "  </thead>\n",
       "  <tbody>\n",
       "    <tr>\n",
       "      <th>0</th>\n",
       "      <td>Moscow</td>\n",
       "      <td>Russia</td>\n",
       "      <td>10381222</td>\n",
       "    </tr>\n",
       "    <tr>\n",
       "      <th>1</th>\n",
       "      <td>London</td>\n",
       "      <td>United Kingdom</td>\n",
       "      <td>7556900</td>\n",
       "    </tr>\n",
       "    <tr>\n",
       "      <th>2</th>\n",
       "      <td>Saint Petersburg</td>\n",
       "      <td>Russia</td>\n",
       "      <td>5028000</td>\n",
       "    </tr>\n",
       "    <tr>\n",
       "      <th>3</th>\n",
       "      <td>Berlin</td>\n",
       "      <td>Germany</td>\n",
       "      <td>3426354</td>\n",
       "    </tr>\n",
       "    <tr>\n",
       "      <th>4</th>\n",
       "      <td>Madrid</td>\n",
       "      <td>Spain</td>\n",
       "      <td>3255944</td>\n",
       "    </tr>\n",
       "    <tr>\n",
       "      <th>5</th>\n",
       "      <td>Kyiv</td>\n",
       "      <td>Ukraine</td>\n",
       "      <td>2797553</td>\n",
       "    </tr>\n",
       "    <tr>\n",
       "      <th>6</th>\n",
       "      <td>Rome</td>\n",
       "      <td>Italy</td>\n",
       "      <td>2318895</td>\n",
       "    </tr>\n",
       "    <tr>\n",
       "      <th>7</th>\n",
       "      <td>Paris</td>\n",
       "      <td>France</td>\n",
       "      <td>2138551</td>\n",
       "    </tr>\n",
       "    <tr>\n",
       "      <th>8</th>\n",
       "      <td>Bucharest</td>\n",
       "      <td>Romania</td>\n",
       "      <td>1877155</td>\n",
       "    </tr>\n",
       "    <tr>\n",
       "      <th>9</th>\n",
       "      <td>Minsk</td>\n",
       "      <td>Belarus</td>\n",
       "      <td>1742124</td>\n",
       "    </tr>\n",
       "  </tbody>\n",
       "</table>\n",
       "</div>"
      ],
      "text/plain": [
       "               city         country  population\n",
       "0            Moscow          Russia    10381222\n",
       "1            London  United Kingdom     7556900\n",
       "2  Saint Petersburg          Russia     5028000\n",
       "3            Berlin         Germany     3426354\n",
       "4            Madrid           Spain     3255944\n",
       "5              Kyiv         Ukraine     2797553\n",
       "6              Rome           Italy     2318895\n",
       "7             Paris          France     2138551\n",
       "8         Bucharest         Romania     1877155\n",
       "9             Minsk         Belarus     1742124"
      ]
     },
     "execution_count": 175,
     "metadata": {},
     "output_type": "execute_result"
    }
   ],
   "source": [
    "df.sort_values(by='population', ascending=False).head(10)"
   ]
  },
  {
   "cell_type": "markdown",
   "id": "32c1efea",
   "metadata": {},
   "source": [
    "Another way of doing this would be to use the `nlargest()` or `nsmallest()` function. Documentation [here](https://pandas.pydata.org/docs/reference/api/pandas.DataFrame.nlargest.html)."
   ]
  },
  {
   "cell_type": "markdown",
   "id": "fbf00c35",
   "metadata": {},
   "source": [
    "## Saving \n",
    "\n",
    "We can save our DataFrames just as easy as reading the original file using the `.to_csv` function"
   ]
  },
  {
   "cell_type": "code",
   "execution_count": 112,
   "id": "7e4195f4",
   "metadata": {},
   "outputs": [],
   "source": [
    "new_df.to_csv('data/new.csv')"
   ]
  }
 ],
 "metadata": {
  "kernelspec": {
   "display_name": "Python 3 (ipykernel)",
   "language": "python",
   "name": "python3"
  },
  "language_info": {
   "codemirror_mode": {
    "name": "ipython",
    "version": 3
   },
   "file_extension": ".py",
   "mimetype": "text/x-python",
   "name": "python",
   "nbconvert_exporter": "python",
   "pygments_lexer": "ipython3",
   "version": "3.8.12"
  }
 },
 "nbformat": 4,
 "nbformat_minor": 5
}
