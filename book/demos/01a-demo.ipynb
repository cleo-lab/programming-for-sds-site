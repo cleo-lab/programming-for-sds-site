{
 "cells": [
  {
   "cell_type": "markdown",
   "id": "34f74295",
   "metadata": {},
   "source": [
    "# Variables, data types, and structures\n",
    "\n",
    "Welcome to the **first demo** of the course! In these demos, we will work through some key concepts with plenty of examples. Understanding these concepts will be required to complete the weekly assignments. But it is up to you how quickly you work through them. It is perfectly fine if you would like to go straight to the assignment and refer back to these demos as necessary. "
   ]
  },
  {
   "cell_type": "markdown",
   "id": "212d71a8",
   "metadata": {},
   "source": [
    "## It's a calculator\n",
    "\n",
    "A Python interpreter can be used as a calculator."
   ]
  },
  {
   "cell_type": "code",
   "execution_count": 2,
   "id": "d266c0ad",
   "metadata": {},
   "outputs": [
    {
     "data": {
      "text/plain": [
       "6"
      ]
     },
     "execution_count": 2,
     "metadata": {},
     "output_type": "execute_result"
    }
   ],
   "source": [
    "3 + 3"
   ]
  },
  {
   "cell_type": "code",
   "execution_count": 3,
   "id": "be8ed909",
   "metadata": {},
   "outputs": [
    {
     "data": {
      "text/plain": [
       "9"
      ]
     },
     "execution_count": 3,
     "metadata": {},
     "output_type": "execute_result"
    }
   ],
   "source": [
    "3 * 3"
   ]
  },
  {
   "cell_type": "code",
   "execution_count": 32,
   "id": "7b12394a",
   "metadata": {},
   "outputs": [
    {
     "data": {
      "text/plain": [
       "1.0"
      ]
     },
     "execution_count": 32,
     "metadata": {},
     "output_type": "execute_result"
    }
   ],
   "source": [
    "3 / 3"
   ]
  },
  {
   "cell_type": "markdown",
   "id": "bfd28cfe",
   "metadata": {},
   "source": [
    "## Variables\n",
    "\n",
    "This is great but to do something more useful with data, we need to assign its value to a **variable**. Variables are one of the fundamental building blocks of Python. A variable is like a tiny container where you store values and data, such as filenames, words, numbers, collections of words and numbers. In Python, we can assign a variable using the equals sign `=`. For example, we can track the height of a tree by assigning an integer value of `30` to a variable `height_m`."
   ]
  },
  {
   "cell_type": "code",
   "execution_count": 2,
   "id": "2a6e742b",
   "metadata": {},
   "outputs": [],
   "source": [
    "height_m = 30"
   ]
  },
  {
   "cell_type": "markdown",
   "id": "50e1da9b",
   "metadata": {},
   "source": [
    "We can also make a **string** variable by adding single (`'`) or double quotes (`\"`) around some text. "
   ]
  },
  {
   "cell_type": "code",
   "execution_count": 3,
   "id": "c7b3f5a1",
   "metadata": {},
   "outputs": [],
   "source": [
    "tree = 'douglas_fir'"
   ]
  },
  {
   "cell_type": "markdown",
   "id": "1e434145",
   "metadata": {},
   "source": [
    "```{note}\n",
    "Python is \"dynamically typed\" meaning that it automatically interprets the correct data type at run-time\n",
    "```"
   ]
  },
  {
   "cell_type": "markdown",
   "id": "c6d4f271",
   "metadata": {},
   "source": [
    "### Variable usage"
   ]
  },
  {
   "cell_type": "markdown",
   "id": "9c539c95",
   "metadata": {},
   "source": [
    "Once we have data stored with variable names, we can make use of it in calculations. We may want to store our tree height value in feet as well as meters"
   ]
  },
  {
   "cell_type": "code",
   "execution_count": 4,
   "id": "0379bbad",
   "metadata": {},
   "outputs": [],
   "source": [
    "height_ft = height_m * 3.281"
   ]
  },
  {
   "cell_type": "markdown",
   "id": "9368b7c7",
   "metadata": {},
   "source": [
    "Likewise, we might want to add a suffix to our tree so we can identify it later."
   ]
  },
  {
   "cell_type": "code",
   "execution_count": 7,
   "id": "ad8844bc",
   "metadata": {},
   "outputs": [],
   "source": [
    "tree1 = tree + '_1'"
   ]
  },
  {
   "cell_type": "markdown",
   "id": "52a70b8d",
   "metadata": {},
   "source": [
    "### Variable names\n",
    "\n",
    "It is good practice to make variable names as descriptive as possible. They can include:\n",
    "\n",
    "* upper and lower-case letters (`a-z`, `A-Z`)\n",
    "\n",
    "* digits (`0-9`)\n",
    "\n",
    "* underscores (`_`)\n",
    "\n",
    "However, variable names **cannot** include:\n",
    "\n",
    "❌ other punctuation (`-.!?@`)\n",
    "\n",
    "❌ spaces (` `)\n",
    "\n",
    "❌ a reserved Python word (e.g. `print`, `type`)\n"
   ]
  },
  {
   "cell_type": "markdown",
   "id": "c425e239",
   "metadata": {},
   "source": [
    "## Built-in functions"
   ]
  },
  {
   "cell_type": "markdown",
   "id": "0e31ce93",
   "metadata": {},
   "source": [
    "Python has a number of built-in functions to carry out common tasks with data and variables. For example, we can use the `print` function to **display information** to the screen."
   ]
  },
  {
   "cell_type": "code",
   "execution_count": 8,
   "id": "5a8c5eb5",
   "metadata": {},
   "outputs": [
    {
     "name": "stdout",
     "output_type": "stream",
     "text": [
      "98.43\n"
     ]
    }
   ],
   "source": [
    "print(height_ft)"
   ]
  },
  {
   "cell_type": "code",
   "execution_count": 9,
   "id": "3d20914d",
   "metadata": {},
   "outputs": [
    {
     "name": "stdout",
     "output_type": "stream",
     "text": [
      "douglas_fir_1\n"
     ]
    }
   ],
   "source": [
    "print(tree1)"
   ]
  },
  {
   "cell_type": "markdown",
   "id": "0332f59a",
   "metadata": {},
   "source": [
    "````{margin}\n",
    "```{note}\n",
    "Note the use of parentheses `()` to let the function know which value we want to display.\n",
    "```\n",
    "````"
   ]
  },
  {
   "cell_type": "markdown",
   "id": "a024c8d1",
   "metadata": {},
   "source": [
    "Python also has a built-in function called `type` which outputs a value's **data type**"
   ]
  },
  {
   "cell_type": "code",
   "execution_count": 10,
   "id": "87f34bdd",
   "metadata": {},
   "outputs": [
    {
     "data": {
      "text/plain": [
       "float"
      ]
     },
     "execution_count": 10,
     "metadata": {},
     "output_type": "execute_result"
    }
   ],
   "source": [
    "type(height_ft)"
   ]
  },
  {
   "cell_type": "code",
   "execution_count": 11,
   "id": "e65c2e5c",
   "metadata": {},
   "outputs": [
    {
     "data": {
      "text/plain": [
       "str"
      ]
     },
     "execution_count": 11,
     "metadata": {},
     "output_type": "execute_result"
    }
   ],
   "source": [
    "type(tree1)"
   ]
  },
  {
   "cell_type": "markdown",
   "id": "37dd4b24",
   "metadata": {},
   "source": [
    "The three most common data types that we will come across in Spatial Data Science are integer numbers (`int`), floating-point numbers (`float`) and strings (`str`). We may also encounter boolean data types (`bool`) which may have one of two values, `True` or `False`.\n",
    "\n",
    "| Data Type     | Explanation          | Example  |\n",
    "| ------------- |:-------------:| -----:|\n",
    "| String        | Text | ```\"july\"``` |\n",
    "| Integer       | Whole numbers      |   ```42``` |\n",
    "| Float         | Decimal numbers      |   ```84.2``` |\n",
    "| Boolean       | True/False     |   ```False``` |\n",
    "\n",
    "We can use another built-in function to change the data type of our variable (e.g. to `int`)."
   ]
  },
  {
   "cell_type": "code",
   "execution_count": 12,
   "id": "5f9d6ab1",
   "metadata": {},
   "outputs": [
    {
     "data": {
      "text/plain": [
       "98"
      ]
     },
     "execution_count": 12,
     "metadata": {},
     "output_type": "execute_result"
    }
   ],
   "source": [
    "int(height_ft)"
   ]
  },
  {
   "cell_type": "code",
   "execution_count": 21,
   "id": "853c2727",
   "metadata": {},
   "outputs": [
    {
     "data": {
      "text/plain": [
       "bool"
      ]
     },
     "execution_count": 21,
     "metadata": {},
     "output_type": "execute_result"
    }
   ],
   "source": [
    "evergreen = True\n",
    "type(evergreen)"
   ]
  },
  {
   "cell_type": "code",
   "execution_count": 20,
   "id": "a24af088",
   "metadata": {},
   "outputs": [
    {
     "data": {
      "text/plain": [
       "1"
      ]
     },
     "execution_count": 20,
     "metadata": {},
     "output_type": "execute_result"
    }
   ],
   "source": [
    "int(evergreen)"
   ]
  },
  {
   "cell_type": "markdown",
   "id": "58fd40c4",
   "metadata": {},
   "source": [
    "A full list of built-in functions and their usage can be found [here](https://docs.python.org/3/library/functions.html)."
   ]
  },
  {
   "cell_type": "markdown",
   "id": "084e3e24",
   "metadata": {},
   "source": [
    "## Lists\n",
    "\n",
    "Sometimes we might want to store a **collection of items** in a single variable. The simplest type of collection in Python is a `list` which can be defined using square brackets `[` and commas `,`."
   ]
  },
  {
   "cell_type": "code",
   "execution_count": 2,
   "id": "9700b239",
   "metadata": {},
   "outputs": [],
   "source": [
    "places = ['Eugene', 'Veneta', 'Noti', 'Mapleton', 'Florence']"
   ]
  },
  {
   "cell_type": "code",
   "execution_count": 3,
   "id": "3ab63f8d",
   "metadata": {},
   "outputs": [
    {
     "data": {
      "text/plain": [
       "list"
      ]
     },
     "execution_count": 3,
     "metadata": {},
     "output_type": "execute_result"
    }
   ],
   "source": [
    "type(places)"
   ]
  },
  {
   "cell_type": "markdown",
   "id": "73971aa8",
   "metadata": {},
   "source": [
    "### Indexing\n",
    "\n",
    "We can access individual items in a list using an **index** value. An index value is a **number** that refers to a position in the list. We can access the **second** value of the list by running:"
   ]
  },
  {
   "cell_type": "code",
   "execution_count": 7,
   "id": "4b74f82c",
   "metadata": {},
   "outputs": [
    {
     "data": {
      "text/plain": [
       "'Veneta'"
      ]
     },
     "execution_count": 7,
     "metadata": {},
     "output_type": "execute_result"
    }
   ],
   "source": [
    "places[1]"
   ]
  },
  {
   "cell_type": "markdown",
   "id": "19b4efcf",
   "metadata": {},
   "source": [
    "````{margin}\n",
    "```{note}\n",
    "Python uses **zero-based indexing** meaning that the first item of a list is accessed using the index value **0**.\n",
    "```\n",
    "````"
   ]
  },
  {
   "cell_type": "markdown",
   "id": "fbfa53cb",
   "metadata": {},
   "source": [
    "We can find the number of items in a list using the `len()` function. "
   ]
  },
  {
   "cell_type": "code",
   "execution_count": 8,
   "id": "8e7e1abe",
   "metadata": {},
   "outputs": [
    {
     "data": {
      "text/plain": [
       "5"
      ]
     },
     "execution_count": 8,
     "metadata": {},
     "output_type": "execute_result"
    }
   ],
   "source": [
    "len(places)"
   ]
  },
  {
   "cell_type": "markdown",
   "id": "7d2bd2d9",
   "metadata": {},
   "source": [
    "If we know the number of items in the list, we can access the last item by running:"
   ]
  },
  {
   "cell_type": "code",
   "execution_count": 9,
   "id": "409a45dc",
   "metadata": {},
   "outputs": [
    {
     "data": {
      "text/plain": [
       "'Florence'"
      ]
     },
     "execution_count": 9,
     "metadata": {},
     "output_type": "execute_result"
    }
   ],
   "source": [
    "places[4]"
   ]
  },
  {
   "cell_type": "markdown",
   "id": "4bdde7ad",
   "metadata": {},
   "source": [
    "But if the number of items in the list changes, we would have to update our code. A more robust way of finding the last item of the list is to run:"
   ]
  },
  {
   "cell_type": "code",
   "execution_count": 10,
   "id": "54635487",
   "metadata": {},
   "outputs": [
    {
     "data": {
      "text/plain": [
       "'Florence'"
      ]
     },
     "execution_count": 10,
     "metadata": {},
     "output_type": "execute_result"
    }
   ],
   "source": [
    "places[len(places) - 1]"
   ]
  },
  {
   "cell_type": "markdown",
   "id": "0dc5a747",
   "metadata": {},
   "source": [
    "We can also refer to the last item using **negative numbers** which index the list in **reverse**. The shortest, most Pythonic way to find the last element is a list is therefore to use `-1`."
   ]
  },
  {
   "cell_type": "code",
   "execution_count": 11,
   "id": "38e78d83",
   "metadata": {},
   "outputs": [
    {
     "data": {
      "text/plain": [
       "'Florence'"
      ]
     },
     "execution_count": 11,
     "metadata": {},
     "output_type": "execute_result"
    }
   ],
   "source": [
    "places[-1]"
   ]
  },
  {
   "cell_type": "markdown",
   "id": "266b26df",
   "metadata": {},
   "source": [
    "### Slicing\n",
    "\n",
    "Slicing is similar to indexing except that we are looking to return a subset of items based their indices. We use a colon `:` to slice lists. For example, we can return the second and third items from out list."
   ]
  },
  {
   "cell_type": "code",
   "execution_count": 12,
   "id": "00ef7e3e",
   "metadata": {},
   "outputs": [
    {
     "data": {
      "text/plain": [
       "['Veneta', 'Noti']"
      ]
     },
     "execution_count": 12,
     "metadata": {},
     "output_type": "execute_result"
    }
   ],
   "source": [
    "places[1:3]"
   ]
  },
  {
   "cell_type": "markdown",
   "id": "a105230a",
   "metadata": {},
   "source": [
    "````{margin}\n",
    "```{note}\n",
    "The first number represents index item to include and second number is the index item to stop at *without including it in the slice*.\n",
    "```\n",
    "````"
   ]
  },
  {
   "cell_type": "markdown",
   "id": "c6e89070",
   "metadata": {},
   "source": [
    "Leaving either side of the colon blank means start from (or go to) the end of the list. For example:"
   ]
  },
  {
   "cell_type": "code",
   "execution_count": 13,
   "id": "719d519a",
   "metadata": {},
   "outputs": [
    {
     "data": {
      "text/plain": [
       "['Mapleton', 'Florence']"
      ]
     },
     "execution_count": 13,
     "metadata": {},
     "output_type": "execute_result"
    }
   ],
   "source": [
    "places[3:]"
   ]
  },
  {
   "cell_type": "code",
   "execution_count": 14,
   "id": "2936b725",
   "metadata": {},
   "outputs": [
    {
     "data": {
      "text/plain": [
       "['Eugene', 'Veneta', 'Noti']"
      ]
     },
     "execution_count": 14,
     "metadata": {},
     "output_type": "execute_result"
    }
   ],
   "source": [
    "places[:3]"
   ]
  },
  {
   "cell_type": "markdown",
   "id": "f1d67826",
   "metadata": {},
   "source": [
    "### Stepping\n",
    "\n",
    "We can use double colons `::` to set the interval at which items are included in the slice. So we can get every **second** item in the list (starting from index `0` by running:"
   ]
  },
  {
   "cell_type": "code",
   "execution_count": 15,
   "id": "f9b07861",
   "metadata": {},
   "outputs": [
    {
     "data": {
      "text/plain": [
       "['Eugene', 'Noti', 'Florence']"
      ]
     },
     "execution_count": 15,
     "metadata": {},
     "output_type": "execute_result"
    }
   ],
   "source": [
    "places[::2]"
   ]
  },
  {
   "cell_type": "markdown",
   "id": "8e3628cb",
   "metadata": {},
   "source": [
    "If we wanted to start at index `1`, we could run:"
   ]
  },
  {
   "cell_type": "code",
   "execution_count": 16,
   "id": "063d523d",
   "metadata": {},
   "outputs": [
    {
     "data": {
      "text/plain": [
       "['Veneta', 'Mapleton']"
      ]
     },
     "execution_count": 16,
     "metadata": {},
     "output_type": "execute_result"
    }
   ],
   "source": [
    "places[1::2]"
   ]
  },
  {
   "cell_type": "markdown",
   "id": "d87a764c",
   "metadata": {},
   "source": [
    "## List methods\n",
    "\n",
    "Methods are similar to the built-in functions we used earlier but are called on the object itself. A complete list of list methods can be found [here](https://www.w3schools.com/python/python_ref_list.asp). Here are some examples.\n",
    "\n",
    "We can add items to a list using the `.append` method."
   ]
  },
  {
   "cell_type": "code",
   "execution_count": 17,
   "id": "45d848b6",
   "metadata": {},
   "outputs": [],
   "source": [
    "places.append(\"Coos Bay\")"
   ]
  },
  {
   "cell_type": "markdown",
   "id": "d6ca8124",
   "metadata": {},
   "source": [
    "````{margin}\n",
    "```{note}\n",
    "Adding items to lists is a very common task in programming (e.g. in `for loops`) so we will see this `.append` method again and again during this course.\n",
    "```\n",
    "````"
   ]
  },
  {
   "cell_type": "code",
   "execution_count": 18,
   "id": "c9afaab4",
   "metadata": {},
   "outputs": [
    {
     "name": "stdout",
     "output_type": "stream",
     "text": [
      "['Eugene', 'Veneta', 'Noti', 'Mapleton', 'Florence', 'Coos Bay']\n"
     ]
    }
   ],
   "source": [
    "print(places)"
   ]
  },
  {
   "cell_type": "markdown",
   "id": "4f6e4475",
   "metadata": {},
   "source": [
    "### Other useful list methods\n",
    "\n",
    "We can use methods to count the number of occurences of an item:"
   ]
  },
  {
   "cell_type": "code",
   "execution_count": 19,
   "id": "8defa71e",
   "metadata": {},
   "outputs": [
    {
     "data": {
      "text/plain": [
       "1"
      ]
     },
     "execution_count": 19,
     "metadata": {},
     "output_type": "execute_result"
    }
   ],
   "source": [
    "places.count('Eugene')"
   ]
  },
  {
   "cell_type": "markdown",
   "id": "55d00095",
   "metadata": {},
   "source": [
    "Find the index value of a given item in a list:"
   ]
  },
  {
   "cell_type": "code",
   "execution_count": 49,
   "id": "83dc4459",
   "metadata": {},
   "outputs": [
    {
     "data": {
      "text/plain": [
       "0"
      ]
     },
     "execution_count": 49,
     "metadata": {},
     "output_type": "execute_result"
    }
   ],
   "source": [
    "places.index('Eugene')"
   ]
  },
  {
   "cell_type": "markdown",
   "id": "00afc674",
   "metadata": {},
   "source": [
    "Reverse list"
   ]
  },
  {
   "cell_type": "code",
   "execution_count": 50,
   "id": "5d1081de",
   "metadata": {},
   "outputs": [
    {
     "name": "stdout",
     "output_type": "stream",
     "text": [
      "['Coos Bay', 'Veneta', 'Noti', 'Mapleton', 'Florence', 'Eugene']\n"
     ]
    }
   ],
   "source": [
    "places.reverse()\n",
    "print(places)"
   ]
  },
  {
   "cell_type": "markdown",
   "id": "3556ba01",
   "metadata": {},
   "source": [
    "Sort a list alphabetically"
   ]
  },
  {
   "cell_type": "code",
   "execution_count": 51,
   "id": "824e9b1b",
   "metadata": {},
   "outputs": [
    {
     "name": "stdout",
     "output_type": "stream",
     "text": [
      "['Coos Bay', 'Eugene', 'Florence', 'Mapleton', 'Noti', 'Veneta']\n"
     ]
    }
   ],
   "source": [
    "places.sort()\n",
    "print(places)"
   ]
  },
  {
   "cell_type": "markdown",
   "id": "4ea9f5cd",
   "metadata": {},
   "source": [
    "Remove an item from the list"
   ]
  },
  {
   "cell_type": "code",
   "execution_count": 52,
   "id": "4655a878",
   "metadata": {},
   "outputs": [
    {
     "name": "stdout",
     "output_type": "stream",
     "text": [
      "['Eugene', 'Florence', 'Mapleton', 'Noti', 'Veneta']\n"
     ]
    }
   ],
   "source": [
    "places.remove('Coos Bay')\n",
    "print(places)"
   ]
  },
  {
   "cell_type": "markdown",
   "id": "5ae951d6",
   "metadata": {},
   "source": [
    "```{note}\n",
    "Some methods return numbers so we can use the `=` sign to assign the output as a variable (e.g. `number = places.count('Eugene')`). Other methods update the variable automatically so we don't need an `=` sign.\n",
    "```"
   ]
  },
  {
   "cell_type": "markdown",
   "id": "2e369dc3",
   "metadata": {},
   "source": [
    "## Acknowledgments\n",
    "\n",
    "This lesson was inspired by [Programming in Python lessons](https://swcarpentry.github.io/python-novice-inflammation/01-intro/index.html) by [Software Carpentary](https://software-carpentry.org/) and the [Geo-Python](https://geo-python-site.readthedocs.io/en/latest/notebooks/L1/a-taste-of-python.html) course taught at the University of Helsinki. "
   ]
  },
  {
   "cell_type": "code",
   "execution_count": null,
   "id": "83e02741",
   "metadata": {},
   "outputs": [],
   "source": []
  }
 ],
 "metadata": {
  "kernelspec": {
   "display_name": "Python 3 (ipykernel)",
   "language": "python",
   "name": "python3"
  },
  "language_info": {
   "codemirror_mode": {
    "name": "ipython",
    "version": 3
   },
   "file_extension": ".py",
   "mimetype": "text/x-python",
   "name": "python",
   "nbconvert_exporter": "python",
   "pygments_lexer": "ipython3",
   "version": "3.8.12"
  }
 },
 "nbformat": 4,
 "nbformat_minor": 5
}
