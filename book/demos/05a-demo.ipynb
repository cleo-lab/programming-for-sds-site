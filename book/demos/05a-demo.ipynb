{
 "cells": [
  {
   "cell_type": "markdown",
   "id": "6879dc83",
   "metadata": {},
   "source": [
    "# Functions\n",
    "\n",
    "When we write code, we want it to be as concise as possible while retaining readability. Sometimes we find ourselves writing out the same block over and over again. If we are doing this, it may be time to define a **function**, a self-contained program that can perform a specific task repeatedly in your code. "
   ]
  },
  {
   "cell_type": "markdown",
   "id": "d2e80584",
   "metadata": {},
   "source": [
    "## Anatomy of a function\n",
    "\n",
    "An example is always useful for communicating a new concept. Let's define our first function:"
   ]
  },
  {
   "cell_type": "code",
   "execution_count": 7,
   "id": "1e89bedd",
   "metadata": {},
   "outputs": [],
   "source": [
    "def fahr_to_celsius(temp_fahrenheit):\n",
    "    \n",
    "    temp_celsius = (temp_fahrenheit - 32) * (5/9)\n",
    "    \n",
    "    return temp_celsius"
   ]
  },
  {
   "cell_type": "markdown",
   "id": "bb97333f",
   "metadata": {},
   "source": [
    "So what is going on here?\n",
    "\n",
    "* The function definition opens with the keyword `def` followed by the **name** of the function and a list of **parameters** in parentheses. \n",
    "\n",
    "\n",
    "* The **body** of the function — the code that is executed when it runs — is **indented** below the definition line.\n",
    "\n",
    "\n",
    "* At the end of the function, we use a `return` statement to define the value that should be output when the function is called.\n",
    "\n",
    "\n",
    "* Defining a function does nothing other than make it available for use in our notebooks. \n",
    "\n",
    "\n",
    "* In order to use the function we need to call it using the **name** of the function with the provided value(s) inside **parentheses**. "
   ]
  },
  {
   "cell_type": "code",
   "execution_count": 12,
   "id": "825c5626",
   "metadata": {},
   "outputs": [
    {
     "data": {
      "text/plain": [
       "32.22222222222222"
      ]
     },
     "execution_count": 12,
     "metadata": {},
     "output_type": "execute_result"
    }
   ],
   "source": [
    "fahr_to_celsius(90)"
   ]
  },
  {
   "cell_type": "markdown",
   "id": "bc86541f",
   "metadata": {},
   "source": [
    "We can also assign the output of the function to a new variable:"
   ]
  },
  {
   "cell_type": "code",
   "execution_count": 13,
   "id": "04a52812",
   "metadata": {},
   "outputs": [
    {
     "data": {
      "text/plain": [
       "32.22222222222222"
      ]
     },
     "execution_count": 13,
     "metadata": {},
     "output_type": "execute_result"
    }
   ],
   "source": [
    "celsius = fahr_to_celsius(90)\n",
    "celsius"
   ]
  },
  {
   "cell_type": "code",
   "execution_count": null,
   "id": "40d3a88f",
   "metadata": {},
   "outputs": [],
   "source": []
  },
  {
   "cell_type": "code",
   "execution_count": null,
   "id": "0fa5f4b3",
   "metadata": {},
   "outputs": [],
   "source": []
  },
  {
   "cell_type": "code",
   "execution_count": null,
   "id": "9c3b9673",
   "metadata": {},
   "outputs": [],
   "source": []
  },
  {
   "cell_type": "code",
   "execution_count": null,
   "id": "f191a700",
   "metadata": {},
   "outputs": [],
   "source": []
  },
  {
   "cell_type": "code",
   "execution_count": null,
   "id": "03ffc0d4",
   "metadata": {},
   "outputs": [],
   "source": []
  },
  {
   "cell_type": "markdown",
   "id": "b5243c4c",
   "metadata": {},
   "source": [
    "This is an insight into how larger programs are built. We first define some basic operations, then we combine them in ever-larger chunks to produce the effect we want."
   ]
  }
 ],
 "metadata": {
  "kernelspec": {
   "display_name": "Python 3 (ipykernel)",
   "language": "python",
   "name": "python3"
  },
  "language_info": {
   "codemirror_mode": {
    "name": "ipython",
    "version": 3
   },
   "file_extension": ".py",
   "mimetype": "text/x-python",
   "name": "python",
   "nbconvert_exporter": "python",
   "pygments_lexer": "ipython3",
   "version": "3.8.12"
  }
 },
 "nbformat": 4,
 "nbformat_minor": 5
}
